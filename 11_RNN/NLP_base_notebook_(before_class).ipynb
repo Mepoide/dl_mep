{
  "nbformat": 4,
  "nbformat_minor": 0,
  "metadata": {
    "colab": {
      "name": "NLP_base_notebook_(before_class).ipynb",
      "version": "0.3.2",
      "provenance": [],
      "collapsed_sections": []
    },
    "kernelspec": {
      "name": "python3",
      "display_name": "Python 3"
    },
    "accelerator": "TPU"
  },
  "cells": [
    {
      "metadata": {
        "id": "K_DenEigZXln",
        "colab_type": "text"
      },
      "cell_type": "markdown",
      "source": [
        "# Processing natural language with Neural Networks"
      ]
    },
    {
      "metadata": {
        "id": "Q124IgXxaTdV",
        "colab_type": "code",
        "outputId": "1b7f7a0d-4a85-4059-ffa0-30019cbe95e8",
        "colab": {
          "base_uri": "https://localhost:8080/",
          "height": 35
        }
      },
      "cell_type": "code",
      "source": [
        "%pylab inline\n",
        "plt.style.use('seaborn-talk')"
      ],
      "execution_count": 0,
      "outputs": [
        {
          "output_type": "stream",
          "text": [
            "Populating the interactive namespace from numpy and matplotlib\n"
          ],
          "name": "stdout"
        }
      ]
    },
    {
      "metadata": {
        "id": "OUmGc53waUkw",
        "colab_type": "code",
        "colab": {}
      },
      "cell_type": "code",
      "source": [
        "def plot_metric(history, metric):\n",
        "    history_dict = history.history\n",
        "    values = history_dict[metric]\n",
        "    if 'val_' + metric in history_dict.keys():  \n",
        "        val_values = history_dict['val_' + metric]\n",
        "\n",
        "    epochs = range(1, len(values) + 1)\n",
        "\n",
        "    if 'val_' + metric in history_dict.keys():  \n",
        "        plt.plot(epochs, val_values, label='Validation')\n",
        "    plt.semilogy(epochs, values, label='Training')\n",
        "\n",
        "    if 'val_' + metric in history_dict.keys():  \n",
        "        plt.title('Training and validation %s' % metric)\n",
        "    else:\n",
        "        plt.title('Training %s' % metric)\n",
        "    plt.xlabel('Epochs')\n",
        "    plt.ylabel(metric.capitalize())\n",
        "    plt.legend()\n",
        "    plt.grid()\n",
        "\n",
        "    plt.show()  "
      ],
      "execution_count": 0,
      "outputs": []
    },
    {
      "metadata": {
        "id": "wSIPD2c3aVe8",
        "colab_type": "text"
      },
      "cell_type": "markdown",
      "source": [
        "## Data downloads\n",
        "\n",
        "Sentiment Analysis\n",
        "\n",
        "http://ai.stanford.edu/~amaas/data/sentiment/\n",
        "\n",
        "### Embeddings\n",
        "\n",
        "Download embeddings data (**not necessary for all the exercises**).\n",
        "\n",
        "Several research groups and companies share embeddings for natural languages, that have been obtained by different methods over large corpuses of text. Here we will use one of these datasets of embeddings for the English language, and will evaluate if these embeddings improve our model.\n",
        "\n",
        "https://nlp.stanford.edu/projects/glove/"
      ]
    },
    {
      "metadata": {
        "id": "-JMOXg7AcfPn",
        "colab_type": "code",
        "outputId": "0ff5f6ec-ec29-4b5c-c8e9-037ceda03db3",
        "colab": {
          "base_uri": "https://localhost:8080/",
          "height": 69
        }
      },
      "cell_type": "code",
      "source": [
        "%%bash\n",
        "if [ ! -d data/aclImdb/ ]; then\n",
        "  curl http://ai.stanford.edu/~amaas/data/sentiment/aclImdb_v1.tar.gz > aclImdb_v1.tar.gz\n",
        "fi\n",
        "\n",
        "# Only for some exercises\n",
        "#if [ ! -f data/glove/glove.6B.100d.txt ]; then\n",
        "#   curl https://nlp.stanford.edu/data/glove.6B.zip > glove.6B.zip \n",
        "#fi"
      ],
      "execution_count": 0,
      "outputs": [
        {
          "output_type": "stream",
          "text": [
            "  % Total    % Received % Xferd  Average Speed   Time    Time     Time  Current\n",
            "                                 Dload  Upload   Total   Spent    Left  Speed\n",
            "\r  0     0    0     0    0     0      0      0 --:--:-- --:--:-- --:--:--     0\r  0 80.2M    0 51872    0     0   262k      0  0:05:13 --:--:--  0:05:13  261k\r  5 80.2M    5 4220k    0     0  3491k      0  0:00:23  0:00:01  0:00:22 3488k\r 52 80.2M   52 41.8M    0     0  19.1M      0  0:00:04  0:00:02  0:00:02 19.1M\r100 80.2M  100 80.2M    0     0  29.1M      0  0:00:02  0:00:02 --:--:-- 29.1M\n"
          ],
          "name": "stderr"
        }
      ]
    },
    {
      "metadata": {
        "id": "paM99cA1fKKO",
        "colab_type": "code",
        "outputId": "63b85ab4-e554-464a-ca60-b486362e4cf4",
        "colab": {
          "base_uri": "https://localhost:8080/",
          "height": 69
        }
      },
      "cell_type": "code",
      "source": [
        "# Check that the downloads look ok\n",
        "!ls -hl"
      ],
      "execution_count": 0,
      "outputs": [
        {
          "output_type": "stream",
          "text": [
            "total 81M\n",
            "-rw-r--r-- 1 root root  81M Jan 11 18:38 aclImdb_v1.tar.gz\n",
            "drwxr-xr-x 1 root root 4.0K Jan  8 17:15 sample_data\n"
          ],
          "name": "stdout"
        }
      ]
    },
    {
      "metadata": {
        "id": "FZcKYJcldw2Z",
        "colab_type": "text"
      },
      "cell_type": "markdown",
      "source": [
        "### Data uncompress"
      ]
    },
    {
      "metadata": {
        "id": "t7UBOm4cabU-",
        "colab_type": "code",
        "colab": {}
      },
      "cell_type": "code",
      "source": [
        "%%bash\n",
        "if [ ! -d data/aclImdb/ ]; then\n",
        "  mkdir -p data\n",
        "  mv aclImdb_v1.tar.gz data/\n",
        "  cd data && tar zxf aclImdb_v1.tar.gz && rm aclImdb_v1.tar.gz\n",
        "else\n",
        "  echo \"Skipping. IMDB data already uncompressed.\"\n",
        " fi"
      ],
      "execution_count": 0,
      "outputs": []
    },
    {
      "metadata": {
        "id": "3M3-4Otzaj3y",
        "colab_type": "code",
        "colab": {}
      },
      "cell_type": "code",
      "source": [
        "!ls data/aclImdb/"
      ],
      "execution_count": 0,
      "outputs": []
    },
    {
      "metadata": {
        "id": "0J9GbyGKOQpj",
        "colab_type": "code",
        "outputId": "7546962f-727a-470b-f086-db1f93d607a4",
        "colab": {
          "base_uri": "https://localhost:8080/",
          "height": 55
        }
      },
      "cell_type": "code",
      "source": [
        "!cat data/aclImdb/train/pos/0_9.txt | head"
      ],
      "execution_count": 0,
      "outputs": [
        {
          "output_type": "stream",
          "text": [
            "Bromwell High is a cartoon comedy. It ran at the same time as some other programs about school life, such as \"Teachers\". My 35 years in the teaching profession lead me to believe that Bromwell High's satire is much closer to reality than is \"Teachers\". The scramble to survive financially, the insightful students who can see right through their pathetic teachers' pomp, the pettiness of the whole situation, all remind me of the schools I knew and their students. When I saw the episode in which a student repeatedly tried to burn down the school, I immediately recalled ......... at .......... High. A classic line: INSPECTOR: I'm here to sack one of your teachers. STUDENT: Welcome to Bromwell High. I expect that many adults of my age think that Bromwell High is far fetched. What a pity that it isn't!"
          ],
          "name": "stdout"
        }
      ]
    },
    {
      "metadata": {
        "id": "rFxlwDZxazJ2",
        "colab_type": "text"
      },
      "cell_type": "markdown",
      "source": [
        "# Data preparation for the Neural Network"
      ]
    },
    {
      "metadata": {
        "id": "QKE-HykdPfKT",
        "colab_type": "text"
      },
      "cell_type": "markdown",
      "source": [
        ""
      ]
    },
    {
      "metadata": {
        "id": "0zgBrDxfQcmU",
        "colab_type": "code",
        "colab": {}
      },
      "cell_type": "code",
      "source": [
        "import os"
      ],
      "execution_count": 0,
      "outputs": []
    },
    {
      "metadata": {
        "id": "5Rqwbsr3a65H",
        "colab_type": "code",
        "colab": {}
      },
      "cell_type": "code",
      "source": [
        "d = {}\n",
        "datasets = ['test', 'train']\n",
        "labels = ['pos', 'neg']\n",
        "\n",
        "base_path = 'data/aclImdb/'\n",
        "\n",
        "for dataset in datasets:\n",
        "  d[dataset] = {'text': [], 'y':[]}\n",
        "  for label in labels:\n",
        "    y = 1 if label == 'pos' else 0\n",
        "    txt_dir = os.path.join(base_path, dataset, label)\n",
        "    fns = os.listdir(txt_dir)\n",
        "    for fn in fns:\n",
        "      # Leemos el fichero\n",
        "      with open(os.path.join(txt_dir, fn), 'r') as f:\n",
        "        txt = ' '.join(f.readlines())\n",
        "        # add el texto a la lista del dict\n",
        "        d[dataset]['text'].append(txt)\n",
        "        d[dataset]['y'].append(y)\n",
        "      "
      ],
      "execution_count": 0,
      "outputs": []
    },
    {
      "metadata": {
        "id": "3pLcfeWLTEDk",
        "colab_type": "code",
        "outputId": "e54b4a48-c8b0-4efe-f1fa-e6fbccb72e51",
        "colab": {
          "base_uri": "https://localhost:8080/",
          "height": 55
        }
      },
      "cell_type": "code",
      "source": [
        "d['test']['text'][1]"
      ],
      "execution_count": 0,
      "outputs": [
        {
          "output_type": "execute_result",
          "data": {
            "text/plain": [
              "'\"A Fare to Remember\" is a totally derivative, almost ridiculous movie, but has a warmth about it that makes it a very effective and upbeat holiday movie. It stars a pretty newcomer, Challen Kates, as a high-powered ad executive who, right before her wedding, has to rush from L.A. to Seattle to keep a client who has rejected every other presentation. She has transportation difficulties from the beginning and seemingly no money. This is the first dumb thing - were there no ATMs anywhere? She must make a fortune. At any rate, she meets a cab driver (Warner) who looks like a homeless man, and he drives her to her presentation and when she emerges with a huge box of beef jerky (the client\\'s product), he\\'s there to take her to the airport. All flights are canceled, so in order to get to L.A. for her wedding, she hires him to take her there.<br /><br />Along the way, they bond and learn from each other. It\\'s a very sweet movie though there is absolutely nothing new in it - it combines \"Six Days and Seven Nights\" and a few other films. But the chemistry between the stars is good, they\\'re likable, and the acting is good. Look for Jerry Springer as the head of the beef jerky company and a cameo by Karl Malden.<br /><br />This is a nice film to take in over the holiday season. It\\'s on Lifetime.'"
            ]
          },
          "metadata": {
            "tags": []
          },
          "execution_count": 21
        }
      ]
    },
    {
      "metadata": {
        "id": "sZN--IZSSVVc",
        "colab_type": "code",
        "colab": {}
      },
      "cell_type": "code",
      "source": [
        "from tensorflow.keras.preprocessing.text import Tokenizer"
      ],
      "execution_count": 0,
      "outputs": []
    },
    {
      "metadata": {
        "id": "qkoS78SZS_2R",
        "colab_type": "code",
        "colab": {}
      },
      "cell_type": "code",
      "source": [
        "VOCABULARY_SIZE = 1000"
      ],
      "execution_count": 0,
      "outputs": []
    },
    {
      "metadata": {
        "id": "07PV_OcbThB6",
        "colab_type": "code",
        "colab": {}
      },
      "cell_type": "code",
      "source": [
        "tokenizer = Tokenizer(VOCABULARY_SIZE)"
      ],
      "execution_count": 0,
      "outputs": []
    },
    {
      "metadata": {
        "id": "DCs14UjOTtVK",
        "colab_type": "code",
        "colab": {}
      },
      "cell_type": "code",
      "source": [
        "tokenizer.fit_on_texts(d['train']['text'])"
      ],
      "execution_count": 0,
      "outputs": []
    },
    {
      "metadata": {
        "id": "y3uWknQ1USzR",
        "colab_type": "code",
        "colab": {}
      },
      "cell_type": "code",
      "source": [
        "x_train = tokenizer.texts_to_matrix(d['train']['text'])"
      ],
      "execution_count": 0,
      "outputs": []
    },
    {
      "metadata": {
        "id": "UUtW0-VwW8qa",
        "colab_type": "code",
        "colab": {}
      },
      "cell_type": "code",
      "source": [
        "x_test = tokenizer.texts_to_matrix(d['test']['text'])"
      ],
      "execution_count": 0,
      "outputs": []
    },
    {
      "metadata": {
        "id": "0WH9JwZKXAuR",
        "colab_type": "code",
        "colab": {}
      },
      "cell_type": "code",
      "source": [
        "y_train = np.array(d['train']['y'])"
      ],
      "execution_count": 0,
      "outputs": []
    },
    {
      "metadata": {
        "id": "EqRS1aeOUfFz",
        "colab_type": "code",
        "colab": {}
      },
      "cell_type": "code",
      "source": [
        "y_test = np.array(d['test']['y'])"
      ],
      "execution_count": 0,
      "outputs": []
    },
    {
      "metadata": {
        "id": "WsTaPDdmWKNe",
        "colab_type": "code",
        "colab": {}
      },
      "cell_type": "code",
      "source": [
        "x_train_seq = tokenizer.texts_to_sequences(d['train']['text'])"
      ],
      "execution_count": 0,
      "outputs": []
    },
    {
      "metadata": {
        "id": "3hjQhDsUa7SM",
        "colab_type": "text"
      },
      "cell_type": "markdown",
      "source": [
        "# Model architecture"
      ]
    },
    {
      "metadata": {
        "id": "UvCu-FFnbzmT",
        "colab_type": "code",
        "colab": {}
      },
      "cell_type": "code",
      "source": [
        "import tensorflow as tf"
      ],
      "execution_count": 0,
      "outputs": []
    },
    {
      "metadata": {
        "id": "y5CrLHyCa_OI",
        "colab_type": "code",
        "colab": {}
      },
      "cell_type": "code",
      "source": [
        "def keras2tpu(m):\n",
        "  tpu_model = tf.contrib.tpu.keras_to_tpu_model(\n",
        "    m,\n",
        "    strategy=tf.contrib.tpu.TPUDistributionStrategy(\n",
        "        tf.contrib.cluster_resolver.TPUClusterResolver(tpu='grpc://' + os.environ['COLAB_TPU_ADDR'])))\n",
        "\n",
        "  return tpu_model"
      ],
      "execution_count": 0,
      "outputs": []
    },
    {
      "metadata": {
        "id": "VWJsKWKXXT1s",
        "colab_type": "code",
        "colab": {}
      },
      "cell_type": "code",
      "source": [
        "from tensorflow.keras import models, layers, losses, optimizers, metrics"
      ],
      "execution_count": 0,
      "outputs": []
    },
    {
      "metadata": {
        "id": "tHJ2-ZkmXje3",
        "colab_type": "code",
        "colab": {}
      },
      "cell_type": "code",
      "source": [
        "def build_model():\n",
        "  m = models.Sequential()\n",
        "  m.add(layers.Dense(512, activation='relu', input_shape = (VOCABULARY_SIZE,)))\n",
        "  m.add(layers.Dense(256, activation='relu'))\n",
        "  m.add(layers.Dense(128, activation='relu'))\n",
        "  m.add(layers.Dense(64, activation='relu'))\n",
        "  m.add(layers.Dense(32, activation='relu'))\n",
        "  m.add(layers.Dense(1, activation='sigmoid'))\n",
        "  \n",
        "  return keras2tpu(m)"
      ],
      "execution_count": 0,
      "outputs": []
    },
    {
      "metadata": {
        "id": "BwsFZtbmZvC7",
        "colab_type": "code",
        "outputId": "a8ea309e-be14-435a-d0fc-0a79a190da7e",
        "colab": {
          "base_uri": "https://localhost:8080/",
          "height": 349
        }
      },
      "cell_type": "code",
      "source": [
        "m_1h = build_model()"
      ],
      "execution_count": 0,
      "outputs": [
        {
          "output_type": "stream",
          "text": [
            "INFO:tensorflow:Querying Tensorflow master (b'grpc://10.0.58.26:8470') for TPU system metadata.\n",
            "INFO:tensorflow:Found TPU system:\n",
            "INFO:tensorflow:*** Num TPU Cores: 8\n",
            "INFO:tensorflow:*** Num TPU Workers: 1\n",
            "INFO:tensorflow:*** Num TPU Cores Per Worker: 8\n",
            "INFO:tensorflow:*** Available Device: _DeviceAttributes(/job:worker/replica:0/task:0/device:CPU:0, CPU, -1, 738758414794881908)\n",
            "INFO:tensorflow:*** Available Device: _DeviceAttributes(/job:worker/replica:0/task:0/device:XLA_CPU:0, XLA_CPU, 17179869184, 16066802142350613686)\n",
            "INFO:tensorflow:*** Available Device: _DeviceAttributes(/job:worker/replica:0/task:0/device:XLA_GPU:0, XLA_GPU, 17179869184, 13901980663580253083)\n",
            "INFO:tensorflow:*** Available Device: _DeviceAttributes(/job:worker/replica:0/task:0/device:TPU:0, TPU, 17179869184, 12587913212030599559)\n",
            "INFO:tensorflow:*** Available Device: _DeviceAttributes(/job:worker/replica:0/task:0/device:TPU:1, TPU, 17179869184, 4157646713347753573)\n",
            "INFO:tensorflow:*** Available Device: _DeviceAttributes(/job:worker/replica:0/task:0/device:TPU:2, TPU, 17179869184, 2414255584686551839)\n",
            "INFO:tensorflow:*** Available Device: _DeviceAttributes(/job:worker/replica:0/task:0/device:TPU:3, TPU, 17179869184, 1934899482656511337)\n",
            "INFO:tensorflow:*** Available Device: _DeviceAttributes(/job:worker/replica:0/task:0/device:TPU:4, TPU, 17179869184, 8561868794099970964)\n",
            "INFO:tensorflow:*** Available Device: _DeviceAttributes(/job:worker/replica:0/task:0/device:TPU:5, TPU, 17179869184, 16594222503487817759)\n",
            "INFO:tensorflow:*** Available Device: _DeviceAttributes(/job:worker/replica:0/task:0/device:TPU:6, TPU, 17179869184, 4051080887025837090)\n",
            "INFO:tensorflow:*** Available Device: _DeviceAttributes(/job:worker/replica:0/task:0/device:TPU:7, TPU, 17179869184, 16579526512657273155)\n",
            "INFO:tensorflow:*** Available Device: _DeviceAttributes(/job:worker/replica:0/task:0/device:TPU_SYSTEM:0, TPU_SYSTEM, 17179869184, 15432003043923080644)\n",
            "WARNING:tensorflow:tpu_model (from tensorflow.contrib.tpu.python.tpu.keras_support) is experimental and may change or be removed at any time, and without warning.\n"
          ],
          "name": "stdout"
        }
      ]
    },
    {
      "metadata": {
        "id": "jAYDasi2Z-qS",
        "colab_type": "code",
        "outputId": "c767322d-2c03-4490-d600-6ac33278a2e4",
        "colab": {
          "base_uri": "https://localhost:8080/",
          "height": 381
        }
      },
      "cell_type": "code",
      "source": [
        "m_1h.summary()"
      ],
      "execution_count": 0,
      "outputs": [
        {
          "output_type": "stream",
          "text": [
            "_________________________________________________________________\n",
            "Layer (type)                 Output Shape              Param #   \n",
            "=================================================================\n",
            "dense_input (InputLayer)     (None, 1000)              0         \n",
            "_________________________________________________________________\n",
            "dense (Dense)                (None, 512)               512512    \n",
            "_________________________________________________________________\n",
            "dense_1 (Dense)              (None, 256)               131328    \n",
            "_________________________________________________________________\n",
            "dense_2 (Dense)              (None, 128)               32896     \n",
            "_________________________________________________________________\n",
            "dense_3 (Dense)              (None, 64)                8256      \n",
            "_________________________________________________________________\n",
            "dense_4 (Dense)              (None, 32)                2080      \n",
            "_________________________________________________________________\n",
            "dense_5 (Dense)              (None, 1)                 33        \n",
            "=================================================================\n",
            "Total params: 687,105\n",
            "Trainable params: 687,105\n",
            "Non-trainable params: 0\n",
            "_________________________________________________________________\n"
          ],
          "name": "stdout"
        }
      ]
    },
    {
      "metadata": {
        "id": "HwqMGtibaFlp",
        "colab_type": "code",
        "outputId": "ee394703-fc61-48c6-90ec-184d360ce3d4",
        "colab": {
          "base_uri": "https://localhost:8080/",
          "height": 35
        }
      },
      "cell_type": "code",
      "source": [
        "m_1h.compile(loss=losses.binary_crossentropy, optimizer=optimizers.RMSprop(), metric=[metrics.binary_accuracy])"
      ],
      "execution_count": 0,
      "outputs": [
        {
          "output_type": "stream",
          "text": [
            "INFO:tensorflow:Cloning RMSprop {'lr': 0.0010000000474974513, 'rho': 0.8999999761581421, 'decay': 0.0, 'epsilon': 1e-07}\n"
          ],
          "name": "stdout"
        }
      ]
    },
    {
      "metadata": {
        "id": "zFNTj29Ea0Bm",
        "colab_type": "code",
        "outputId": "6bcf6400-51e5-480b-e5b1-b2b341345701",
        "colab": {
          "base_uri": "https://localhost:8080/",
          "height": 1421
        }
      },
      "cell_type": "code",
      "source": [
        "h = m_1h.fit(x_train, y_train, epochs=40, batch_size=2048, validation_data=[x_test, y_test])"
      ],
      "execution_count": 0,
      "outputs": [
        {
          "output_type": "stream",
          "text": [
            "Train on 25000 samples, validate on 25000 samples\n",
            "Epoch 1/40\n",
            "25000/25000 [==============================] - 2s 70us/step - loss: 1.2861e-07 - val_loss: 1.5622\n",
            "Epoch 2/40\n",
            "25000/25000 [==============================] - 2s 66us/step - loss: 1.2243e-07 - val_loss: 1.5723\n",
            "Epoch 3/40\n",
            "25000/25000 [==============================] - 2s 65us/step - loss: 1.1847e-07 - val_loss: 1.5830\n",
            "Epoch 4/40\n",
            "25000/25000 [==============================] - 2s 71us/step - loss: 1.1606e-07 - val_loss: 1.5898\n",
            "Epoch 5/40\n",
            "25000/25000 [==============================] - 2s 65us/step - loss: 1.1452e-07 - val_loss: 1.5993\n",
            "Epoch 6/40\n",
            "25000/25000 [==============================] - 2s 65us/step - loss: 1.1349e-07 - val_loss: 1.6056\n",
            "Epoch 7/40\n",
            "25000/25000 [==============================] - 2s 65us/step - loss: 1.1247e-07 - val_loss: 1.6134\n",
            "Epoch 8/40\n",
            "25000/25000 [==============================] - 2s 64us/step - loss: 1.1219e-07 - val_loss: 1.6204\n",
            "Epoch 9/40\n",
            "25000/25000 [==============================] - 2s 66us/step - loss: 1.1186e-07 - val_loss: 1.6239\n",
            "Epoch 10/40\n",
            "25000/25000 [==============================] - 2s 67us/step - loss: 1.1109e-07 - val_loss: 1.6269\n",
            "Epoch 11/40\n",
            "25000/25000 [==============================] - 2s 67us/step - loss: 1.1100e-07 - val_loss: 1.6301\n",
            "Epoch 12/40\n",
            "25000/25000 [==============================] - 2s 65us/step - loss: 1.1069e-07 - val_loss: 1.6329\n",
            "Epoch 13/40\n",
            "25000/25000 [==============================] - 2s 68us/step - loss: 1.1050e-07 - val_loss: 1.6344\n",
            "Epoch 14/40\n",
            "25000/25000 [==============================] - 2s 66us/step - loss: 1.1024e-07 - val_loss: 1.6360\n",
            "Epoch 15/40\n",
            "25000/25000 [==============================] - 2s 67us/step - loss: 1.1020e-07 - val_loss: 1.6371\n",
            "Epoch 16/40\n",
            "25000/25000 [==============================] - 2s 67us/step - loss: 1.1004e-07 - val_loss: 1.6376\n",
            "Epoch 17/40\n",
            "25000/25000 [==============================] - 2s 66us/step - loss: 1.1002e-07 - val_loss: 1.6387\n",
            "Epoch 18/40\n",
            "25000/25000 [==============================] - 2s 66us/step - loss: 1.1003e-07 - val_loss: 1.6401\n",
            "Epoch 19/40\n",
            "25000/25000 [==============================] - 2s 70us/step - loss: 1.1002e-07 - val_loss: 1.6402\n",
            "Epoch 20/40\n",
            "25000/25000 [==============================] - 2s 65us/step - loss: 1.0997e-07 - val_loss: 1.6412\n",
            "Epoch 21/40\n",
            "25000/25000 [==============================] - 2s 65us/step - loss: 1.1003e-07 - val_loss: 1.6424\n",
            "Epoch 22/40\n",
            "25000/25000 [==============================] - 2s 64us/step - loss: 1.1004e-07 - val_loss: 1.6430\n",
            "Epoch 23/40\n",
            "25000/25000 [==============================] - 2s 65us/step - loss: 1.0992e-07 - val_loss: 1.6434\n",
            "Epoch 24/40\n",
            "25000/25000 [==============================] - 2s 67us/step - loss: 1.0990e-07 - val_loss: 1.6440\n",
            "Epoch 25/40\n",
            "25000/25000 [==============================] - 2s 68us/step - loss: 1.0986e-07 - val_loss: 1.6443\n",
            "Epoch 26/40\n",
            "25000/25000 [==============================] - 2s 65us/step - loss: 1.0989e-07 - val_loss: 1.6450\n",
            "Epoch 27/40\n",
            "25000/25000 [==============================] - 2s 67us/step - loss: 1.0985e-07 - val_loss: 1.6449\n",
            "Epoch 28/40\n",
            "25000/25000 [==============================] - 2s 68us/step - loss: 1.0986e-07 - val_loss: 1.6449\n",
            "Epoch 29/40\n",
            "25000/25000 [==============================] - 2s 69us/step - loss: 1.0984e-07 - val_loss: 1.6454\n",
            "Epoch 30/40\n",
            "25000/25000 [==============================] - 2s 63us/step - loss: 1.0982e-07 - val_loss: 1.6456\n",
            "Epoch 31/40\n",
            "25000/25000 [==============================] - 2s 64us/step - loss: 1.0986e-07 - val_loss: 1.6462\n",
            "Epoch 32/40\n",
            "25000/25000 [==============================] - 2s 68us/step - loss: 1.0987e-07 - val_loss: 1.6458\n",
            "Epoch 33/40\n",
            "25000/25000 [==============================] - 2s 68us/step - loss: 1.0979e-07 - val_loss: 1.6463\n",
            "Epoch 34/40\n",
            "25000/25000 [==============================] - 2s 66us/step - loss: 1.0981e-07 - val_loss: 1.6466\n",
            "Epoch 35/40\n",
            "25000/25000 [==============================] - 2s 65us/step - loss: 1.0979e-07 - val_loss: 1.6474\n",
            "Epoch 36/40\n",
            "25000/25000 [==============================] - 2s 65us/step - loss: 1.0979e-07 - val_loss: 1.6472\n",
            "Epoch 37/40\n",
            "25000/25000 [==============================] - 2s 67us/step - loss: 1.0981e-07 - val_loss: 1.6482\n",
            "Epoch 38/40\n",
            "25000/25000 [==============================] - 2s 66us/step - loss: 1.0982e-07 - val_loss: 1.6488\n",
            "Epoch 39/40\n",
            "25000/25000 [==============================] - 2s 67us/step - loss: 1.0982e-07 - val_loss: 1.6485\n",
            "Epoch 40/40\n",
            "25000/25000 [==============================] - 2s 67us/step - loss: 1.0981e-07 - val_loss: 1.6489\n"
          ],
          "name": "stdout"
        }
      ]
    },
    {
      "metadata": {
        "id": "8imsMPeda94V",
        "colab_type": "text"
      },
      "cell_type": "markdown",
      "source": [
        "# Training"
      ]
    },
    {
      "metadata": {
        "id": "D2HfKd0SbAu8",
        "colab_type": "code",
        "colab": {}
      },
      "cell_type": "code",
      "source": [
        ""
      ],
      "execution_count": 0,
      "outputs": []
    },
    {
      "metadata": {
        "id": "vutyKWPAbCFt",
        "colab_type": "text"
      },
      "cell_type": "markdown",
      "source": [
        "# Quick evaluation of performance"
      ]
    },
    {
      "metadata": {
        "id": "k_cUOdpSbELC",
        "colab_type": "code",
        "outputId": "5e0b3775-0138-4746-c9f0-3557da1b2952",
        "colab": {
          "base_uri": "https://localhost:8080/",
          "height": 477
        }
      },
      "cell_type": "code",
      "source": [
        "plot_metric(h, 'loss')"
      ],
      "execution_count": 0,
      "outputs": [
        {
          "output_type": "display_data",
          "data": {
            "image/png": "[encoded data removed]",
            "text/plain": [
              "<matplotlib.figure.Figure at 0x7fac12f22f60>"
            ]
          },
          "metadata": {
            "tags": []
          }
        }
      ]
    },
    {
      "metadata": {
        "id": "m069P-fFbEeB",
        "colab_type": "text"
      },
      "cell_type": "markdown",
      "source": [
        "# Detailed evaluation of text classifier"
      ]
    },
    {
      "metadata": {
        "id": "65XNedWsbIW9",
        "colab_type": "code",
        "colab": {}
      },
      "cell_type": "code",
      "source": [
        ""
      ],
      "execution_count": 0,
      "outputs": []
    }
  ]
}