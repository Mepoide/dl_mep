{
 "cells": [
  {
   "cell_type": "code",
   "execution_count": 1,
   "metadata": {},
   "outputs": [
    {
     "name": "stdout",
     "output_type": "stream",
     "text": [
      "Populating the interactive namespace from numpy and matplotlib\n"
     ]
    }
   ],
   "source": [
    "%pylab inline\n",
    "plt.style.use('seaborn-talk')"
   ]
  },
  {
   "cell_type": "markdown",
   "metadata": {},
   "source": [
    "We will use this function to plot the metrics of our training process, to help in choosing the best model"
   ]
  },
  {
   "cell_type": "code",
   "execution_count": 2,
   "metadata": {},
   "outputs": [],
   "source": [
    "def plot_metric(history, metric):\n",
    "    history_dict = history.history\n",
    "    values = history_dict[metric]\n",
    "    if 'val_' + metric in history_dict.keys():  \n",
    "        val_values = history_dict['val_' + metric]\n",
    "\n",
    "    epochs = range(1, len(values) + 1)\n",
    "\n",
    "    if 'val_' + metric in history_dict.keys():  \n",
    "        plt.plot(epochs, val_values, label='Validation')\n",
    "    plt.semilogy(epochs, values, label='Training')\n",
    "\n",
    "    if 'val_' + metric in history_dict.keys():  \n",
    "        plt.title('Training and validation %s' % metric)\n",
    "    else:\n",
    "        plt.title('Training %s' % metric)\n",
    "    plt.xlabel('Epochs')\n",
    "    plt.ylabel(metric.capitalize())\n",
    "    plt.legend()\n",
    "    plt.grid()\n",
    "\n",
    "    plt.show()  "
   ]
  },
  {
   "cell_type": "markdown",
   "metadata": {},
   "source": [
    "We will use this function to explore the data"
   ]
  },
  {
   "cell_type": "code",
   "execution_count": 3,
   "metadata": {},
   "outputs": [],
   "source": [
    "def plot_mnist_image(N, imgs, labels):\n",
    "    print(\"The image below should show the number %d\" % labels[N])\n",
    "    plt.imshow(imgs[N,], cmap=plt.cm.binary)\n",
    "    plt.grid(True)"
   ]
  },
  {
   "cell_type": "markdown",
   "metadata": {},
   "source": [
    "# The problem\n",
    "\n",
    "We will recognize handwritten digits. For an image containing a number between 0 and 9, we will recognize the number and will produce an int as output"
   ]
  },
  {
   "cell_type": "code",
   "execution_count": 4,
   "metadata": {},
   "outputs": [
    {
     "name": "stderr",
     "output_type": "stream",
     "text": [
      "Using TensorFlow backend.\n"
     ]
    }
   ],
   "source": [
    "from keras.datasets import mnist"
   ]
  },
  {
   "cell_type": "code",
   "execution_count": 5,
   "metadata": {},
   "outputs": [],
   "source": [
    "train_orig_data, test_orig_data = mnist.load_data()"
   ]
  },
  {
   "cell_type": "code",
   "execution_count": 6,
   "metadata": {},
   "outputs": [
    {
     "data": {
      "text/plain": [
       "tuple"
      ]
     },
     "execution_count": 6,
     "metadata": {},
     "output_type": "execute_result"
    }
   ],
   "source": [
    "type(train_orig_data)"
   ]
  },
  {
   "cell_type": "code",
   "execution_count": 7,
   "metadata": {},
   "outputs": [],
   "source": [
    "train_imgs, train_labels = train_orig_data\n",
    "test_imgs, test_labels = test_orig_data"
   ]
  },
  {
   "cell_type": "code",
   "execution_count": 8,
   "metadata": {},
   "outputs": [
    {
     "data": {
      "text/plain": [
       "(60000, 28, 28)"
      ]
     },
     "execution_count": 8,
     "metadata": {},
     "output_type": "execute_result"
    }
   ],
   "source": [
    "train_imgs.shape"
   ]
  },
  {
   "cell_type": "code",
   "execution_count": 9,
   "metadata": {},
   "outputs": [
    {
     "data": {
      "text/plain": [
       "(10000, 28, 28)"
      ]
     },
     "execution_count": 9,
     "metadata": {},
     "output_type": "execute_result"
    }
   ],
   "source": [
    "test_imgs.shape"
   ]
  },
  {
   "cell_type": "code",
   "execution_count": 10,
   "metadata": {},
   "outputs": [
    {
     "name": "stdout",
     "output_type": "stream",
     "text": [
      "The image below should show the number 2\n"
     ]
    },
    {
     "data": {
      "image/png": "[encoded data removed]",
      "text/plain": [
       "<Figure size 432x288 with 1 Axes>"
      ]
     },
     "metadata": {
      "needs_background": "light"
     },
     "output_type": "display_data"
    }
   ],
   "source": [
    "plot_mnist_image(numpy.random.randint(train_imgs.shape[0]), train_imgs, train_labels)"
   ]
  },
  {
   "cell_type": "markdown",
   "metadata": {},
   "source": [
    "## A note on the curse of dimensionality"
   ]
  },
  {
   "cell_type": "code",
   "execution_count": 11,
   "metadata": {},
   "outputs": [
    {
     "data": {
      "text/plain": [
       "(28, 28)"
      ]
     },
     "execution_count": 11,
     "metadata": {},
     "output_type": "execute_result"
    }
   ],
   "source": [
    "train_imgs[0].shape"
   ]
  },
  {
   "cell_type": "code",
   "execution_count": 12,
   "metadata": {},
   "outputs": [
    {
     "data": {
      "text/plain": [
       "37"
      ]
     },
     "execution_count": 12,
     "metadata": {},
     "output_type": "execute_result"
    }
   ],
   "source": [
    "a = train_imgs[0].reshape((28*28,))\n",
    "b = train_imgs[0].reshape((28*28,))\n",
    "a.dot(b)"
   ]
  },
  {
   "cell_type": "markdown",
   "metadata": {},
   "source": [
    "Define a similarity measure. For instance, the [cosine similarity](https://en.wikipedia.org/wiki/Cosine_similarity), that is 1 if vectors are parallel (most similar), and zero if they are perpendicular (lack of correlation)."
   ]
  },
  {
   "cell_type": "code",
   "execution_count": 13,
   "metadata": {},
   "outputs": [],
   "source": [
    "from scipy import spatial\n",
    "\n",
    "def cosine_similarity(img1, img2):\n",
    "    # reshape input matrices as vectors\n",
    "    img1_ = img1.reshape((28*28,))\n",
    "    img2_ = img2.reshape((28*28,))\n",
    "    # normalize input vectors\n",
    "    norm1 = np.sqrt(np.sum(img1_*img1_))\n",
    "    norm2 = np.sqrt(np.sum(img2_*img2_))\n",
    "    img1_ = img1_ / norm1\n",
    "    img2_ = img2_ / norm2\n",
    "    sim = 1 - spatial.distance.cosine(img1_, img2_)    \n",
    "    return sim"
   ]
  },
  {
   "cell_type": "code",
   "execution_count": 14,
   "metadata": {},
   "outputs": [
    {
     "data": {
      "text/plain": [
       "0.5521001886778967"
      ]
     },
     "execution_count": 14,
     "metadata": {},
     "output_type": "execute_result"
    }
   ],
   "source": [
    "cosine_similarity(train_imgs[0], train_imgs[1])"
   ]
  },
  {
   "cell_type": "code",
   "execution_count": 15,
   "metadata": {},
   "outputs": [
    {
     "name": "stdout",
     "output_type": "stream",
     "text": [
      "The image below should show the number 5\n"
     ]
    },
    {
     "data": {
      "image/png": "[encoded data removed]",
      "text/plain": [
       "<Figure size 432x288 with 1 Axes>"
      ]
     },
     "metadata": {
      "needs_background": "light"
     },
     "output_type": "display_data"
    }
   ],
   "source": [
    "plot_mnist_image(0, train_imgs, train_labels)"
   ]
  },
  {
   "cell_type": "code",
   "execution_count": 16,
   "metadata": {},
   "outputs": [
    {
     "name": "stdout",
     "output_type": "stream",
     "text": [
      "The image below should show the number 3\n"
     ]
    },
    {
     "data": {
      "image/png": "[encoded data removed]",
      "text/plain": [
       "<Figure size 432x288 with 1 Axes>"
      ]
     },
     "metadata": {
      "needs_background": "light"
     },
     "output_type": "display_data"
    }
   ],
   "source": [
    "plot_mnist_image(7, train_imgs, train_labels)"
   ]
  },
  {
   "cell_type": "markdown",
   "metadata": {},
   "source": [
    "What about images of numbers 5?"
   ]
  },
  {
   "cell_type": "code",
   "execution_count": 17,
   "metadata": {},
   "outputs": [],
   "source": [
    "labels5 = train_labels == 5"
   ]
  },
  {
   "cell_type": "code",
   "execution_count": 18,
   "metadata": {},
   "outputs": [
    {
     "data": {
      "text/plain": [
       "(5421, 28, 28)"
      ]
     },
     "execution_count": 18,
     "metadata": {},
     "output_type": "execute_result"
    }
   ],
   "source": [
    "imgs5 = train_imgs[labels5]\n",
    "imgs5.shape"
   ]
  },
  {
   "cell_type": "code",
   "execution_count": 19,
   "metadata": {},
   "outputs": [
    {
     "data": {
      "image/png": "[encoded data removed]",
      "text/plain": [
       "<Figure size 432x288 with 1 Axes>"
      ]
     },
     "metadata": {
      "needs_background": "light"
     },
     "output_type": "display_data"
    }
   ],
   "source": [
    "distances55 = []\n",
    "index = np.random.randint(0, imgs5.shape[0], size=500)\n",
    "for i, im1 in enumerate(imgs5[index]):\n",
    "    for j, im2 in enumerate(imgs5[index]):\n",
    "        if j>i:\n",
    "            distances55.append(cosine_similarity(im1,im2))\n",
    "            \n",
    "plt.hist(np.array(distances55), bins=20)\n",
    "plt.show()"
   ]
  },
  {
   "cell_type": "markdown",
   "metadata": {},
   "source": [
    "Try the similarity between 5 and 4, for instance"
   ]
  },
  {
   "cell_type": "code",
   "execution_count": 20,
   "metadata": {},
   "outputs": [
    {
     "data": {
      "image/png": "[encoded data removed]",
      "text/plain": [
       "<Figure size 432x288 with 1 Axes>"
      ]
     },
     "metadata": {
      "needs_background": "light"
     },
     "output_type": "display_data"
    }
   ],
   "source": [
    "labels4 = train_labels == 4\n",
    "imgs4 = train_imgs[labels4]\n",
    "\n",
    "distances54 = []\n",
    "index5 = np.random.randint(0, imgs5.shape[0], size=500)\n",
    "index4 = np.random.randint(0, imgs4.shape[0], size=500)\n",
    "for i, im1 in enumerate(imgs5[index5]):\n",
    "    for j, im2 in enumerate(imgs4[index4]):\n",
    "        if j>i:\n",
    "            distances54.append(cosine_similarity(im1,im2))\n",
    "            \n",
    "plt.hist(np.array(distances55), bins=20, alpha=0.3, label=\"similarity among 5's\")\n",
    "plt.hist(np.array(distances54), bins=20, alpha=0.3, label=\"similarity among 5's and 4's\")\n",
    "plt.legend(loc='upper right')\n",
    "plt.gca().legend(bbox_to_anchor=(1.0, 1.05))\n",
    "\n",
    "\n",
    "plt.show()"
   ]
  },
  {
   "cell_type": "code",
   "execution_count": 21,
   "metadata": {},
   "outputs": [
    {
     "data": {
      "image/png": "[encoded data removed]",
      "text/plain": [
       "<Figure size 432x288 with 1 Axes>"
      ]
     },
     "metadata": {
      "needs_background": "light"
     },
     "output_type": "display_data"
    }
   ],
   "source": [
    "labels8 = train_labels == 8\n",
    "imgs8 = train_imgs[labels8]\n",
    "\n",
    "distances58 = []\n",
    "index5 = np.random.randint(0, imgs5.shape[0], size=500)\n",
    "index8 = np.random.randint(0, imgs8.shape[0], size=500)\n",
    "for i, im1 in enumerate(imgs5[index5]):\n",
    "    for j, im2 in enumerate(imgs8[index8]):\n",
    "        if j>i:\n",
    "            distances58.append(cosine_similarity(im1,im2))\n",
    "            \n",
    "plt.hist(np.array(distances55), bins=20, alpha=0.3,  density=True, label=\"similarity among 5's\")\n",
    "plt.hist(np.array(distances54), bins=20, alpha=0.3, density=True, label=\"similarity among 5's and 4's\")\n",
    "plt.hist(np.array(distances58), bins=20, alpha=0.3, density=True, label=\"similarity among 5's and 8's\")\n",
    "plt.legend(loc='upper right')\n",
    "plt.gca().legend(bbox_to_anchor=(1.0, 1.05))\n",
    "\n",
    "plt.show()"
   ]
  },
  {
   "cell_type": "markdown",
   "metadata": {},
   "source": [
    "<div class=\"alert alert-success\">\n",
    "As the dimension of our input increases, everything starts looking the same. Distances in high dimensions cannot be used! This is a consequence of the curse of dimensionality.\n",
    "</div>"
   ]
  },
  {
   "cell_type": "markdown",
   "metadata": {},
   "source": [
    "We will design a network that will be able to recognize the number shown at the image (for all the images in the test set)"
   ]
  },
  {
   "cell_type": "markdown",
   "metadata": {},
   "source": [
    "## Data transform\n",
    "\n",
    "We need to change the shape of the data, so it can be fed to the network more easily"
   ]
  },
  {
   "cell_type": "code",
   "execution_count": 22,
   "metadata": {},
   "outputs": [
    {
     "data": {
      "text/plain": [
       "(0, 255, 33.318421449829934, 78.56748998339798)"
      ]
     },
     "execution_count": 22,
     "metadata": {},
     "output_type": "execute_result"
    }
   ],
   "source": [
    "train_imgs.min(), train_imgs.max(), train_imgs.mean(), train_imgs.std()"
   ]
  },
  {
   "cell_type": "markdown",
   "metadata": {},
   "source": [
    "All the images are 28x28 matrices, with values between 0 and 255. Let's normalize the images, to avoid problems in the numerical computations using large numbers.\n",
    "\n",
    "We will convert the matrix to a vector with 28x28 components, stacking columns on top of each other. This will make the design of the network.\n",
    "* Alternatively, we could add a `Flatten(input_shape=(28,28))` layer to the model"
   ]
  },
  {
   "cell_type": "code",
   "execution_count": 23,
   "metadata": {},
   "outputs": [],
   "source": [
    "train_imgs_t = train_imgs/train_imgs.max()"
   ]
  },
  {
   "cell_type": "markdown",
   "metadata": {},
   "source": [
    "Because we want to assign a *category* to each image, we need to transform the output to categorical format"
   ]
  },
  {
   "cell_type": "code",
   "execution_count": 24,
   "metadata": {},
   "outputs": [],
   "source": [
    "from keras.utils import to_categorical"
   ]
  },
  {
   "cell_type": "markdown",
   "metadata": {},
   "source": [
    "Initially, our target data is just a set of numbers"
   ]
  },
  {
   "cell_type": "code",
   "execution_count": 25,
   "metadata": {},
   "outputs": [
    {
     "data": {
      "text/plain": [
       "array([5, 0, 4, 1, 9, 2, 1, 3, 1, 4], dtype=uint8)"
      ]
     },
     "execution_count": 25,
     "metadata": {},
     "output_type": "execute_result"
    }
   ],
   "source": [
    "train_labels[0:10]"
   ]
  },
  {
   "cell_type": "markdown",
   "metadata": {},
   "source": [
    "We are going to transform it to **1-HOT encoding format**"
   ]
  },
  {
   "cell_type": "code",
   "execution_count": 26,
   "metadata": {},
   "outputs": [],
   "source": [
    "train_labels_t = to_categorical(train_labels)"
   ]
  },
  {
   "cell_type": "code",
   "execution_count": 27,
   "metadata": {},
   "outputs": [
    {
     "data": {
      "text/plain": [
       "4"
      ]
     },
     "execution_count": 27,
     "metadata": {},
     "output_type": "execute_result"
    }
   ],
   "source": [
    "train_labels[2]"
   ]
  },
  {
   "cell_type": "code",
   "execution_count": 28,
   "metadata": {},
   "outputs": [
    {
     "data": {
      "text/plain": [
       "array([0., 0., 0., 0., 1., 0., 0., 0., 0., 0.], dtype=float32)"
      ]
     },
     "execution_count": 28,
     "metadata": {},
     "output_type": "execute_result"
    }
   ],
   "source": [
    "train_labels_t[2]  # this represents the number 4, transformed into a 1-HOT encoded vector of 10 components"
   ]
  },
  {
   "cell_type": "markdown",
   "metadata": {},
   "source": [
    "We have to repeat the same process with the test data"
   ]
  },
  {
   "cell_type": "code",
   "execution_count": 29,
   "metadata": {},
   "outputs": [],
   "source": [
    "test_imgs_t = test_imgs/test_imgs.max()\n",
    "test_labels_t = to_categorical(test_labels)"
   ]
  },
  {
   "cell_type": "markdown",
   "metadata": {},
   "source": [
    "## Let's build the model"
   ]
  },
  {
   "cell_type": "code",
   "execution_count": 30,
   "metadata": {},
   "outputs": [],
   "source": [
    "from keras import models\n",
    "from keras import layers"
   ]
  },
  {
   "cell_type": "code",
   "execution_count": 31,
   "metadata": {},
   "outputs": [],
   "source": [
    "def build_model():\n",
    "    m = models.Sequential()\n",
    "    # The first layer will transform our matrices into vectors\n",
    "    m.add(layers.Flatten(input_shape=(28,28)))\n",
    "    # The Dense layer needs vectors as inputs\n",
    "    m.add(layers.Dense(512, activation='relu'))\n",
    "    m.add(layers.Dense(256, activation='relu'))\n",
    "    m.add(layers.Dense(10, activation='softmax'))\n",
    "    return m"
   ]
  },
  {
   "cell_type": "markdown",
   "metadata": {},
   "source": [
    "Here we will make some decisions about how to train our model.\n",
    "\n",
    "The **objective function**, called also the **loss function** in Machine Learning, will be *categorical crossentropy*. This is because we are trying to predict discrete classes. If we choose a different function, the solution will be different (take a look at [Keras available losses](https://keras.io/losses/)). This is the function that will tell us when we have found the *solution*. Different functions will point to different *solutions*. The categorical crossentropy for a single observation (exmaple in train, for instance) is defined as:\n",
    "\n",
    "$$-\\sum_{{\\rm category} = 1}^M y_{\\rm category} \\log(\\hat{y}_{\\rm category}).$$\n",
    "\n",
    "Have a look at this [cheatsheet](https://ml-cheatsheet.readthedocs.io/en/latest/loss_functions.html).\n",
    "\n",
    "The **optimizer** is the method that we will use to find the minimum of the **loss function**. In general, we will not find the global minimum of the loss function, but a minimum that is good enough. *RMSProp* is one the variants of gradient descent. But there are many more [availbale in Keras](https://keras.io/optimizers/). We will deep dive into the optimization problem later in this course. \n",
    " \n",
    "These two settings will define the family of solutions we will find during the training process.\n",
    "\n",
    "The other parameter, the **metrics**, is only for information purposes. In each step of the training (called **epoch**), Keras will report the value of the metrics. But whether we choose one metric or another will not influence the training process. It is only for reporting how the training is going. That information will be useful for the validation of the model, that is, for the **hyperparameters tuning**.\n"
   ]
  },
  {
   "cell_type": "code",
   "execution_count": 32,
   "metadata": {},
   "outputs": [],
   "source": [
    "from keras import optimizers\n",
    "from keras import losses\n",
    "from keras import metrics"
   ]
  },
  {
   "cell_type": "code",
   "execution_count": 33,
   "metadata": {},
   "outputs": [],
   "source": [
    "m = build_model()"
   ]
  },
  {
   "cell_type": "code",
   "execution_count": 34,
   "metadata": {},
   "outputs": [],
   "source": [
    "m.compile(\n",
    "    optimizer=optimizers.rmsprop(),\n",
    "    loss=losses.categorical_crossentropy,\n",
    "    metrics=[metrics.categorical_accuracy]      \n",
    "    )"
   ]
  },
  {
   "cell_type": "code",
   "execution_count": 35,
   "metadata": {},
   "outputs": [
    {
     "name": "stdout",
     "output_type": "stream",
     "text": [
      "_________________________________________________________________\n",
      "Layer (type)                 Output Shape              Param #   \n",
      "=================================================================\n",
      "flatten_1 (Flatten)          (None, 784)               0         \n",
      "_________________________________________________________________\n",
      "dense_1 (Dense)              (None, 512)               401920    \n",
      "_________________________________________________________________\n",
      "dense_2 (Dense)              (None, 256)               131328    \n",
      "_________________________________________________________________\n",
      "dense_3 (Dense)              (None, 10)                2570      \n",
      "=================================================================\n",
      "Total params: 535,818\n",
      "Trainable params: 535,818\n",
      "Non-trainable params: 0\n",
      "_________________________________________________________________\n"
     ]
    }
   ],
   "source": [
    "m.summary()"
   ]
  },
  {
   "cell_type": "markdown",
   "metadata": {},
   "source": [
    "Now let's fit the neural network. We will keep the results in a *history* object to plot some parameters after the training, and use that information for improving our model (changing layers, activation functions, etc). This process is called **hyperparameters tuning** or hypeparameters search.\n",
    "\n",
    "Here we need to set two parameters: the number of **epochs** and the **batch size**.\n",
    "\n",
    "In previous cells, I have said that the training process is an optimization problem: we try to find the minimum.\n",
    "\n",
    "That's actually not entirely true. In practice, we don't keep searching for a minimum. Instead, we train for a preset number of epochs. Then we analyze the output using the validation set. If we detect overfit, then we reduce the number of epochs. If we don't detect it, then maybe we can keep going for some more epochs to find a better model. The number of epochs is another hyperparameter. In general, we should stop the training as early as possible. Any further epoch can make our model overfit, and therefore generalize poorly.\n",
    "\n",
    "The batch size is another hyperparameter. The network is not updated item by item, vector by vector. We can actually calculate the weights for a batch of several items, forming a matrix or a tensor. The batch size will affect the granularity of the calculations and the performance. A larger batch size will probably result in a slightly worse accuracy, but in a better performance. As long as the batch size is not so huge that it cannot be kept in memory. Because we are running on a GPU, it is a good idea to use a power of 2 for the batch size. It will probably make a better use of the GPU. But again, the effect of the batch size must be tested using the validation set, and adjusted until we find a good value for that parameter.\n",
    "\n",
    "An epoch is a full pass over the training dataset. At the end of each epoch, Keras will calculate the value of the metrics for the training set, and the loss function and metrics for the validation set. The loss and metrics of the validation set are useful for the hyperparameters tuning process.\n",
    "\n"
   ]
  },
  {
   "cell_type": "code",
   "execution_count": 37,
   "metadata": {},
   "outputs": [
    {
     "name": "stdout",
     "output_type": "stream",
     "text": [
      "Train on 48000 samples, validate on 12000 samples\n",
      "Epoch 1/80\n",
      "48000/48000 [==============================] - 1s 15us/step - loss: 2.5190e-04 - categorical_accuracy: 1.0000 - val_loss: 0.0950 - val_categorical_accuracy: 0.9821\n",
      "Epoch 2/80\n",
      "48000/48000 [==============================] - 1s 14us/step - loss: 2.0652e-04 - categorical_accuracy: 1.0000 - val_loss: 0.0969 - val_categorical_accuracy: 0.9818\n",
      "Epoch 3/80\n",
      "48000/48000 [==============================] - 1s 13us/step - loss: 0.0288 - categorical_accuracy: 0.9937 - val_loss: 0.1243 - val_categorical_accuracy: 0.9762\n",
      "Epoch 4/80\n",
      "48000/48000 [==============================] - 1s 14us/step - loss: 0.0016 - categorical_accuracy: 0.9996 - val_loss: 0.0987 - val_categorical_accuracy: 0.9816\n",
      "Epoch 5/80\n",
      "48000/48000 [==============================] - 1s 14us/step - loss: 2.8640e-04 - categorical_accuracy: 1.0000 - val_loss: 0.0978 - val_categorical_accuracy: 0.9812\n",
      "Epoch 6/80\n",
      "48000/48000 [==============================] - 1s 16us/step - loss: 2.1460e-04 - categorical_accuracy: 1.0000 - val_loss: 0.0984 - val_categorical_accuracy: 0.9817\n",
      "Epoch 7/80\n",
      "48000/48000 [==============================] - 1s 15us/step - loss: 1.6888e-04 - categorical_accuracy: 1.0000 - val_loss: 0.0990 - val_categorical_accuracy: 0.9817\n",
      "Epoch 8/80\n",
      "48000/48000 [==============================] - 1s 15us/step - loss: 1.8458e-04 - categorical_accuracy: 1.0000 - val_loss: 0.2120 - val_categorical_accuracy: 0.9620\n",
      "Epoch 9/80\n",
      "48000/48000 [==============================] - 1s 15us/step - loss: 0.0536 - categorical_accuracy: 0.9896 - val_loss: 0.0984 - val_categorical_accuracy: 0.9812\n",
      "Epoch 10/80\n",
      "48000/48000 [==============================] - 1s 16us/step - loss: 3.1517e-04 - categorical_accuracy: 1.0000 - val_loss: 0.0966 - val_categorical_accuracy: 0.9817\n",
      "Epoch 11/80\n",
      "48000/48000 [==============================] - 1s 15us/step - loss: 2.1388e-04 - categorical_accuracy: 1.0000 - val_loss: 0.0969 - val_categorical_accuracy: 0.9819\n",
      "Epoch 12/80\n",
      "48000/48000 [==============================] - 1s 15us/step - loss: 1.6701e-04 - categorical_accuracy: 1.0000 - val_loss: 0.0981 - val_categorical_accuracy: 0.9821\n",
      "Epoch 13/80\n",
      "48000/48000 [==============================] - 1s 14us/step - loss: 1.3232e-04 - categorical_accuracy: 1.0000 - val_loss: 0.0998 - val_categorical_accuracy: 0.9821\n",
      "Epoch 14/80\n",
      "48000/48000 [==============================] - 1s 15us/step - loss: 1.0987e-04 - categorical_accuracy: 1.0000 - val_loss: 0.1048 - val_categorical_accuracy: 0.9815\n",
      "Epoch 15/80\n",
      "48000/48000 [==============================] - 1s 15us/step - loss: 0.0364 - categorical_accuracy: 0.9935 - val_loss: 0.1043 - val_categorical_accuracy: 0.9812\n",
      "Epoch 16/80\n",
      "48000/48000 [==============================] - 1s 15us/step - loss: 2.3588e-04 - categorical_accuracy: 1.0000 - val_loss: 0.1015 - val_categorical_accuracy: 0.9814\n",
      "Epoch 17/80\n",
      "48000/48000 [==============================] - 1s 16us/step - loss: 1.4894e-04 - categorical_accuracy: 1.0000 - val_loss: 0.1016 - val_categorical_accuracy: 0.9818\n",
      "Epoch 18/80\n",
      "48000/48000 [==============================] - 1s 15us/step - loss: 1.1417e-04 - categorical_accuracy: 1.0000 - val_loss: 0.1023 - val_categorical_accuracy: 0.9818\n",
      "Epoch 19/80\n",
      "48000/48000 [==============================] - 1s 14us/step - loss: 9.1728e-05 - categorical_accuracy: 1.0000 - val_loss: 0.1033 - val_categorical_accuracy: 0.9819\n",
      "Epoch 20/80\n",
      "48000/48000 [==============================] - 1s 14us/step - loss: 7.5212e-05 - categorical_accuracy: 1.0000 - val_loss: 0.1048 - val_categorical_accuracy: 0.9821\n",
      "Epoch 21/80\n",
      "48000/48000 [==============================] - 1s 14us/step - loss: 0.0404 - categorical_accuracy: 0.9934 - val_loss: 0.1013 - val_categorical_accuracy: 0.9820\n",
      "Epoch 22/80\n",
      "48000/48000 [==============================] - 1s 14us/step - loss: 1.6906e-04 - categorical_accuracy: 1.0000 - val_loss: 0.1002 - val_categorical_accuracy: 0.9823\n",
      "Epoch 23/80\n",
      "48000/48000 [==============================] - 1s 14us/step - loss: 1.1787e-04 - categorical_accuracy: 1.0000 - val_loss: 0.1008 - val_categorical_accuracy: 0.9827\n",
      "Epoch 24/80\n",
      "48000/48000 [==============================] - 1s 16us/step - loss: 9.1706e-05 - categorical_accuracy: 1.0000 - val_loss: 0.1023 - val_categorical_accuracy: 0.9823\n",
      "Epoch 25/80\n",
      "48000/48000 [==============================] - 1s 16us/step - loss: 7.2711e-05 - categorical_accuracy: 1.0000 - val_loss: 0.1034 - val_categorical_accuracy: 0.9827\n",
      "Epoch 26/80\n",
      "48000/48000 [==============================] - 1s 14us/step - loss: 1.3969e-04 - categorical_accuracy: 1.0000 - val_loss: 0.1572 - val_categorical_accuracy: 0.9741\n",
      "Epoch 27/80\n",
      "48000/48000 [==============================] - 1s 14us/step - loss: 0.0331 - categorical_accuracy: 0.9931 - val_loss: 0.1056 - val_categorical_accuracy: 0.9806\n",
      "Epoch 28/80\n",
      "48000/48000 [==============================] - 1s 16us/step - loss: 1.5417e-04 - categorical_accuracy: 1.0000 - val_loss: 0.1046 - val_categorical_accuracy: 0.9813\n",
      "Epoch 29/80\n",
      "48000/48000 [==============================] - 1s 15us/step - loss: 1.0994e-04 - categorical_accuracy: 1.0000 - val_loss: 0.1042 - val_categorical_accuracy: 0.9814\n",
      "Epoch 30/80\n",
      "48000/48000 [==============================] - 1s 15us/step - loss: 8.5278e-05 - categorical_accuracy: 1.0000 - val_loss: 0.1046 - val_categorical_accuracy: 0.9816\n",
      "Epoch 31/80\n",
      "48000/48000 [==============================] - 1s 15us/step - loss: 6.7568e-05 - categorical_accuracy: 1.0000 - val_loss: 0.1060 - val_categorical_accuracy: 0.9815\n",
      "Epoch 32/80\n",
      "48000/48000 [==============================] - 1s 15us/step - loss: 5.2396e-05 - categorical_accuracy: 1.0000 - val_loss: 0.1076 - val_categorical_accuracy: 0.9818\n",
      "Epoch 33/80\n",
      "48000/48000 [==============================] - 1s 16us/step - loss: 0.0336 - categorical_accuracy: 0.9938 - val_loss: 0.1363 - val_categorical_accuracy: 0.9771\n",
      "Epoch 34/80\n",
      "48000/48000 [==============================] - 1s 14us/step - loss: 0.0015 - categorical_accuracy: 0.9997 - val_loss: 0.1075 - val_categorical_accuracy: 0.9811\n",
      "Epoch 35/80\n",
      "48000/48000 [==============================] - 1s 16us/step - loss: 1.4277e-04 - categorical_accuracy: 1.0000 - val_loss: 0.1065 - val_categorical_accuracy: 0.9817\n",
      "Epoch 36/80\n",
      "48000/48000 [==============================] - 1s 14us/step - loss: 7.7482e-05 - categorical_accuracy: 1.0000 - val_loss: 0.1068 - val_categorical_accuracy: 0.9820\n",
      "Epoch 37/80\n",
      "48000/48000 [==============================] - 1s 16us/step - loss: 5.4033e-05 - categorical_accuracy: 1.0000 - val_loss: 0.1075 - val_categorical_accuracy: 0.9819\n",
      "Epoch 38/80\n",
      "48000/48000 [==============================] - 1s 16us/step - loss: 4.2938e-05 - categorical_accuracy: 1.0000 - val_loss: 0.1087 - val_categorical_accuracy: 0.9821\n",
      "Epoch 39/80\n",
      "48000/48000 [==============================] - 1s 17us/step - loss: 3.5037e-05 - categorical_accuracy: 1.0000 - val_loss: 0.1104 - val_categorical_accuracy: 0.9820\n",
      "Epoch 40/80\n",
      "48000/48000 [==============================] - 1s 17us/step - loss: 0.0685 - categorical_accuracy: 0.9868 - val_loss: 0.1221 - val_categorical_accuracy: 0.9798\n",
      "Epoch 41/80\n",
      "48000/48000 [==============================] - 1s 15us/step - loss: 4.4721e-04 - categorical_accuracy: 0.9999 - val_loss: 0.1139 - val_categorical_accuracy: 0.9809\n",
      "Epoch 42/80\n",
      "48000/48000 [==============================] - 1s 15us/step - loss: 1.1723e-04 - categorical_accuracy: 1.0000 - val_loss: 0.1122 - val_categorical_accuracy: 0.9809\n",
      "Epoch 43/80\n",
      "48000/48000 [==============================] - 1s 14us/step - loss: 8.1003e-05 - categorical_accuracy: 1.0000 - val_loss: 0.1110 - val_categorical_accuracy: 0.9808\n",
      "Epoch 44/80\n",
      "48000/48000 [==============================] - 1s 17us/step - loss: 6.0273e-05 - categorical_accuracy: 1.0000 - val_loss: 0.1107 - val_categorical_accuracy: 0.9812\n",
      "Epoch 45/80\n",
      "48000/48000 [==============================] - 1s 19us/step - loss: 4.6122e-05 - categorical_accuracy: 1.0000 - val_loss: 0.1109 - val_categorical_accuracy: 0.9816\n",
      "Epoch 46/80\n",
      "48000/48000 [==============================] - 1s 18us/step - loss: 3.8686e-05 - categorical_accuracy: 1.0000 - val_loss: 0.1119 - val_categorical_accuracy: 0.9821\n",
      "Epoch 47/80\n"
     ]
    },
    {
     "name": "stdout",
     "output_type": "stream",
     "text": [
      "48000/48000 [==============================] - 1s 16us/step - loss: 2.9024e-05 - categorical_accuracy: 1.0000 - val_loss: 0.1128 - val_categorical_accuracy: 0.9817\n",
      "Epoch 48/80\n",
      "48000/48000 [==============================] - 1s 18us/step - loss: 1.2344e-04 - categorical_accuracy: 1.0000 - val_loss: 0.4885 - val_categorical_accuracy: 0.9245\n",
      "Epoch 49/80\n",
      "48000/48000 [==============================] - 1s 16us/step - loss: 0.0376 - categorical_accuracy: 0.9933 - val_loss: 0.1120 - val_categorical_accuracy: 0.9814\n",
      "Epoch 50/80\n",
      "48000/48000 [==============================] - 1s 14us/step - loss: 6.6374e-05 - categorical_accuracy: 1.0000 - val_loss: 0.1113 - val_categorical_accuracy: 0.9810\n",
      "Epoch 51/80\n",
      "48000/48000 [==============================] - 1s 14us/step - loss: 5.0098e-05 - categorical_accuracy: 1.0000 - val_loss: 0.1112 - val_categorical_accuracy: 0.9812\n",
      "Epoch 52/80\n",
      "48000/48000 [==============================] - 1s 14us/step - loss: 3.9352e-05 - categorical_accuracy: 1.0000 - val_loss: 0.1113 - val_categorical_accuracy: 0.9816\n",
      "Epoch 53/80\n",
      "48000/48000 [==============================] - 1s 14us/step - loss: 3.1273e-05 - categorical_accuracy: 1.0000 - val_loss: 0.1115 - val_categorical_accuracy: 0.9817\n",
      "Epoch 54/80\n",
      "48000/48000 [==============================] - 1s 14us/step - loss: 2.4505e-05 - categorical_accuracy: 1.0000 - val_loss: 0.1126 - val_categorical_accuracy: 0.9818\n",
      "Epoch 55/80\n",
      "48000/48000 [==============================] - 1s 14us/step - loss: 1.9339e-05 - categorical_accuracy: 1.0000 - val_loss: 0.1141 - val_categorical_accuracy: 0.9817\n",
      "Epoch 56/80\n",
      "48000/48000 [==============================] - 1s 16us/step - loss: 0.0015 - categorical_accuracy: 0.9995 - val_loss: 0.7337 - val_categorical_accuracy: 0.9173\n",
      "Epoch 57/80\n",
      "48000/48000 [==============================] - 1s 14us/step - loss: 0.0536 - categorical_accuracy: 0.9936 - val_loss: 0.1187 - val_categorical_accuracy: 0.9814\n",
      "Epoch 58/80\n",
      "48000/48000 [==============================] - 1s 14us/step - loss: 6.0394e-05 - categorical_accuracy: 1.0000 - val_loss: 0.1172 - val_categorical_accuracy: 0.9817\n",
      "Epoch 59/80\n",
      "48000/48000 [==============================] - 1s 14us/step - loss: 4.0805e-05 - categorical_accuracy: 1.0000 - val_loss: 0.1167 - val_categorical_accuracy: 0.9818\n",
      "Epoch 60/80\n",
      "48000/48000 [==============================] - 1s 14us/step - loss: 3.0473e-05 - categorical_accuracy: 1.0000 - val_loss: 0.1168 - val_categorical_accuracy: 0.9819\n",
      "Epoch 61/80\n",
      "48000/48000 [==============================] - 1s 14us/step - loss: 2.3319e-05 - categorical_accuracy: 1.0000 - val_loss: 0.1172 - val_categorical_accuracy: 0.9818\n",
      "Epoch 62/80\n",
      "48000/48000 [==============================] - 1s 14us/step - loss: 1.7925e-05 - categorical_accuracy: 1.0000 - val_loss: 0.1180 - val_categorical_accuracy: 0.9817\n",
      "Epoch 63/80\n",
      "48000/48000 [==============================] - 1s 15us/step - loss: 1.4044e-05 - categorical_accuracy: 1.0000 - val_loss: 0.1184 - val_categorical_accuracy: 0.9820\n",
      "Epoch 64/80\n",
      "48000/48000 [==============================] - 1s 15us/step - loss: 1.1115e-05 - categorical_accuracy: 1.0000 - val_loss: 0.1197 - val_categorical_accuracy: 0.9821\n",
      "Epoch 65/80\n",
      "48000/48000 [==============================] - 1s 15us/step - loss: 0.0126 - categorical_accuracy: 0.9980 - val_loss: 0.3430 - val_categorical_accuracy: 0.9484\n",
      "Epoch 66/80\n",
      "48000/48000 [==============================] - 1s 14us/step - loss: 0.0169 - categorical_accuracy: 0.9960 - val_loss: 0.1205 - val_categorical_accuracy: 0.9814\n",
      "Epoch 67/80\n",
      "48000/48000 [==============================] - 1s 14us/step - loss: 4.9419e-05 - categorical_accuracy: 1.0000 - val_loss: 0.1187 - val_categorical_accuracy: 0.9816\n",
      "Epoch 68/80\n",
      "48000/48000 [==============================] - 1s 14us/step - loss: 2.8981e-05 - categorical_accuracy: 1.0000 - val_loss: 0.1179 - val_categorical_accuracy: 0.9817\n",
      "Epoch 69/80\n",
      "48000/48000 [==============================] - 1s 14us/step - loss: 2.1223e-05 - categorical_accuracy: 1.0000 - val_loss: 0.1175 - val_categorical_accuracy: 0.9817\n",
      "Epoch 70/80\n",
      "48000/48000 [==============================] - 1s 14us/step - loss: 1.7030e-05 - categorical_accuracy: 1.0000 - val_loss: 0.1174 - val_categorical_accuracy: 0.9814\n",
      "Epoch 71/80\n",
      "48000/48000 [==============================] - 1s 14us/step - loss: 1.3900e-05 - categorical_accuracy: 1.0000 - val_loss: 0.1175 - val_categorical_accuracy: 0.9815\n",
      "Epoch 72/80\n",
      "48000/48000 [==============================] - 1s 15us/step - loss: 1.1381e-05 - categorical_accuracy: 1.0000 - val_loss: 0.1182 - val_categorical_accuracy: 0.9813\n",
      "Epoch 73/80\n",
      "48000/48000 [==============================] - 1s 14us/step - loss: 9.2328e-06 - categorical_accuracy: 1.0000 - val_loss: 0.1197 - val_categorical_accuracy: 0.9816\n",
      "Epoch 74/80\n",
      "48000/48000 [==============================] - 1s 14us/step - loss: 7.8010e-06 - categorical_accuracy: 1.0000 - val_loss: 0.1208 - val_categorical_accuracy: 0.9818\n",
      "Epoch 75/80\n",
      "48000/48000 [==============================] - 1s 14us/step - loss: 6.3742e-06 - categorical_accuracy: 1.0000 - val_loss: 0.1227 - val_categorical_accuracy: 0.9816\n",
      "Epoch 76/80\n",
      "48000/48000 [==============================] - 1s 13us/step - loss: 0.0962 - categorical_accuracy: 0.9850 - val_loss: 0.1469 - val_categorical_accuracy: 0.9775\n",
      "Epoch 77/80\n",
      "48000/48000 [==============================] - 1s 13us/step - loss: 3.5984e-04 - categorical_accuracy: 0.9999 - val_loss: 0.1354 - val_categorical_accuracy: 0.9798\n",
      "Epoch 78/80\n",
      "48000/48000 [==============================] - 1s 14us/step - loss: 7.4855e-05 - categorical_accuracy: 1.0000 - val_loss: 0.1324 - val_categorical_accuracy: 0.9804\n",
      "Epoch 79/80\n",
      "48000/48000 [==============================] - 1s 14us/step - loss: 4.3492e-05 - categorical_accuracy: 1.0000 - val_loss: 0.1301 - val_categorical_accuracy: 0.9813\n",
      "Epoch 80/80\n",
      "48000/48000 [==============================] - 1s 13us/step - loss: 2.7050e-05 - categorical_accuracy: 1.0000 - val_loss: 0.1281 - val_categorical_accuracy: 0.9815\n"
     ]
    }
   ],
   "source": [
    "h = m.fit(train_imgs_t, train_labels_t, epochs=80, batch_size=4096, validation_split=.2)"
   ]
  },
  {
   "cell_type": "code",
   "execution_count": 38,
   "metadata": {},
   "outputs": [
    {
     "data": {
      "image/png": "[encoded data removed]",
      "text/plain": [
       "<Figure size 432x288 with 1 Axes>"
      ]
     },
     "metadata": {
      "needs_background": "light"
     },
     "output_type": "display_data"
    }
   ],
   "source": [
    "plot_metric(h, 'loss')"
   ]
  },
  {
   "cell_type": "code",
   "execution_count": 39,
   "metadata": {},
   "outputs": [
    {
     "data": {
      "image/png": "[encoded data removed]",
      "text/plain": [
       "<Figure size 432x288 with 1 Axes>"
      ]
     },
     "metadata": {
      "needs_background": "light"
     },
     "output_type": "display_data"
    }
   ],
   "source": [
    "plot_metric(h, 'categorical_accuracy')"
   ]
  },
  {
   "cell_type": "markdown",
   "metadata": {},
   "source": [
    "<div class=\"alert alert-success\">\n",
    "Why are there so many spikes in the training loss? Any ideas?\n",
    "</div>"
   ]
  },
  {
   "cell_type": "markdown",
   "metadata": {},
   "source": [
    "<div class=\"alert alert-success\">\n",
    "Is the model overfitting?\n",
    "</div>"
   ]
  },
  {
   "cell_type": "markdown",
   "metadata": {},
   "source": [
    "\n",
    "Now let's check how well the model works with the test dataset. Remember that we don't have used it at all during the training and tuning of the model."
   ]
  },
  {
   "cell_type": "markdown",
   "metadata": {},
   "source": [
    "## Analyze the classification performance\n",
    "\n",
    "For this, we will use the model's `evaluation` method. This process is what it's called **inference**."
   ]
  },
  {
   "cell_type": "code",
   "execution_count": 39,
   "metadata": {},
   "outputs": [
    {
     "name": "stdout",
     "output_type": "stream",
     "text": [
      "10000/10000 [==============================] - 0s 48us/step\n"
     ]
    }
   ],
   "source": [
    "loss, acc = m.evaluate(test_imgs_t, test_labels_t)"
   ]
  },
  {
   "cell_type": "code",
   "execution_count": 40,
   "metadata": {},
   "outputs": [
    {
     "data": {
      "text/plain": [
       "(0.08663652721873719, 0.9834)"
      ]
     },
     "execution_count": 40,
     "metadata": {},
     "output_type": "execute_result"
    }
   ],
   "source": [
    "loss, acc"
   ]
  },
  {
   "cell_type": "markdown",
   "metadata": {},
   "source": [
    "That's $>95\\%$ accuracy on the test set. Not bad.\n",
    "\n",
    "With that accuracy, this is the number of images that are wrongly classified by our model:"
   ]
  },
  {
   "cell_type": "code",
   "execution_count": 41,
   "metadata": {},
   "outputs": [
    {
     "data": {
      "text/plain": [
       "165.9999999999995"
      ]
     },
     "execution_count": 41,
     "metadata": {},
     "output_type": "execute_result"
    }
   ],
   "source": [
    "test_imgs.shape[0]*(1-acc)  # number of images that will be missclassified"
   ]
  },
  {
   "cell_type": "markdown",
   "metadata": {},
   "source": [
    "Let's see how well it predicts some random items from the test set."
   ]
  },
  {
   "cell_type": "code",
   "execution_count": 42,
   "metadata": {},
   "outputs": [
    {
     "name": "stdout",
     "output_type": "stream",
     "text": [
      "The image below should show the number 8\n"
     ]
    },
    {
     "data": {
      "image/png": "[encoded data removed]",
      "text/plain": [
       "<Figure size 432x288 with 1 Axes>"
      ]
     },
     "metadata": {
      "needs_background": "light"
     },
     "output_type": "display_data"
    }
   ],
   "source": [
    "plot_mnist_image(2543, test_imgs, test_labels)"
   ]
  },
  {
   "cell_type": "markdown",
   "metadata": {},
   "source": [
    "The prediction is a 10-element vector (*1-HOT encoded vector*), with (something like) the probability of each class. The location of the max is giving us the predicted class."
   ]
  },
  {
   "cell_type": "code",
   "execution_count": 43,
   "metadata": {},
   "outputs": [
    {
     "data": {
      "text/plain": [
       "array([[3.62980701e-10, 7.84768344e-12, 7.03325315e-11, 1.19061971e-09,\n",
       "        1.98086225e-16, 7.80238998e-11, 7.61228428e-13, 9.47584567e-13,\n",
       "        1.00000000e+00, 1.06209945e-11]], dtype=float32)"
      ]
     },
     "execution_count": 43,
     "metadata": {},
     "output_type": "execute_result"
    }
   ],
   "source": [
    "m.predict(test_imgs_t[2543:2544,])"
   ]
  },
  {
   "cell_type": "code",
   "execution_count": 44,
   "metadata": {},
   "outputs": [
    {
     "data": {
      "text/plain": [
       "8"
      ]
     },
     "execution_count": 44,
     "metadata": {},
     "output_type": "execute_result"
    }
   ],
   "source": [
    "np.argmax(m.predict(test_imgs_t[2543:2544,]))"
   ]
  },
  {
   "cell_type": "markdown",
   "metadata": {},
   "source": [
    "YES! Our model predicts 8"
   ]
  },
  {
   "cell_type": "markdown",
   "metadata": {},
   "source": [
    "## Exercises\n",
    "\n",
    "**EXERCISE 1**: Change the [activation function](https://keras.io/activations/) in the model. How does it affect accuracy? What happens if you use linear activation function? What happens if we use the $\\tanh$ function? Does it affect to overfitting?\n",
    "\n",
    " \n",
    "Here we see that the accuracy keeps increasing over epochs. An overfitted model would produce a decrease of the validation accuracy at some point. This means that we have found an optimal model. The validation loss is stuck at a minimum, but the accuracy is not affected by the extra epochs.\n",
    "\n",
    "_**EXERCISE 2**_: How is the model accuracy (measured with the test set, see below) affected if we start over and fit for 40 epochs? And for 4? And for 400?\n",
    "\n",
    "_**EXERCISE 4**_: What is the most simple model that you can get that achieves a similar validation performance (accuracy)? (Note that the loss values might not be comparable if we use regularization techniques, change the network architecture, etc.)\n",
    "\n",
    "_**EXERCISE 5**_: Can you find a test item that is predicted wrongly? How many images are predicted wrongly? Can you find all the items that are wrongly classified? For instance, the test element with index 3943 is a 3 but we predict a 5"
   ]
  },
  {
   "cell_type": "code",
   "execution_count": 45,
   "metadata": {},
   "outputs": [
    {
     "name": "stdout",
     "output_type": "stream",
     "text": [
      "The image below should show the number 3\n"
     ]
    },
    {
     "data": {
      "image/png": "[encoded data removed]",
      "text/plain": [
       "<Figure size 432x288 with 1 Axes>"
      ]
     },
     "metadata": {
      "needs_background": "light"
     },
     "output_type": "display_data"
    }
   ],
   "source": [
    "plot_mnist_image(3943, test_imgs, test_labels)"
   ]
  },
  {
   "cell_type": "code",
   "execution_count": 46,
   "metadata": {},
   "outputs": [
    {
     "data": {
      "text/plain": [
       "5"
      ]
     },
     "execution_count": 46,
     "metadata": {},
     "output_type": "execute_result"
    }
   ],
   "source": [
    "np.argmax(m.predict(test_imgs_t[3943:3944,]))"
   ]
  },
  {
   "cell_type": "code",
   "execution_count": 47,
   "metadata": {
    "collapsed": true
   },
   "outputs": [],
   "source": [
    "preds = m.predict(test_imgs_t)"
   ]
  },
  {
   "cell_type": "code",
   "execution_count": 48,
   "metadata": {},
   "outputs": [
    {
     "data": {
      "text/plain": [
       "(10000, 10)"
      ]
     },
     "execution_count": 48,
     "metadata": {},
     "output_type": "execute_result"
    }
   ],
   "source": [
    "preds.shape"
   ]
  },
  {
   "cell_type": "code",
   "execution_count": 49,
   "metadata": {},
   "outputs": [
    {
     "data": {
      "text/plain": [
       "array([3.6297862e-10, 7.8476392e-12, 7.0331997e-11, 1.1906152e-09,\n",
       "       1.9808623e-16, 7.8023456e-11, 7.6122550e-13, 9.4757730e-13,\n",
       "       1.0000000e+00, 1.0620893e-11], dtype=float32)"
      ]
     },
     "execution_count": 49,
     "metadata": {},
     "output_type": "execute_result"
    }
   ],
   "source": [
    "preds[2543]"
   ]
  },
  {
   "cell_type": "code",
   "execution_count": 50,
   "metadata": {},
   "outputs": [
    {
     "data": {
      "text/plain": [
       "8"
      ]
     },
     "execution_count": 50,
     "metadata": {},
     "output_type": "execute_result"
    }
   ],
   "source": [
    "np.argmax(preds[2543])"
   ]
  },
  {
   "cell_type": "code",
   "execution_count": 51,
   "metadata": {
    "collapsed": true
   },
   "outputs": [],
   "source": [
    "preds_labels = preds.argmax(axis=1)  # preds is 10000x10, apply the Max func in every row"
   ]
  },
  {
   "cell_type": "code",
   "execution_count": 52,
   "metadata": {},
   "outputs": [
    {
     "data": {
      "text/plain": [
       "(10000,)"
      ]
     },
     "execution_count": 52,
     "metadata": {},
     "output_type": "execute_result"
    }
   ],
   "source": [
    "preds_labels.shape"
   ]
  },
  {
   "cell_type": "code",
   "execution_count": 53,
   "metadata": {},
   "outputs": [
    {
     "data": {
      "text/plain": [
       "8"
      ]
     },
     "execution_count": 53,
     "metadata": {},
     "output_type": "execute_result"
    }
   ],
   "source": [
    "preds_labels[2543]"
   ]
  },
  {
   "cell_type": "markdown",
   "metadata": {},
   "source": [
    "Ok, but in which positions can we find all the misclassifications?"
   ]
  },
  {
   "cell_type": "code",
   "execution_count": 54,
   "metadata": {
    "collapsed": true
   },
   "outputs": [],
   "source": [
    "pos = np.where(preds_labels != test_labels)[0]"
   ]
  },
  {
   "cell_type": "code",
   "execution_count": 55,
   "metadata": {},
   "outputs": [
    {
     "data": {
      "text/plain": [
       "array([ 149,  151,  247,  321,  340,  445,  495,  582,  619,  684,  691,\n",
       "        720,  740,  877,  947,  951,  956,  965, 1014, 1039, 1112, 1156,\n",
       "       1226, 1242, 1247, 1319, 1378, 1393, 1500, 1522, 1530, 1549, 1553,\n",
       "       1609, 1681, 1717, 1790, 1800, 1828, 1878, 1901, 1941, 2004, 2024,\n",
       "       2043, 2053, 2070, 2109, 2118, 2129, 2130, 2135, 2182, 2272, 2293,\n",
       "       2369, 2387, 2406, 2488, 2597, 2607, 2648, 2654, 2810, 2836, 2877,\n",
       "       2921, 2939, 2953, 3060, 3073, 3117, 3289, 3405, 3422, 3451, 3503,\n",
       "       3520, 3558, 3597, 3727, 3751, 3776, 3808, 3811, 3838, 3869, 3893,\n",
       "       3902, 3906, 3941, 3943, 3985, 4065, 4078, 4163, 4176, 4199, 4201,\n",
       "       4224, 4248, 4289, 4497, 4536, 4548, 4601, 4740, 4807, 4823, 4880,\n",
       "       5331, 5457, 5634, 5642, 5676, 5734, 5757, 5887, 5936, 5937, 5955,\n",
       "       5973, 5981, 6009, 6011, 6023, 6059, 6166, 6421, 6532, 6555, 6571,\n",
       "       6574, 6597, 6651, 6755, 6783, 6847, 7216, 7434, 7921, 8094, 8311,\n",
       "       8325, 8520, 9009, 9015, 9024, 9280, 9587, 9634, 9642, 9664, 9669,\n",
       "       9679, 9698, 9700, 9729, 9745, 9749, 9768, 9770, 9792, 9839, 9944,\n",
       "       9982])"
      ]
     },
     "execution_count": 55,
     "metadata": {},
     "output_type": "execute_result"
    }
   ],
   "source": [
    "pos"
   ]
  },
  {
   "cell_type": "code",
   "execution_count": 56,
   "metadata": {},
   "outputs": [
    {
     "data": {
      "text/plain": [
       "166"
      ]
     },
     "execution_count": 56,
     "metadata": {},
     "output_type": "execute_result"
    }
   ],
   "source": [
    "len(pos)"
   ]
  },
  {
   "cell_type": "markdown",
   "metadata": {},
   "source": [
    "_**EXERCISE 6**_: Some digits are more difficult to recognize than others. Because we know the test labels, we can find out how many times the corresponding test images are misclassified. Could you find what are the top 3 test labels that are more often misclassified?"
   ]
  },
  {
   "cell_type": "markdown",
   "metadata": {},
   "source": [
    "Let's check some wrong predictions"
   ]
  },
  {
   "cell_type": "code",
   "execution_count": 57,
   "metadata": {},
   "outputs": [
    {
     "name": "stdout",
     "output_type": "stream",
     "text": [
      "The image below should show the number 7\n"
     ]
    },
    {
     "data": {
      "image/png": "[encoded data removed]",
      "text/plain": [
       "<Figure size 432x288 with 1 Axes>"
      ]
     },
     "metadata": {
      "needs_background": "light"
     },
     "output_type": "display_data"
    }
   ],
   "source": [
    "plot_mnist_image(124, test_imgs, test_labels)"
   ]
  },
  {
   "cell_type": "code",
   "execution_count": 58,
   "metadata": {},
   "outputs": [
    {
     "data": {
      "text/plain": [
       "7"
      ]
     },
     "execution_count": 58,
     "metadata": {},
     "output_type": "execute_result"
    }
   ],
   "source": [
    "preds_labels[124]"
   ]
  },
  {
   "cell_type": "markdown",
   "metadata": {},
   "source": [
    "These are the items that are wrongly classified:"
   ]
  },
  {
   "cell_type": "code",
   "execution_count": 59,
   "metadata": {},
   "outputs": [
    {
     "data": {
      "text/plain": [
       "array([2, 9, 4, 2, 5, 6, 8, 8, 1, 7, 8, 5, 4, 8, 8, 5, 1, 6, 6, 7, 4, 7,\n",
       "       7, 4, 9, 8, 5, 5, 7, 7, 8, 4, 9, 2, 3, 8, 2, 6, 3, 8, 9, 7, 8, 7,\n",
       "       4, 4, 7, 3, 6, 9, 4, 6, 1, 8, 9, 5, 9, 9, 2, 5, 7, 9, 6, 5, 4, 4,\n",
       "       3, 9, 3, 9, 1, 5, 8, 4, 6, 7, 9, 6, 5, 9, 8, 7, 5, 7, 2, 7, 9, 5,\n",
       "       5, 1, 4, 3, 9, 0, 9, 9, 2, 7, 1, 9, 2, 2, 8, 6, 5, 8, 3, 8, 9, 0,\n",
       "       1, 1, 2, 1, 4, 3, 9, 7, 4, 5, 3, 3, 5, 3, 3, 3, 3, 9, 3, 0, 8, 9,\n",
       "       2, 0, 0, 8, 1, 6, 0, 4, 8, 2, 6, 0, 4, 7, 7, 7, 8, 9, 0, 9, 2, 4,\n",
       "       6, 6, 2, 5, 4, 5, 2, 5, 4, 2, 3, 5], dtype=uint8)"
      ]
     },
     "execution_count": 59,
     "metadata": {},
     "output_type": "execute_result"
    }
   ],
   "source": [
    "test_labels[pos]"
   ]
  },
  {
   "cell_type": "code",
   "execution_count": 60,
   "metadata": {
    "collapsed": true
   },
   "outputs": [],
   "source": [
    "import pandas as pd"
   ]
  },
  {
   "cell_type": "code",
   "execution_count": 61,
   "metadata": {
    "collapsed": true
   },
   "outputs": [],
   "source": [
    "wrong_class = pd.Series(np.bincount(test_labels[pos]))"
   ]
  },
  {
   "cell_type": "code",
   "execution_count": 62,
   "metadata": {},
   "outputs": [
    {
     "data": {
      "image/png": "[encoded data removed]",
      "text/plain": [
       "<Figure size 432x288 with 1 Axes>"
      ]
     },
     "metadata": {
      "needs_background": "light"
     },
     "output_type": "display_data"
    }
   ],
   "source": [
    "wrong_class.plot.bar()\n",
    "plt.show()"
   ]
  },
  {
   "cell_type": "markdown",
   "metadata": {},
   "source": [
    "So we see that $7$ is wrongly classified more than the rest. But does it mean that our model has more difficulties recognizing 7s?"
   ]
  },
  {
   "cell_type": "code",
   "execution_count": 63,
   "metadata": {
    "collapsed": true
   },
   "outputs": [],
   "source": [
    "all_labels = pd.Series(np.bincount(test_labels))"
   ]
  },
  {
   "cell_type": "code",
   "execution_count": 64,
   "metadata": {
    "collapsed": true
   },
   "outputs": [],
   "source": [
    "prop_wrong = wrong_class/all_labels*100"
   ]
  },
  {
   "cell_type": "code",
   "execution_count": 65,
   "metadata": {},
   "outputs": [
    {
     "data": {
      "image/png": "[encoded data removed]",
      "text/plain": [
       "<Figure size 432x288 with 1 Axes>"
      ]
     },
     "metadata": {
      "needs_background": "light"
     },
     "output_type": "display_data"
    }
   ],
   "source": [
    "prop_wrong.plot.bar()\n",
    "plt.show()"
   ]
  },
  {
   "cell_type": "markdown",
   "metadata": {},
   "source": [
    "Our model has the most difficulties recognizing 7s and 4s, overall"
   ]
  }
 ],
 "metadata": {
  "kernelspec": {
   "display_name": "Python [conda env:dl_win_gpu]",
   "language": "python",
   "name": "conda-env-dl_win_gpu-py"
  },
  "language_info": {
   "codemirror_mode": {
    "name": "ipython",
    "version": 3
   },
   "file_extension": ".py",
   "mimetype": "text/x-python",
   "name": "python",
   "nbconvert_exporter": "python",
   "pygments_lexer": "ipython3",
   "version": "3.6.7"
  }
 },
 "nbformat": 4,
 "nbformat_minor": 2
}
