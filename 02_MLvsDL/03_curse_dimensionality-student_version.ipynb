{
 "cells": [
  {
   "cell_type": "code",
   "execution_count": 5,
   "metadata": {},
   "outputs": [
    {
     "name": "stdout",
     "output_type": "stream",
     "text": [
      "Populating the interactive namespace from numpy and matplotlib\n"
     ]
    }
   ],
   "source": [
    "%pylab inline\n",
    "plt.style.use('seaborn-talk')"
   ]
  },
  {
   "cell_type": "markdown",
   "metadata": {},
   "source": [
    "We will use this function to plot the metrics of our training process, to help in choosing the best model"
   ]
  },
  {
   "cell_type": "code",
   "execution_count": 6,
   "metadata": {},
   "outputs": [],
   "source": [
    "def plot_metric(history, metric):\n",
    "    history_dict = history.history\n",
    "    values = history_dict[metric]\n",
    "    if 'val_' + metric in history_dict.keys():  \n",
    "        val_values = history_dict['val_' + metric]\n",
    "\n",
    "    epochs = range(1, len(values) + 1)\n",
    "\n",
    "    if 'val_' + metric in history_dict.keys():  \n",
    "        plt.plot(epochs, val_values, label='Validation')\n",
    "    plt.semilogy(epochs, values, label='Training')\n",
    "\n",
    "    if 'val_' + metric in history_dict.keys():  \n",
    "        plt.title('Training and validation %s' % metric)\n",
    "    else:\n",
    "        plt.title('Training %s' % metric)\n",
    "    plt.xlabel('Epochs')\n",
    "    plt.ylabel(metric.capitalize())\n",
    "    plt.legend()\n",
    "    plt.grid()\n",
    "\n",
    "    plt.show()  "
   ]
  },
  {
   "cell_type": "markdown",
   "metadata": {},
   "source": [
    "We will use this function to explore the data"
   ]
  },
  {
   "cell_type": "code",
   "execution_count": 7,
   "metadata": {},
   "outputs": [],
   "source": [
    "def plot_mnist_image(N, imgs, labels):\n",
    "    print(\"The image below should show the number %d\" % labels[N])\n",
    "    plt.imshow(imgs[N,], cmap=plt.cm.binary)\n",
    "    plt.grid(True)"
   ]
  },
  {
   "cell_type": "markdown",
   "metadata": {},
   "source": [
    "# The problem\n",
    "\n",
    "We will recognize handwritten digits. For an image containing a number between 0 and 9, we will recognize the number and will produce an int as output"
   ]
  },
  {
   "cell_type": "code",
   "execution_count": 8,
   "metadata": {},
   "outputs": [
    {
     "name": "stderr",
     "output_type": "stream",
     "text": [
      "Using TensorFlow backend.\n"
     ]
    }
   ],
   "source": [
    "from keras.datasets import mnist"
   ]
  },
  {
   "cell_type": "markdown",
   "metadata": {},
   "source": [
    "Load minst images using the method `load_data()`. Be carefull, as it returns a tuple with the image and the lables"
   ]
  },
  {
   "cell_type": "code",
   "execution_count": 9,
   "metadata": {},
   "outputs": [],
   "source": [
    "train_orig_data, test_orig_data = mnist.load_data()"
   ]
  },
  {
   "cell_type": "code",
   "execution_count": 10,
   "metadata": {},
   "outputs": [
    {
     "data": {
      "text/plain": [
       "tuple"
      ]
     },
     "execution_count": 10,
     "metadata": {},
     "output_type": "execute_result"
    }
   ],
   "source": [
    "type(train_orig_data)"
   ]
  },
  {
   "cell_type": "code",
   "execution_count": 11,
   "metadata": {},
   "outputs": [],
   "source": [
    "train_imgs, train_labels = train_orig_data\n",
    "test_imgs, test_labels = test_orig_data"
   ]
  },
  {
   "cell_type": "code",
   "execution_count": 12,
   "metadata": {},
   "outputs": [
    {
     "data": {
      "text/plain": [
       "(60000, 28, 28)"
      ]
     },
     "execution_count": 12,
     "metadata": {},
     "output_type": "execute_result"
    }
   ],
   "source": [
    "train_imgs.shape"
   ]
  },
  {
   "cell_type": "code",
   "execution_count": 13,
   "metadata": {},
   "outputs": [
    {
     "name": "stdout",
     "output_type": "stream",
     "text": [
      "The image below should show the number 2\n"
     ]
    },
    {
     "data": {
      "image/png": "[encoded data removed]",
      "text/plain": [
       "<Figure size 748.8x514.8 with 1 Axes>"
      ]
     },
     "metadata": {
      "needs_background": "light"
     },
     "output_type": "display_data"
    }
   ],
   "source": [
    "plot_mnist_image(5, train_imgs, train_labels)"
   ]
  },
  {
   "cell_type": "code",
   "execution_count": 14,
   "metadata": {},
   "outputs": [
    {
     "data": {
      "text/plain": [
       "252"
      ]
     },
     "execution_count": 14,
     "metadata": {},
     "output_type": "execute_result"
    }
   ],
   "source": [
    "train_imgs[5,10,10]"
   ]
  },
  {
   "cell_type": "raw",
   "metadata": {},
   "source": []
  },
  {
   "cell_type": "markdown",
   "metadata": {},
   "source": [
    "## A note on the curse of dimensionality"
   ]
  },
  {
   "cell_type": "markdown",
   "metadata": {},
   "source": [
    "Define a similarity measure. For instance, the [cosine similarity](https://en.wikipedia.org/wiki/Cosine_similarity), that is 1 if vectors are parallel (most similar), and zero if they are perpendicular (lack of correlation)."
   ]
  },
  {
   "cell_type": "code",
   "execution_count": 15,
   "metadata": {},
   "outputs": [],
   "source": [
    "from scipy import spatial\n",
    "\n",
    "def cosine_similarity(img1, img2):\n",
    "    # reshape input matrices as vectors\n",
    "    img1_ = img1.reshape((28*28,))\n",
    "    img2_ = img2.reshape((28*28,))\n",
    "    # normalize input vectors\n",
    "    norm1 = np.sqrt(np.sum(img1_*img1_))\n",
    "    norm2 = np.sqrt(np.sum(img2_*img2_))\n",
    "    img1_ = img1_ / norm1\n",
    "    img2_ = img2_ / norm2\n",
    "    sim = 1 - spatial.distance.cosine(img1_, img2_)    \n",
    "    return sim"
   ]
  },
  {
   "cell_type": "markdown",
   "metadata": {},
   "source": [
    "Check the similarity among two random images, and plot them. Does it make sense?"
   ]
  },
  {
   "cell_type": "code",
   "execution_count": 16,
   "metadata": {},
   "outputs": [
    {
     "data": {
      "text/plain": [
       "0.5521001886778967"
      ]
     },
     "execution_count": 16,
     "metadata": {},
     "output_type": "execute_result"
    }
   ],
   "source": [
    "cosine_similarity(train_imgs[0], train_imgs[1])"
   ]
  },
  {
   "cell_type": "markdown",
   "metadata": {},
   "source": [
    "What about the similarity among images of numbers 5?"
   ]
  },
  {
   "cell_type": "code",
   "execution_count": 25,
   "metadata": {},
   "outputs": [],
   "source": [
    "imgs5 = train_imgs[train_labels == 5, ]\n",
    "cos_sim55 = []\n",
    "index = np.random.randint(0, imgs5.shape[0], size=500)\n",
    "for i,img1 in enumerate(imgs5[index]):\n",
    "    for j,img2 in enumerate(imgs5[index]):\n",
    "        if j>i:\n",
    "            cos_sim55.append(cosine_similarity(img1, img2))\n",
    "        "
   ]
  },
  {
   "cell_type": "code",
   "execution_count": 26,
   "metadata": {},
   "outputs": [
    {
     "data": {
      "image/png": "[encoded data removed]",
      "text/plain": [
       "<Figure size 748.8x514.8 with 1 Axes>"
      ]
     },
     "metadata": {
      "needs_background": "light"
     },
     "output_type": "display_data"
    }
   ],
   "source": [
    "plt.hist(np.array(cos_sim55), bins=20)\n",
    "plt.show()"
   ]
  },
  {
   "cell_type": "markdown",
   "metadata": {},
   "source": [
    "Try the similarity between 5 and 4, or 5 and 8, for instance"
   ]
  },
  {
   "cell_type": "code",
   "execution_count": 24,
   "metadata": {},
   "outputs": [
    {
     "data": {
      "text/plain": [
       "[]"
      ]
     },
     "execution_count": 24,
     "metadata": {},
     "output_type": "execute_result"
    }
   ],
   "source": [
    "cos_sim51"
   ]
  },
  {
   "cell_type": "code",
   "execution_count": 27,
   "metadata": {},
   "outputs": [
    {
     "data": {
      "image/png": "[encoded data removed]",
      "text/plain": [
       "<Figure size 748.8x514.8 with 1 Axes>"
      ]
     },
     "metadata": {
      "needs_background": "light"
     },
     "output_type": "display_data"
    }
   ],
   "source": [
    "imgs1 = train_imgs[train_labels == 1, ]\n",
    "cos_sim51 = []\n",
    "index5 = np.random.randint(0, imgs5.shape[0], size=500)\n",
    "index1 = np.random.randint(0, imgs1.shape[0], size=500)\n",
    "for i,img1 in enumerate(imgs5[index]):\n",
    "    for j,img2 in enumerate(imgs1[index]):\n",
    "        if j>i:\n",
    "            cos_sim51.append(cosine_similarity(img1, img2))\n",
    "\n",
    "plt.hist(np.array(cos_sim55), bins=20, alpha = 0.5, color= 'b')\n",
    "plt.hist(np.array(cos_sim51), bins=20, alpha = 0.5, color= 'r')\n",
    "plt.show()"
   ]
  },
  {
   "cell_type": "markdown",
   "metadata": {},
   "source": [
    "<div class=\"alert alert-success\">\n",
    "As the dimension of our input increases, everything starts looking the same. Distances in high dimensions cannot be used! This is a consequence of the curse of dimensionality.\n",
    "</div>"
   ]
  },
  {
   "cell_type": "markdown",
   "metadata": {},
   "source": [
    "We will design a network that will be able to recognize the number shown at the image (for all the images in the test set)"
   ]
  },
  {
   "cell_type": "markdown",
   "metadata": {},
   "source": [
    "## Data transform\n",
    "\n",
    "We need to change the shape of the data, so it can be fed to the network more easily"
   ]
  },
  {
   "cell_type": "code",
   "execution_count": 33,
   "metadata": {},
   "outputs": [
    {
     "data": {
      "text/plain": [
       "(0, 255, 33.318421449829934, 78.56748998339798)"
      ]
     },
     "execution_count": 33,
     "metadata": {},
     "output_type": "execute_result"
    }
   ],
   "source": [
    "# get the min, max, meand and std of training images\n",
    "min_train = np.min(train_imgs)\n",
    "max_train = np.max(train_imgs)\n",
    "mean_train = np.mean(train_imgs)\n",
    "std_train = np.std(train_imgs)\n",
    "min_train, max_train, mean_train, std_train"
   ]
  },
  {
   "cell_type": "code",
   "execution_count": 34,
   "metadata": {},
   "outputs": [
    {
     "data": {
      "text/plain": [
       "255"
      ]
     },
     "execution_count": 34,
     "metadata": {},
     "output_type": "execute_result"
    }
   ],
   "source": [
    "train_imgs.max()"
   ]
  },
  {
   "cell_type": "markdown",
   "metadata": {},
   "source": [
    "All the images are 28x28 matrices, with values between 0 and 255. Let's normalize the images, to avoid problems in the numerical computations using large numbers.\n",
    "\n",
    "We will convert the matrix to a vector with 28x28 components, stacking columns on top of each other. This will make the design of the network.\n",
    "* Alternatively, we could add a `Flatten(input_shape=(28,28))` layer to the model"
   ]
  },
  {
   "cell_type": "code",
   "execution_count": 35,
   "metadata": {},
   "outputs": [],
   "source": [
    "# normalize image's values to the maximum\n",
    "train_imgs_t = train_imgs/train_imgs.max()\n",
    "test_imgs_t = test_imgs/test_imgs.max()"
   ]
  },
  {
   "cell_type": "markdown",
   "metadata": {},
   "source": [
    "Because we want to assign a *category* to each image, we need to transform the output to categorical format"
   ]
  },
  {
   "cell_type": "code",
   "execution_count": 36,
   "metadata": {},
   "outputs": [],
   "source": [
    "from keras.utils import to_categorical"
   ]
  },
  {
   "cell_type": "markdown",
   "metadata": {},
   "source": [
    "Initially, our target data is just a set of numbers"
   ]
  },
  {
   "cell_type": "code",
   "execution_count": 38,
   "metadata": {},
   "outputs": [
    {
     "data": {
      "text/plain": [
       "5"
      ]
     },
     "execution_count": 38,
     "metadata": {},
     "output_type": "execute_result"
    }
   ],
   "source": [
    "train_labels[0]"
   ]
  },
  {
   "cell_type": "markdown",
   "metadata": {},
   "source": [
    "We are going to transform it to **1-HOT encoding format**"
   ]
  },
  {
   "cell_type": "code",
   "execution_count": 41,
   "metadata": {},
   "outputs": [],
   "source": [
    "train_labels_t = to_categorical(train_labels)\n",
    "test_labels_t = to_categorical(test_labels)"
   ]
  },
  {
   "cell_type": "markdown",
   "metadata": {},
   "source": [
    "We have to repeat the same process with the test data"
   ]
  },
  {
   "cell_type": "code",
   "execution_count": 40,
   "metadata": {},
   "outputs": [
    {
     "data": {
      "text/plain": [
       "array([0., 0., 0., 0., 0., 1., 0., 0., 0., 0.], dtype=float32)"
      ]
     },
     "execution_count": 40,
     "metadata": {},
     "output_type": "execute_result"
    }
   ],
   "source": [
    "train_labels_t[0]"
   ]
  },
  {
   "cell_type": "markdown",
   "metadata": {},
   "source": [
    "## Let's build the model"
   ]
  },
  {
   "cell_type": "code",
   "execution_count": 42,
   "metadata": {},
   "outputs": [],
   "source": [
    "from keras import models\n",
    "from keras import layers"
   ]
  },
  {
   "cell_type": "code",
   "execution_count": 43,
   "metadata": {},
   "outputs": [],
   "source": [
    "def build_model():\n",
    "    m = models.Sequential()\n",
    "    m.add(layers.Flatten(input_shape=(28,28)))\n",
    "    m.add(layers.Dense(512, activation='relu'))\n",
    "    m.add(layers.Dense(256, activation='relu'))\n",
    "    m.add(layers.Dense(10, activation='softmax'))\n",
    "    return m"
   ]
  },
  {
   "cell_type": "markdown",
   "metadata": {},
   "source": [
    "Here we will make some decisions about how to train our model.\n",
    "\n",
    "The **objective function**, called also the **loss function** in Machine Learning, will be *categorical crossentropy*. This is because we are trying to predict discrete classes. If we choose a different function, the solution will be different (take a look at [Keras available losses](https://keras.io/losses/)). This is the function that will tell us when we have found the *solution*. Different functions will point to different *solutions*. The categorical crossentropy for a single observation (exmaple in train, for instance) is defined as:\n",
    "\n",
    "$$-\\sum_{{\\rm category} = 1}^M y_{\\rm category} \\log(\\hat{y}_{\\rm category}).$$\n",
    "\n",
    "Have a look at this [cheatsheet](https://ml-cheatsheet.readthedocs.io/en/latest/loss_functions.html).\n",
    "\n",
    "The **optimizer** is the method that we will use to find the minimum of the **loss function**. In general, we will not find the global minimum of the loss function, but a minimum that is good enough. *RMSProp* is one the variants of gradient descent. But there are many more [availbale in Keras](https://keras.io/optimizers/). We will deep dive into the optimization problem later in this course. \n",
    " \n",
    "These two settings will define the family of solutions we will find during the training process.\n",
    "\n",
    "The other parameter, the **metrics**, is only for information purposes. In each step of the training (called **epoch**), Keras will report the value of the metrics. But whether we choose one metric or another will not influence the training process. It is only for reporting how the training is going. That information will be useful for the validation of the model, that is, for the **hyperparameters tuning**.\n"
   ]
  },
  {
   "cell_type": "code",
   "execution_count": 51,
   "metadata": {},
   "outputs": [],
   "source": [
    "from keras import optimizers\n",
    "from keras import losses\n",
    "from keras import metrics"
   ]
  },
  {
   "cell_type": "code",
   "execution_count": 52,
   "metadata": {},
   "outputs": [],
   "source": [
    "m = build_model()"
   ]
  },
  {
   "cell_type": "code",
   "execution_count": 54,
   "metadata": {},
   "outputs": [],
   "source": [
    "# compile the model\n",
    "m.compile(optimizer=optimizers.rmsprop(),\n",
    "         loss=losses.categorical_crossentropy,\n",
    "         metrics=[metrics.categorical_accuracy]\n",
    "         )"
   ]
  },
  {
   "cell_type": "code",
   "execution_count": 55,
   "metadata": {},
   "outputs": [
    {
     "name": "stdout",
     "output_type": "stream",
     "text": [
      "_________________________________________________________________\n",
      "Layer (type)                 Output Shape              Param #   \n",
      "=================================================================\n",
      "flatten_2 (Flatten)          (None, 784)               0         \n",
      "_________________________________________________________________\n",
      "dense_4 (Dense)              (None, 512)               401920    \n",
      "_________________________________________________________________\n",
      "dense_5 (Dense)              (None, 256)               131328    \n",
      "_________________________________________________________________\n",
      "dense_6 (Dense)              (None, 10)                2570      \n",
      "=================================================================\n",
      "Total params: 535,818\n",
      "Trainable params: 535,818\n",
      "Non-trainable params: 0\n",
      "_________________________________________________________________\n"
     ]
    }
   ],
   "source": [
    "# get the summary\n",
    "m.summary()"
   ]
  },
  {
   "cell_type": "markdown",
   "metadata": {},
   "source": [
    "Now let's fit the neural network. We will keep the results in a *history* object to plot some parameters after the training, and use that information for improving our model (changing layers, activation functions, etc). This process is called **hyperparameters tuning** or hypeparameters search.\n",
    "\n",
    "Here we need to set two parameters: the number of **epochs** and the **batch size**.\n",
    "\n",
    "In previous cells, I have said that the training process is an optimization problem: we try to find the minimum.\n",
    "\n",
    "That's actually not entirely true. In practice, we don't keep searching for a minimum. Instead, we train for a preset number of epochs. Then we analyze the output using the validation set. If we detect overfit, then we reduce the number of epochs. If we don't detect it, then maybe we can keep going for some more epochs to find a better model. The number of epochs is another hyperparameter. In general, we should stop the training as early as possible. Any further epoch can make our model overfit, and therefore generalize poorly.\n",
    "\n",
    "The batch size is another hyperparameter. The network is not updated item by item, vector by vector. We can actually calculate the weights for a batch of several items, forming a matrix or a tensor. The batch size will affect the granularity of the calculations and the performance. A larger batch size will probably result in a slightly worse accuracy, but in a better performance. As long as the batch size is not so huge that it cannot be kept in memory. Because we are running on a GPU, it is a good idea to use a power of 2 for the batch size. It will probably make a better use of the GPU. But again, the effect of the batch size must be tested using the validation set, and adjusted until we find a good value for that parameter.\n",
    "\n",
    "An epoch is a full pass over the training dataset. At the end of each epoch, Keras will calculate the value of the metrics for the training set, and the loss function and metrics for the validation set. The loss and metrics of the validation set are useful for the hyperparameters tuning process.\n",
    "\n"
   ]
  },
  {
   "cell_type": "code",
   "execution_count": 57,
   "metadata": {
    "scrolled": true
   },
   "outputs": [
    {
     "name": "stdout",
     "output_type": "stream",
     "text": [
      "Train on 48000 samples, validate on 12000 samples\n",
      "Epoch 1/30\n",
      "48000/48000 [==============================] - 4s 76us/step - loss: 0.3175 - categorical_accuracy: 0.9019 - val_loss: 0.1785 - val_categorical_accuracy: 0.9424\n",
      "Epoch 2/30\n",
      "48000/48000 [==============================] - 3s 68us/step - loss: 0.1114 - categorical_accuracy: 0.9662 - val_loss: 0.1309 - val_categorical_accuracy: 0.9598\n",
      "Epoch 3/30\n",
      "48000/48000 [==============================] - 3s 68us/step - loss: 0.0714 - categorical_accuracy: 0.9781 - val_loss: 0.1118 - val_categorical_accuracy: 0.9644\n",
      "Epoch 4/30\n",
      "48000/48000 [==============================] - 3s 69us/step - loss: 0.0476 - categorical_accuracy: 0.9848 - val_loss: 0.0776 - val_categorical_accuracy: 0.9770\n",
      "Epoch 5/30\n",
      "48000/48000 [==============================] - 3s 68us/step - loss: 0.0337 - categorical_accuracy: 0.9895 - val_loss: 0.0904 - val_categorical_accuracy: 0.9743\n",
      "Epoch 6/30\n",
      "48000/48000 [==============================] - 3s 68us/step - loss: 0.0246 - categorical_accuracy: 0.9920 - val_loss: 0.0941 - val_categorical_accuracy: 0.9764\n",
      "Epoch 7/30\n",
      "48000/48000 [==============================] - 3s 70us/step - loss: 0.0190 - categorical_accuracy: 0.9939 - val_loss: 0.0921 - val_categorical_accuracy: 0.9771\n",
      "Epoch 8/30\n",
      "48000/48000 [==============================] - 3s 69us/step - loss: 0.0140 - categorical_accuracy: 0.9954 - val_loss: 0.0957 - val_categorical_accuracy: 0.9760\n",
      "Epoch 9/30\n",
      "48000/48000 [==============================] - 3s 70us/step - loss: 0.0110 - categorical_accuracy: 0.9964 - val_loss: 0.0974 - val_categorical_accuracy: 0.9789\n",
      "Epoch 10/30\n",
      "48000/48000 [==============================] - 3s 71us/step - loss: 0.0101 - categorical_accuracy: 0.9966 - val_loss: 0.1065 - val_categorical_accuracy: 0.9773\n",
      "Epoch 11/30\n",
      "48000/48000 [==============================] - 3s 70us/step - loss: 0.0077 - categorical_accuracy: 0.9976 - val_loss: 0.0951 - val_categorical_accuracy: 0.9815\n",
      "Epoch 12/30\n",
      "48000/48000 [==============================] - 3s 70us/step - loss: 0.0060 - categorical_accuracy: 0.9980 - val_loss: 0.1149 - val_categorical_accuracy: 0.9788\n",
      "Epoch 13/30\n",
      "48000/48000 [==============================] - 3s 70us/step - loss: 0.0058 - categorical_accuracy: 0.9981 - val_loss: 0.1168 - val_categorical_accuracy: 0.9788\n",
      "Epoch 14/30\n",
      "48000/48000 [==============================] - 3s 72us/step - loss: 0.0047 - categorical_accuracy: 0.9984 - val_loss: 0.1527 - val_categorical_accuracy: 0.9729\n",
      "Epoch 15/30\n",
      "48000/48000 [==============================] - 3s 71us/step - loss: 0.0045 - categorical_accuracy: 0.9986 - val_loss: 0.1258 - val_categorical_accuracy: 0.9787\n",
      "Epoch 16/30\n",
      "48000/48000 [==============================] - 3s 71us/step - loss: 0.0039 - categorical_accuracy: 0.9986 - val_loss: 0.1361 - val_categorical_accuracy: 0.9770\n",
      "Epoch 17/30\n",
      "48000/48000 [==============================] - 3s 70us/step - loss: 0.0040 - categorical_accuracy: 0.9988 - val_loss: 0.1129 - val_categorical_accuracy: 0.9813\n",
      "Epoch 18/30\n",
      "48000/48000 [==============================] - 3s 70us/step - loss: 0.0038 - categorical_accuracy: 0.9988 - val_loss: 0.1253 - val_categorical_accuracy: 0.9810\n",
      "Epoch 19/30\n",
      "48000/48000 [==============================] - 3s 70us/step - loss: 0.0033 - categorical_accuracy: 0.9989 - val_loss: 0.1751 - val_categorical_accuracy: 0.9748\n",
      "Epoch 20/30\n",
      "48000/48000 [==============================] - 4s 74us/step - loss: 0.0034 - categorical_accuracy: 0.9988 - val_loss: 0.1346 - val_categorical_accuracy: 0.9804\n",
      "Epoch 21/30\n",
      "48000/48000 [==============================] - 3s 73us/step - loss: 0.0032 - categorical_accuracy: 0.9991 - val_loss: 0.1305 - val_categorical_accuracy: 0.9801\n",
      "Epoch 22/30\n",
      "48000/48000 [==============================] - 4s 73us/step - loss: 0.0025 - categorical_accuracy: 0.9993 - val_loss: 0.1427 - val_categorical_accuracy: 0.9792\n",
      "Epoch 23/30\n",
      "48000/48000 [==============================] - 4s 76us/step - loss: 0.0024 - categorical_accuracy: 0.9994 - val_loss: 0.1734 - val_categorical_accuracy: 0.9759\n",
      "Epoch 24/30\n",
      "48000/48000 [==============================] - 4s 76us/step - loss: 0.0024 - categorical_accuracy: 0.9991 - val_loss: 0.1394 - val_categorical_accuracy: 0.9797\n",
      "Epoch 25/30\n",
      "48000/48000 [==============================] - 4s 76us/step - loss: 0.0015 - categorical_accuracy: 0.9996 - val_loss: 0.1429 - val_categorical_accuracy: 0.9795\n",
      "Epoch 26/30\n",
      "48000/48000 [==============================] - 4s 76us/step - loss: 0.0026 - categorical_accuracy: 0.9990 - val_loss: 0.1419 - val_categorical_accuracy: 0.9811\n",
      "Epoch 27/30\n",
      "48000/48000 [==============================] - 4s 79us/step - loss: 0.0020 - categorical_accuracy: 0.9993 - val_loss: 0.1385 - val_categorical_accuracy: 0.9814\n",
      "Epoch 28/30\n",
      "48000/48000 [==============================] - 4s 78us/step - loss: 0.0014 - categorical_accuracy: 0.9996 - val_loss: 0.1588 - val_categorical_accuracy: 0.9804\n",
      "Epoch 29/30\n",
      "48000/48000 [==============================] - 4s 79us/step - loss: 0.0022 - categorical_accuracy: 0.9994 - val_loss: 0.1510 - val_categorical_accuracy: 0.9810\n",
      "Epoch 30/30\n",
      "48000/48000 [==============================] - 4s 77us/step - loss: 0.0021 - categorical_accuracy: 0.9994 - val_loss: 0.1640 - val_categorical_accuracy: 0.9806\n"
     ]
    }
   ],
   "source": [
    "# train!\n",
    "h = m.fit(train_imgs_t, train_labels_t, epochs = 30, batch_size=256, validation_split=0.2)"
   ]
  },
  {
   "cell_type": "code",
   "execution_count": 58,
   "metadata": {},
   "outputs": [
    {
     "data": {
      "image/png": "[encoded data removed]",
      "text/plain": [
       "<Figure size 748.8x514.8 with 1 Axes>"
      ]
     },
     "metadata": {
      "needs_background": "light"
     },
     "output_type": "display_data"
    }
   ],
   "source": [
    "plot_metric(h, 'loss')"
   ]
  },
  {
   "cell_type": "code",
   "execution_count": 59,
   "metadata": {},
   "outputs": [
    {
     "data": {
      "image/png": "[encoded data removed]",
      "text/plain": [
       "<Figure size 748.8x514.8 with 1 Axes>"
      ]
     },
     "metadata": {
      "needs_background": "light"
     },
     "output_type": "display_data"
    }
   ],
   "source": [
    "plot_metric(h, 'categorical_accuracy')"
   ]
  },
  {
   "cell_type": "markdown",
   "metadata": {},
   "source": [
    "\n",
    "Now let's check how well the model works with the test dataset. Remember that we don't have used it at all during the training and tuning of the model."
   ]
  },
  {
   "cell_type": "markdown",
   "metadata": {},
   "source": [
    "## Analyze the classification performance\n",
    "\n",
    "For this, we will use the model's `evaluation` method. "
   ]
  },
  {
   "cell_type": "code",
   "execution_count": 60,
   "metadata": {},
   "outputs": [
    {
     "ename": "SyntaxError",
     "evalue": "invalid syntax (<ipython-input-60-cb213c8a0a78>, line 1)",
     "output_type": "error",
     "traceback": [
      "\u001b[1;36m  File \u001b[1;32m\"<ipython-input-60-cb213c8a0a78>\"\u001b[1;36m, line \u001b[1;32m1\u001b[0m\n\u001b[1;33m    loss, acc = m.evaluate(<test images>, <test labels>)\u001b[0m\n\u001b[1;37m                           ^\u001b[0m\n\u001b[1;31mSyntaxError\u001b[0m\u001b[1;31m:\u001b[0m invalid syntax\n"
     ]
    }
   ],
   "source": [
    "loss, acc = m.evaluate(<test images>, <test labels>)"
   ]
  },
  {
   "cell_type": "code",
   "execution_count": null,
   "metadata": {},
   "outputs": [],
   "source": [
    "loss, acc"
   ]
  },
  {
   "cell_type": "markdown",
   "metadata": {},
   "source": [
    "Let's see how well it predicts some random items from the test set."
   ]
  },
  {
   "cell_type": "code",
   "execution_count": null,
   "metadata": {},
   "outputs": [],
   "source": [
    "# plot a random image \n"
   ]
  },
  {
   "cell_type": "markdown",
   "metadata": {},
   "source": [
    "The prediction is a 10-element vector (*1-HOT encoded vector*), with (something like) the probability of each class. The location of the max is giving us the predicted class."
   ]
  },
  {
   "cell_type": "code",
   "execution_count": null,
   "metadata": {},
   "outputs": [],
   "source": [
    "# get the prediction of that same image. This process is what it's called **inference**.\n"
   ]
  },
  {
   "cell_type": "code",
   "execution_count": null,
   "metadata": {},
   "outputs": [],
   "source": [
    "np.argmax(<your prediciton>)"
   ]
  },
  {
   "cell_type": "markdown",
   "metadata": {},
   "source": [
    "## Exercises\n",
    "\n",
    "**EXERCISE 1**: Change the [activation function](https://keras.io/activations/) in the model. How does it affect accuracy? What happens if you use linear activation function? What happens if we use the $\\tanh$ function? Does it affect to overfitting?\n",
    "\n",
    " \n",
    "Here we see that the accuracy keeps increasing over epochs. An overfitted model would produce a decrease of the validation accuracy at some point. This means that we have found an optimal model. The validation loss is stuck at a minimum, but the accuracy is not affected by the extra epochs.\n",
    "\n",
    "_**EXERCISE 2**_: How is the model accuracy affected if we start over and fit for 40 epochs? And for 4? And for 400?\n",
    "\n",
    "_**EXERCISE 4**_: What is the most simple model that you can get that achieves a similar validation performance (accuracy)? (Note that the loss values might not be comparable if we use regularization techniques, change the network architecture, etc.)\n",
    "\n",
    "_**EXERCISE 5**_: Can you find a test item that is predicted wrongly? How many images are predicted wrongly? Can you find all the items that are wrongly classified? \n",
    "\n",
    "_**EXERCISE 6**_: Some digits are more difficult to recognize than others. Because we know the test labels, we can find out how many times the corresponding test images are misclassified. Could you find what are the top 3 test labels that are more often misclassified?"
   ]
  }
 ],
 "metadata": {
  "kernelspec": {
   "display_name": "Python [conda env:dl_win]",
   "language": "python",
   "name": "conda-env-dl_win-py"
  },
  "language_info": {
   "codemirror_mode": {
    "name": "ipython",
    "version": 3
   },
   "file_extension": ".py",
   "mimetype": "text/x-python",
   "name": "python",
   "nbconvert_exporter": "python",
   "pygments_lexer": "ipython3",
   "version": "3.6.6"
  }
 },
 "nbformat": 4,
 "nbformat_minor": 2
}
