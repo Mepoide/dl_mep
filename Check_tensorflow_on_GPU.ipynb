{
 "cells": [
  {
   "cell_type": "code",
   "execution_count": 1,
   "metadata": {},
   "outputs": [],
   "source": [
    "import tensorflow as tf"
   ]
  },
  {
   "cell_type": "code",
   "execution_count": 2,
   "metadata": {},
   "outputs": [
    {
     "name": "stdout",
     "output_type": "stream",
     "text": [
      "<tensorflow.python.client.session.Session object at 0x000002D178000390>\n"
     ]
    }
   ],
   "source": [
    "print(tf.Session(config=tf.ConfigProto(log_device_placement=True)))"
   ]
  },
  {
   "cell_type": "code",
   "execution_count": 3,
   "metadata": {},
   "outputs": [],
   "source": [
    "!control /name Microsoft.DeviceManager"
   ]
  },
  {
   "cell_type": "code",
   "execution_count": 3,
   "metadata": {},
   "outputs": [
    {
     "name": "stdout",
     "output_type": "stream",
     "text": [
      "# packages in environment at C:\\Users\\marcu\\Anaconda3\\envs\\dl_win_gpu_2:\n",
      "#\n",
      "# Name                    Version                   Build  Channel\n",
      "_tflow_select             2.1.0                       gpu    anaconda\n",
      "absl-py                   0.6.1                    py36_0    anaconda\n",
      "astor                     0.7.1                    py36_0    anaconda\n",
      "backcall                  0.1.0                    py36_0  \n",
      "blas                      1.0                         mkl    anaconda\n",
      "bleach                    3.0.2                    py36_0  \n",
      "ca-certificates           2018.03.07                    0    anaconda\n",
      "certifi                   2018.11.29               py36_0  \n",
      "colorama                  0.4.0                    py36_0  \n",
      "cudatoolkit               9.0                           1    anaconda\n",
      "cudnn                     7.1.4                 cuda9.0_0    anaconda\n",
      "decorator                 4.3.0                    py36_0  \n",
      "defusedxml                0.5.0                    py36_1  \n",
      "entrypoints               0.2.3                    py36_2  \n",
      "gast                      0.2.0                    py36_0    anaconda\n",
      "grpcio                    1.16.1           py36h351948d_1    anaconda\n",
      "h5py                      2.8.0            py36h3bdd7fb_2    anaconda\n",
      "hdf5                      1.10.2               hac2f561_1    anaconda\n",
      "icc_rt                    2017.0.4             h97af966_0    anaconda\n",
      "intel-openmp              2019.1                      144    anaconda\n",
      "ipykernel                 5.1.0            py36h39e3cac_0  \n",
      "ipython                   7.2.0            py36h39e3cac_0  \n",
      "ipython_genutils          0.2.0            py36h3c5d0ee_0  \n",
      "jedi                      0.13.1                   py36_0  \n",
      "jinja2                    2.10                     py36_0  \n",
      "jsonschema                2.6.0            py36h7636477_0  \n",
      "jupyter_client            5.2.3                    py36_0  \n",
      "jupyter_core              4.4.0                    py36_0  \n",
      "keras-applications        1.0.6                    py36_0    anaconda\n",
      "keras-preprocessing       1.0.5                    py36_0    anaconda\n",
      "libprotobuf               3.6.1                h7bd577a_0    anaconda\n",
      "libsodium                 1.0.16               h9d3ae62_0  \n",
      "m2w64-gcc-libgfortran     5.3.0                         6  \n",
      "m2w64-gcc-libs            5.3.0                         7  \n",
      "m2w64-gcc-libs-core       5.3.0                         7  \n",
      "m2w64-gmp                 6.1.0                         2  \n",
      "m2w64-libwinpthread-git   5.0.0.4634.697f757               2  \n",
      "markdown                  3.0.1                    py36_0    anaconda\n",
      "markupsafe                1.1.0            py36he774522_0  \n",
      "mistune                   0.8.4            py36he774522_0  \n",
      "mkl                       2019.1                      144    anaconda\n",
      "mkl_fft                   1.0.6            py36hdbbee80_0    anaconda\n",
      "mkl_random                1.0.1            py36h77b88f5_1    anaconda\n",
      "msys2-conda-epoch         20160418                      1  \n",
      "nb_conda_kernels          2.2.0                    py36_0  \n",
      "nbconvert                 5.4.0                    py36_1  \n",
      "nbformat                  4.4.0            py36h3a5bc1b_0  \n",
      "notebook                  5.7.2                    py36_1  \n",
      "numpy                     1.15.4           py36ha559c80_0    anaconda\n",
      "numpy-base                1.15.4           py36h8128ebf_0    anaconda\n",
      "openssl                   1.1.1                he774522_0    anaconda\n",
      "pandoc                    1.15.0.6                      0    anaconda-nb-extensions\n",
      "pandocfilters             1.4.2                    py36_1  \n",
      "parso                     0.3.1                    py36_0  \n",
      "pickleshare               0.7.5                    py36_0  \n",
      "pip                       18.1                     py36_0    anaconda\n",
      "prometheus_client         0.4.2                    py36_0  \n",
      "prompt_toolkit            2.0.7                    py36_0  \n",
      "protobuf                  3.6.1            py36h33f27b4_0    anaconda\n",
      "pygments                  2.2.0            py36hb010967_0  \n",
      "python                    3.6.7                h33f27b4_1    anaconda\n",
      "python-dateutil           2.7.5                    py36_0  \n",
      "pywinpty                  0.5.4                    py36_0  \n",
      "pyzmq                     17.1.2           py36hfa6e2cd_0  \n",
      "scipy                     1.1.0            py36h4f6bf74_1    anaconda\n",
      "send2trash                1.5.0                    py36_0  \n",
      "setuptools                40.6.2                   py36_0    anaconda\n",
      "six                       1.11.0                   py36_1    anaconda\n",
      "tensorboard               1.12.0           py36he025d50_0    anaconda\n",
      "tensorflow                1.12.0          gpu_py36ha5f9131_0    anaconda\n",
      "tensorflow-base           1.12.0          gpu_py36h6e53903_0    anaconda\n",
      "tensorflow-gpu            1.12.0               h0d30ee6_0    anaconda\n",
      "termcolor                 1.1.0                    py36_1    anaconda\n",
      "terminado                 0.8.1                    py36_1  \n",
      "testpath                  0.4.2                    py36_0  \n",
      "tornado                   5.1.1            py36hfa6e2cd_0  \n",
      "traitlets                 4.3.2            py36h096827d_0  \n",
      "vc                        14.1                 h21ff451_3    anaconda\n",
      "vs2015_runtime            15.5.2                        3    anaconda\n",
      "wcwidth                   0.1.7            py36h3d5aa90_0  \n",
      "webencodings              0.5.1                    py36_1  \n",
      "werkzeug                  0.14.1                   py36_0    anaconda\n",
      "wheel                     0.32.3                   py36_0    anaconda\n",
      "wincertstore              0.2              py36h7fe50ca_0    anaconda\n",
      "winpty                    0.4.3                         4  \n",
      "zeromq                    4.2.5                he025d50_1  \n",
      "zlib                      1.2.11               h62dcd97_3    anaconda\n"
     ]
    }
   ],
   "source": [
    "!conda list"
   ]
  },
  {
   "cell_type": "code",
   "execution_count": 2,
   "metadata": {},
   "outputs": [
    {
     "name": "stdout",
     "output_type": "stream",
     "text": [
      "[[22. 28.]\n",
      " [49. 64.]]\n"
     ]
    }
   ],
   "source": [
    "import tensorflow as tf\n",
    "with tf.device('/gpu:0'):\n",
    "    a = tf.constant([1.0, 2.0, 3.0, 4.0, 5.0, 6.0], shape=[2, 3], name='a')\n",
    "    b = tf.constant([1.0, 2.0, 3.0, 4.0, 5.0, 6.0], shape=[3, 2], name='b')\n",
    "    c = tf.matmul(a, b)\n",
    "with tf.Session() as sess:\n",
    "    print (sess.run(c))"
   ]
  },
  {
   "cell_type": "code",
   "execution_count": 7,
   "metadata": {},
   "outputs": [
    {
     "name": "stderr",
     "output_type": "stream",
     "text": [
      "\"nvidia-smi\" no se reconoce como un comando interno o externo,\n",
      "programa o archivo por lotes ejecutable.\n"
     ]
    }
   ],
   "source": [
    "!nvidia-smi"
   ]
  },
  {
   "cell_type": "code",
   "execution_count": null,
   "metadata": {},
   "outputs": [],
   "source": []
  }
 ],
 "metadata": {
  "kernelspec": {
   "display_name": "Python [conda env:dl_win_gpu]",
   "language": "python",
   "name": "conda-env-dl_win_gpu-py"
  },
  "language_info": {
   "codemirror_mode": {
    "name": "ipython",
    "version": 3
   },
   "file_extension": ".py",
   "mimetype": "text/x-python",
   "name": "python",
   "nbconvert_exporter": "python",
   "pygments_lexer": "ipython3",
   "version": "3.6.8"
  }
 },
 "nbformat": 4,
 "nbformat_minor": 2
}
