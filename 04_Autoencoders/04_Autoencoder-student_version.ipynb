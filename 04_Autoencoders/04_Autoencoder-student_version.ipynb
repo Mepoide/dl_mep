{
 "cells": [
  {
   "cell_type": "markdown",
   "metadata": {},
   "source": [
    "# Non supervised learning\n",
    "\n",
    "## Autoencoders\n",
    "\n",
    "Suppose we have only a set of unlabeled training examples $x_1,x_2,x_3, \\dots $, where $x_i \\in \\Re^n$. \n",
    "\n",
    "An autoencoder neural network is an *unsupervised learning* algorithm that applies backpropagation and uses a loss function that is optimal when setting the target values to be equal to the inputs, $y_i=x_i$.\n",
    "\n",
    "To build an autoencoder, you need three things: an **encoding function**, a **decoding function**, and a **distance function** between the amount of information loss between the compressed representation of your data and the decompressed representation.\n",
    "\n",
    "<center>\n",
    "<img src=\"https://blog.keras.io/img/ae/autoencoder_schema.jpg\" alt=\"\" style=\"width: 700px;\"/>\n",
    "</center>\n",
    "\n",
    "Two practical applications of autoencoders are data denoising, and dimensionality reduction for data visualization. In addition, it has shown to be an improvement over Matrix Factorization algorithms for Recommender Systems. \n",
    "\n",
    "With appropriate dimensionality and sparsity constraints, autoencoders can learn data projections that are more interesting than PCA or other basic techniques.\n",
    "\n",
    "We'll start simple, with a single fully-connected neural layer as encoder and as decoder:"
   ]
  },
  {
   "cell_type": "markdown",
   "metadata": {},
   "source": [
    "# Let's prepare our input data. "
   ]
  },
  {
   "cell_type": "code",
   "execution_count": 45,
   "metadata": {},
   "outputs": [],
   "source": [
    "from keras import models\n",
    "from keras import layers\n",
    "from keras import optimizers\n",
    "from keras import losses\n",
    "from keras.layers import Input, Dense\n",
    "from keras.models import Model\n",
    "from keras.datasets import mnist\n",
    "import numpy as np"
   ]
  },
  {
   "cell_type": "code",
   "execution_count": 20,
   "metadata": {},
   "outputs": [
    {
     "name": "stdout",
     "output_type": "stream",
     "text": [
      "(60000, 784)\n",
      "(10000, 784)\n"
     ]
    }
   ],
   "source": [
    "(x_train, _), (x_test, _) = mnist.load_data()\n",
    "\n",
    "x_train = x_train.astype('float32') / 255.\n",
    "x_test = x_test.astype('float32') / 255.\n",
    "x_train = x_train.reshape((len(x_train), np.prod(x_train.shape[1:])))\n",
    "x_test = x_test.reshape((len(x_test), np.prod(x_test.shape[1:])))\n",
    "print(x_train.shape)\n",
    "print(x_test.shape)"
   ]
  },
  {
   "cell_type": "markdown",
   "metadata": {},
   "source": [
    "# Create a simple 1-hidden layer AE\n",
    "\n",
    "Remember the steps:\n",
    "\n",
    " - build the model\n",
    " - compile\n",
    " - fit"
   ]
  },
  {
   "cell_type": "code",
   "execution_count": 39,
   "metadata": {},
   "outputs": [
    {
     "name": "stdout",
     "output_type": "stream",
     "text": [
      "_________________________________________________________________\n",
      "Layer (type)                 Output Shape              Param #   \n",
      "=================================================================\n",
      "dense_22 (Dense)             (None, 512)               401920    \n",
      "_________________________________________________________________\n",
      "dense_23 (Dense)             (None, 16)                8208      \n",
      "_________________________________________________________________\n",
      "dense_24 (Dense)             (None, 512)               8704      \n",
      "=================================================================\n",
      "Total params: 418,832\n",
      "Trainable params: 418,832\n",
      "Non-trainable params: 0\n",
      "_________________________________________________________________\n"
     ]
    }
   ],
   "source": [
    "# Autoencoder sequential\n",
    "m = models.Sequential()\n",
    "m.add(\n",
    "m.add(layers.Dense(16, activation='elu'))\n",
    "m.add(layers.Dense(512, activation='sigmoid'))\n",
    "\n",
    "m.summary()"
   ]
  },
  {
   "cell_type": "code",
   "execution_count": 40,
   "metadata": {},
   "outputs": [],
   "source": [
    "m.compile(optimizer=optimizers.rmsprop(), loss=losses.mse)"
   ]
  },
  {
   "cell_type": "code",
   "execution_count": 41,
   "metadata": {},
   "outputs": [
    {
     "name": "stdout",
     "output_type": "stream",
     "text": [
      "Train on 48000 samples, validate on 12000 samples\n"
     ]
    },
    {
     "ename": "IndexError",
     "evalue": "list index out of range",
     "output_type": "error",
     "traceback": [
      "\u001b[1;31m---------------------------------------------------------------------------\u001b[0m",
      "\u001b[1;31mIndexError\u001b[0m                                Traceback (most recent call last)",
      "\u001b[1;32m<ipython-input-41-897b7d503f22>\u001b[0m in \u001b[0;36m<module>\u001b[1;34m\u001b[0m\n\u001b[1;32m----> 1\u001b[1;33m \u001b[0mm\u001b[0m\u001b[1;33m.\u001b[0m\u001b[0mfit\u001b[0m\u001b[1;33m(\u001b[0m\u001b[0mx_train\u001b[0m\u001b[1;33m,\u001b[0m \u001b[0mbatch_size\u001b[0m\u001b[1;33m=\u001b[0m\u001b[1;36m512\u001b[0m\u001b[1;33m,\u001b[0m \u001b[0mepochs\u001b[0m\u001b[1;33m=\u001b[0m\u001b[1;36m200\u001b[0m\u001b[1;33m,\u001b[0m \u001b[0mvalidation_split\u001b[0m\u001b[1;33m=\u001b[0m\u001b[1;36m0.2\u001b[0m\u001b[1;33m)\u001b[0m\u001b[1;33m\u001b[0m\u001b[0m\n\u001b[0m",
      "\u001b[1;32m~\\Anaconda3\\envs\\dl_win\\lib\\site-packages\\keras\\engine\\training.py\u001b[0m in \u001b[0;36mfit\u001b[1;34m(self, x, y, batch_size, epochs, verbose, callbacks, validation_split, validation_data, shuffle, class_weight, sample_weight, initial_epoch, steps_per_epoch, validation_steps, **kwargs)\u001b[0m\n\u001b[0;32m   1037\u001b[0m                                         \u001b[0minitial_epoch\u001b[0m\u001b[1;33m=\u001b[0m\u001b[0minitial_epoch\u001b[0m\u001b[1;33m,\u001b[0m\u001b[1;33m\u001b[0m\u001b[0m\n\u001b[0;32m   1038\u001b[0m                                         \u001b[0msteps_per_epoch\u001b[0m\u001b[1;33m=\u001b[0m\u001b[0msteps_per_epoch\u001b[0m\u001b[1;33m,\u001b[0m\u001b[1;33m\u001b[0m\u001b[0m\n\u001b[1;32m-> 1039\u001b[1;33m                                         validation_steps=validation_steps)\n\u001b[0m\u001b[0;32m   1040\u001b[0m \u001b[1;33m\u001b[0m\u001b[0m\n\u001b[0;32m   1041\u001b[0m     def evaluate(self, x=None, y=None,\n",
      "\u001b[1;32m~\\Anaconda3\\envs\\dl_win\\lib\\site-packages\\keras\\engine\\training_arrays.py\u001b[0m in \u001b[0;36mfit_loop\u001b[1;34m(model, f, ins, out_labels, batch_size, epochs, verbose, callbacks, val_f, val_ins, shuffle, callback_metrics, initial_epoch, steps_per_epoch, validation_steps)\u001b[0m\n\u001b[0;32m    137\u001b[0m     \u001b[0mindices_for_conversion_to_dense\u001b[0m \u001b[1;33m=\u001b[0m \u001b[1;33m[\u001b[0m\u001b[1;33m]\u001b[0m\u001b[1;33m\u001b[0m\u001b[0m\n\u001b[0;32m    138\u001b[0m     \u001b[1;32mfor\u001b[0m \u001b[0mi\u001b[0m \u001b[1;32min\u001b[0m \u001b[0mrange\u001b[0m\u001b[1;33m(\u001b[0m\u001b[0mlen\u001b[0m\u001b[1;33m(\u001b[0m\u001b[0mfeed\u001b[0m\u001b[1;33m)\u001b[0m\u001b[1;33m)\u001b[0m\u001b[1;33m:\u001b[0m\u001b[1;33m\u001b[0m\u001b[0m\n\u001b[1;32m--> 139\u001b[1;33m         \u001b[1;32mif\u001b[0m \u001b[0missparse\u001b[0m\u001b[1;33m(\u001b[0m\u001b[0mins\u001b[0m\u001b[1;33m[\u001b[0m\u001b[0mi\u001b[0m\u001b[1;33m]\u001b[0m\u001b[1;33m)\u001b[0m \u001b[1;32mand\u001b[0m \u001b[1;32mnot\u001b[0m \u001b[0mK\u001b[0m\u001b[1;33m.\u001b[0m\u001b[0mis_sparse\u001b[0m\u001b[1;33m(\u001b[0m\u001b[0mfeed\u001b[0m\u001b[1;33m[\u001b[0m\u001b[0mi\u001b[0m\u001b[1;33m]\u001b[0m\u001b[1;33m)\u001b[0m\u001b[1;33m:\u001b[0m\u001b[1;33m\u001b[0m\u001b[0m\n\u001b[0m\u001b[0;32m    140\u001b[0m             \u001b[0mindices_for_conversion_to_dense\u001b[0m\u001b[1;33m.\u001b[0m\u001b[0mappend\u001b[0m\u001b[1;33m(\u001b[0m\u001b[0mi\u001b[0m\u001b[1;33m)\u001b[0m\u001b[1;33m\u001b[0m\u001b[0m\n\u001b[0;32m    141\u001b[0m \u001b[1;33m\u001b[0m\u001b[0m\n",
      "\u001b[1;31mIndexError\u001b[0m: list index out of range"
     ]
    }
   ],
   "source": [
    "m.fit(x_train, batch_size=512, epochs=200, validation_split=0.2)"
   ]
  },
  {
   "cell_type": "code",
   "execution_count": 83,
   "metadata": {},
   "outputs": [],
   "source": [
    "# this is the size of our encoded representations\n",
    "encoding_dim = 32  # 32 floats -> compression of factor 24.5, assuming the input is 784 floats\n",
    "\n",
    "# this is our input placeholder\n",
    "input_img = Input(shape=(784,))\n",
    "# \"encoded\" is the encoded representation of the input\n",
    "encoder_layer = Dense(encoding_dim, activation='relu')\n",
    "encoded = encoder_layer(input_img)\n",
    "# \"decoded\" is the lossy reconstruction of the input\n",
    "decoder_layer = Dense(784, activation='sigmoid')\n",
    "decoded = decoder_layer(encoded)\n",
    "\n",
    "# this model maps an input to its reconstruction\n",
    "autoencoder = Model(input_img, decoded)\n",
    "\n",
    "# this model maps an input to its encoded representation\n",
    "encoder = Model(input_img, encoded)\n",
    "\n",
    "# create a placeholder for an encoded (32-dimensional) input\n",
    "encoded_input = Input(shape=(encoding_dim,))\n",
    "# retrieve the last layer of the autoencoder model\n",
    "# create the decoder model\n",
    "decoder = Model(encoded_input, decoder_layer(encoded_input))"
   ]
  },
  {
   "cell_type": "code",
   "execution_count": 84,
   "metadata": {},
   "outputs": [
    {
     "name": "stdout",
     "output_type": "stream",
     "text": [
      "_________________________________________________________________\n",
      "Layer (type)                 Output Shape              Param #   \n",
      "=================================================================\n",
      "input_16 (InputLayer)        (None, 784)               0         \n",
      "_________________________________________________________________\n",
      "dense_44 (Dense)             (None, 32)                25120     \n",
      "_________________________________________________________________\n",
      "dense_45 (Dense)             (None, 784)               25872     \n",
      "=================================================================\n",
      "Total params: 50,992\n",
      "Trainable params: 50,992\n",
      "Non-trainable params: 0\n",
      "_________________________________________________________________\n"
     ]
    }
   ],
   "source": [
    "autoencoder.summary()"
   ]
  },
  {
   "cell_type": "code",
   "execution_count": 85,
   "metadata": {},
   "outputs": [],
   "source": [
    "autoencoder.compile(optimizer=optimizers.Adam(), loss=losses.binary_crossentropy)"
   ]
  },
  {
   "cell_type": "code",
   "execution_count": 86,
   "metadata": {
    "scrolled": true
   },
   "outputs": [
    {
     "name": "stdout",
     "output_type": "stream",
     "text": [
      "Train on 60000 samples, validate on 10000 samples\n",
      "Epoch 1/50\n",
      "60000/60000 [==============================] - 2s 38us/step - loss: 0.2768 - val_loss: 0.1884\n",
      "Epoch 2/50\n",
      "60000/60000 [==============================] - 2s 33us/step - loss: 0.1701 - val_loss: 0.1525\n",
      "Epoch 3/50\n",
      "60000/60000 [==============================] - 2s 33us/step - loss: 0.1434 - val_loss: 0.1330\n",
      "Epoch 4/50\n",
      "60000/60000 [==============================] - 2s 33us/step - loss: 0.1279 - val_loss: 0.1208\n",
      "Epoch 5/50\n",
      "60000/60000 [==============================] - 2s 34us/step - loss: 0.1176 - val_loss: 0.1121\n",
      "Epoch 6/50\n",
      "60000/60000 [==============================] - 2s 35us/step - loss: 0.1103 - val_loss: 0.1061\n",
      "Epoch 7/50\n",
      "60000/60000 [==============================] - 2s 39us/step - loss: 0.1052 - val_loss: 0.1019\n",
      "Epoch 8/50\n",
      "60000/60000 [==============================] - 2s 34us/step - loss: 0.1016 - val_loss: 0.0989\n",
      "Epoch 9/50\n",
      "60000/60000 [==============================] - 2s 34us/step - loss: 0.0991 - val_loss: 0.0968\n",
      "Epoch 10/50\n",
      "60000/60000 [==============================] - 2s 34us/step - loss: 0.0973 - val_loss: 0.0954\n",
      "Epoch 11/50\n",
      "60000/60000 [==============================] - 2s 40us/step - loss: 0.0962 - val_loss: 0.0944\n",
      "Epoch 12/50\n",
      "60000/60000 [==============================] - 2s 38us/step - loss: 0.0954 - val_loss: 0.0938\n",
      "Epoch 13/50\n",
      "60000/60000 [==============================] - 2s 37us/step - loss: 0.0949 - val_loss: 0.0933\n",
      "Epoch 14/50\n",
      "60000/60000 [==============================] - 2s 34us/step - loss: 0.0945 - val_loss: 0.0931\n",
      "Epoch 15/50\n",
      "60000/60000 [==============================] - 2s 32us/step - loss: 0.0943 - val_loss: 0.0929\n",
      "Epoch 16/50\n",
      "60000/60000 [==============================] - 2s 32us/step - loss: 0.0941 - val_loss: 0.0927\n",
      "Epoch 17/50\n",
      "60000/60000 [==============================] - 2s 33us/step - loss: 0.0939 - val_loss: 0.0926\n",
      "Epoch 18/50\n",
      "60000/60000 [==============================] - 2s 32us/step - loss: 0.0938 - val_loss: 0.0925\n",
      "Epoch 19/50\n",
      "60000/60000 [==============================] - 2s 32us/step - loss: 0.0936 - val_loss: 0.0924\n",
      "Epoch 20/50\n",
      "60000/60000 [==============================] - 2s 32us/step - loss: 0.0936 - val_loss: 0.0923\n",
      "Epoch 21/50\n",
      "60000/60000 [==============================] - 2s 32us/step - loss: 0.0935 - val_loss: 0.0923\n",
      "Epoch 22/50\n",
      "60000/60000 [==============================] - 2s 32us/step - loss: 0.0934 - val_loss: 0.0922\n",
      "Epoch 23/50\n",
      "60000/60000 [==============================] - 2s 32us/step - loss: 0.0933 - val_loss: 0.0921\n",
      "Epoch 24/50\n",
      "60000/60000 [==============================] - 2s 36us/step - loss: 0.0933 - val_loss: 0.0921\n",
      "Epoch 25/50\n",
      "60000/60000 [==============================] - 2s 38us/step - loss: 0.0933 - val_loss: 0.0920\n",
      "Epoch 26/50\n",
      "60000/60000 [==============================] - 2s 36us/step - loss: 0.0932 - val_loss: 0.0920\n",
      "Epoch 27/50\n",
      "60000/60000 [==============================] - 2s 39us/step - loss: 0.0932 - val_loss: 0.0920\n",
      "Epoch 28/50\n",
      "60000/60000 [==============================] - 2s 34us/step - loss: 0.0931 - val_loss: 0.0920\n",
      "Epoch 29/50\n",
      "60000/60000 [==============================] - 2s 34us/step - loss: 0.0931 - val_loss: 0.0919\n",
      "Epoch 30/50\n",
      "60000/60000 [==============================] - 2s 35us/step - loss: 0.0931 - val_loss: 0.0919\n",
      "Epoch 31/50\n",
      "60000/60000 [==============================] - 2s 33us/step - loss: 0.0930 - val_loss: 0.0919\n",
      "Epoch 32/50\n",
      "60000/60000 [==============================] - 2s 33us/step - loss: 0.0930 - val_loss: 0.0918\n",
      "Epoch 33/50\n",
      "60000/60000 [==============================] - 2s 33us/step - loss: 0.0930 - val_loss: 0.0918\n",
      "Epoch 34/50\n",
      "60000/60000 [==============================] - 2s 33us/step - loss: 0.0930 - val_loss: 0.0918\n",
      "Epoch 35/50\n",
      "60000/60000 [==============================] - 2s 33us/step - loss: 0.0929 - val_loss: 0.0917\n",
      "Epoch 36/50\n",
      "60000/60000 [==============================] - 2s 34us/step - loss: 0.0929 - val_loss: 0.0918\n",
      "Epoch 37/50\n",
      "60000/60000 [==============================] - 2s 35us/step - loss: 0.0929 - val_loss: 0.0918\n",
      "Epoch 38/50\n",
      "60000/60000 [==============================] - 2s 40us/step - loss: 0.0929 - val_loss: 0.0917\n",
      "Epoch 39/50\n",
      "60000/60000 [==============================] - 2s 36us/step - loss: 0.0929 - val_loss: 0.0917\n",
      "Epoch 40/50\n",
      "60000/60000 [==============================] - 2s 34us/step - loss: 0.0929 - val_loss: 0.0918\n",
      "Epoch 41/50\n",
      "60000/60000 [==============================] - 2s 37us/step - loss: 0.0928 - val_loss: 0.0917\n",
      "Epoch 42/50\n",
      "60000/60000 [==============================] - 2s 37us/step - loss: 0.0928 - val_loss: 0.0917\n",
      "Epoch 43/50\n",
      "60000/60000 [==============================] - 2s 39us/step - loss: 0.0928 - val_loss: 0.0916\n",
      "Epoch 44/50\n",
      "60000/60000 [==============================] - 2s 40us/step - loss: 0.0928 - val_loss: 0.0917\n",
      "Epoch 45/50\n",
      "60000/60000 [==============================] - 2s 34us/step - loss: 0.0928 - val_loss: 0.0917\n",
      "Epoch 46/50\n",
      "60000/60000 [==============================] - 2s 33us/step - loss: 0.0928 - val_loss: 0.0916\n",
      "Epoch 47/50\n",
      "60000/60000 [==============================] - 2s 35us/step - loss: 0.0927 - val_loss: 0.0916\n",
      "Epoch 48/50\n",
      "60000/60000 [==============================] - 2s 34us/step - loss: 0.0927 - val_loss: 0.0917\n",
      "Epoch 49/50\n",
      "60000/60000 [==============================] - 2s 35us/step - loss: 0.0927 - val_loss: 0.0916\n",
      "Epoch 50/50\n",
      "60000/60000 [==============================] - 2s 34us/step - loss: 0.0927 - val_loss: 0.0916\n"
     ]
    },
    {
     "data": {
      "text/plain": [
       "<keras.callbacks.History at 0x220943fdef0>"
      ]
     },
     "execution_count": 86,
     "metadata": {},
     "output_type": "execute_result"
    }
   ],
   "source": [
    "autoencoder.fit(x_train, x_train,\n",
    "                epochs=50,\n",
    "                batch_size=256,\n",
    "                shuffle=True,\n",
    "                validation_data=(x_test, x_test))"
   ]
  },
  {
   "cell_type": "markdown",
   "metadata": {
    "collapsed": true
   },
   "source": [
    "## Predict some images\n",
    "\n",
    "Note that here `predict` does not mean to predict a label, but rather a forward pass through the network (i.e. inference)"
   ]
  },
  {
   "cell_type": "code",
   "execution_count": 87,
   "metadata": {},
   "outputs": [],
   "source": [
    "# encode and decode some digits\n",
    "# note that we take them from the *test* set\n",
    "encoded_imgs = encoder.predict(x_test)\n",
    "decoded_imgs = decoder.predict(encoded_imgs)"
   ]
  },
  {
   "cell_type": "code",
   "execution_count": 88,
   "metadata": {},
   "outputs": [
    {
     "data": {
      "image/png": "[encoded data removed]",
      "text/plain": [
       "<Figure size 720x288 with 20 Axes>"
      ]
     },
     "metadata": {
      "needs_background": "light"
     },
     "output_type": "display_data"
    }
   ],
   "source": [
    "import matplotlib.pyplot as plt\n",
    "%matplotlib inline\n",
    "\n",
    "n = 10  # how many digits we will display\n",
    "plt.figure(figsize=(10, 4))\n",
    "for i in range(n):\n",
    "    # display original\n",
    "    ax = plt.subplot(2, n, i + 1)\n",
    "    plt.imshow(x_test[i].reshape(28, 28))\n",
    "    plt.gray()\n",
    "    ax.get_xaxis().set_visible(False)\n",
    "    ax.get_yaxis().set_visible(False)\n",
    "    \n",
    "    # display reconstruction\n",
    "    ax = plt.subplot(2, n, i + 1 + n)\n",
    "    plt.imshow(decoded_imgs[i].reshape(28, 28))\n",
    "    plt.gray()\n",
    "    ax.get_xaxis().set_visible(False)\n",
    "    ax.get_yaxis().set_visible(False)\n",
    "plt.show()"
   ]
  },
  {
   "cell_type": "markdown",
   "metadata": {},
   "source": [
    "## Note that we can also create a separate encoder model and a separate decoder model"
   ]
  },
  {
   "cell_type": "code",
   "execution_count": 91,
   "metadata": {},
   "outputs": [],
   "source": [
    "# encode and decode some digits\n",
    "# note that we take them from the *test* set\n",
    "encoded_imgs = encoder.predict(x_test)\n",
    "decoded_imgs = decoder.predict(encoded_imgs)"
   ]
  },
  {
   "cell_type": "code",
   "execution_count": 92,
   "metadata": {},
   "outputs": [
    {
     "data": {
      "text/plain": [
       "(10000, 32)"
      ]
     },
     "execution_count": 92,
     "metadata": {},
     "output_type": "execute_result"
    }
   ],
   "source": [
    "encoded_imgs.shape"
   ]
  },
  {
   "cell_type": "code",
   "execution_count": 93,
   "metadata": {},
   "outputs": [
    {
     "data": {
      "image/png": "[encoded data removed]",
      "text/plain": [
       "<Figure size 1440x288 with 20 Axes>"
      ]
     },
     "metadata": {
      "needs_background": "light"
     },
     "output_type": "display_data"
    }
   ],
   "source": [
    "#Plot results\n",
    "# use Matplotlib (don't ask)\n",
    "import matplotlib.pyplot as plt\n",
    "\n",
    "n = 10  # how many digits we will display\n",
    "plt.figure(figsize=(20, 4))\n",
    "for i in range(n):\n",
    "    # display original\n",
    "    ax = plt.subplot(2, n, i + 1)\n",
    "    plt.imshow(x_test[i].reshape(28, 28))\n",
    "    plt.gray()\n",
    "    ax.get_xaxis().set_visible(False)\n",
    "    ax.get_yaxis().set_visible(False)\n",
    "\n",
    "    # display reconstruction\n",
    "    ax = plt.subplot(2, n, i + 1 + n)\n",
    "    plt.imshow(encoded_imgs[i].reshape(8,4))\n",
    "    plt.gray()\n",
    "    ax.get_xaxis().set_visible(False)\n",
    "    ax.get_yaxis().set_visible(False)\n",
    "plt.show()\n"
   ]
  },
  {
   "cell_type": "markdown",
   "metadata": {},
   "source": [
    "Try doing the same with larger hidden layers"
   ]
  },
  {
   "cell_type": "code",
   "execution_count": 105,
   "metadata": {},
   "outputs": [],
   "source": [
    "# this is the size of our encoded representations\n",
    "encoding_dim = 36  # 32 floats -> compression of factor 24.5, assuming the input is 784 floats\n",
    "\n",
    "# this is our input placeholder\n",
    "input_img = Input(shape=(784,))\n",
    "# \"encoded\" is the encoded representation of the input\n",
    "encoder_layer1 = Dense(4*encoding_dim, activation='relu')\n",
    "encoded_1 = encoder_layer1(input_img)\n",
    "encoder_layer2 = Dense(encoding_dim, activation='relu')\n",
    "encoded_2 = encoder_layer2(encoded_1)\n",
    "# \"decoded\" is the lossy reconstruction of the input\n",
    "decoder_layer = Dense(784, activation='sigmoid')\n",
    "decoded = decoder_layer(encoded_2)\n",
    "\n",
    "# this model maps an input to its reconstruction\n",
    "autoencoder = Model(input_img, decoded)\n",
    "\n",
    "# this model maps an input to its encoded representation\n",
    "encoder_1 = Model(input_img, encoded_1)\n",
    "encoder_2 = Model(input_img, encoded_2)\n",
    "\n",
    "# create a placeholder for an encoded (32-dimensional) input\n",
    "encoded_input = Input(shape=(encoding_dim,))\n",
    "# retrieve the last layer of the autoencoder model\n",
    "# create the decoder model\n",
    "decoder = Model(encoded_input, decoder_layer(encoded_input))"
   ]
  },
  {
   "cell_type": "code",
   "execution_count": 106,
   "metadata": {},
   "outputs": [],
   "source": [
    "autoencoder.compile(optimizer=optimizers.rmsprop(), loss=losses.binary_crossentropy)"
   ]
  },
  {
   "cell_type": "code",
   "execution_count": 107,
   "metadata": {},
   "outputs": [
    {
     "name": "stdout",
     "output_type": "stream",
     "text": [
      "Train on 60000 samples, validate on 10000 samples\n",
      "Epoch 1/50\n",
      "60000/60000 [==============================] - 3s 51us/step - loss: 0.2197 - val_loss: 0.1574\n",
      "Epoch 2/50\n",
      "60000/60000 [==============================] - 2s 40us/step - loss: 0.1432 - val_loss: 0.1286\n",
      "Epoch 3/50\n",
      "60000/60000 [==============================] - 2s 38us/step - loss: 0.1248 - val_loss: 0.1163\n",
      "Epoch 4/50\n",
      "60000/60000 [==============================] - 2s 38us/step - loss: 0.1157 - val_loss: 0.1121\n",
      "Epoch 5/50\n",
      "60000/60000 [==============================] - 2s 39us/step - loss: 0.1100 - val_loss: 0.1100\n",
      "Epoch 6/50\n",
      "60000/60000 [==============================] - 2s 38us/step - loss: 0.1062 - val_loss: 0.1019\n",
      "Epoch 7/50\n",
      "60000/60000 [==============================] - 2s 39us/step - loss: 0.1033 - val_loss: 0.1104\n",
      "Epoch 8/50\n",
      "60000/60000 [==============================] - 2s 39us/step - loss: 0.1011 - val_loss: 0.1012\n",
      "Epoch 9/50\n",
      "60000/60000 [==============================] - 2s 39us/step - loss: 0.0994 - val_loss: 0.0972\n",
      "Epoch 10/50\n",
      "60000/60000 [==============================] - 2s 38us/step - loss: 0.0978 - val_loss: 0.0964\n",
      "Epoch 11/50\n",
      "60000/60000 [==============================] - 2s 38us/step - loss: 0.0966 - val_loss: 0.0950\n",
      "Epoch 12/50\n",
      "60000/60000 [==============================] - 2s 38us/step - loss: 0.0955 - val_loss: 0.0943\n",
      "Epoch 13/50\n",
      "60000/60000 [==============================] - 2s 39us/step - loss: 0.0946 - val_loss: 0.0950\n",
      "Epoch 14/50\n",
      "60000/60000 [==============================] - 2s 39us/step - loss: 0.0938 - val_loss: 0.0952\n",
      "Epoch 15/50\n",
      "60000/60000 [==============================] - 2s 39us/step - loss: 0.0931 - val_loss: 0.0916\n",
      "Epoch 16/50\n",
      "60000/60000 [==============================] - 2s 40us/step - loss: 0.0926 - val_loss: 0.0908\n",
      "Epoch 17/50\n",
      "60000/60000 [==============================] - 2s 38us/step - loss: 0.0919 - val_loss: 0.0924\n",
      "Epoch 18/50\n",
      "60000/60000 [==============================] - 2s 38us/step - loss: 0.0915 - val_loss: 0.0911\n",
      "Epoch 19/50\n",
      "60000/60000 [==============================] - 2s 39us/step - loss: 0.0911 - val_loss: 0.0912\n",
      "Epoch 20/50\n",
      "60000/60000 [==============================] - 2s 39us/step - loss: 0.0907 - val_loss: 0.0895\n",
      "Epoch 21/50\n",
      "60000/60000 [==============================] - 2s 39us/step - loss: 0.0903 - val_loss: 0.0894\n",
      "Epoch 22/50\n",
      "60000/60000 [==============================] - 2s 39us/step - loss: 0.0900 - val_loss: 0.0890\n",
      "Epoch 23/50\n",
      "60000/60000 [==============================] - 2s 39us/step - loss: 0.0896 - val_loss: 0.0908\n",
      "Epoch 24/50\n",
      "60000/60000 [==============================] - 2s 39us/step - loss: 0.0893 - val_loss: 0.0875\n",
      "Epoch 25/50\n",
      "60000/60000 [==============================] - 2s 39us/step - loss: 0.0890 - val_loss: 0.0908\n",
      "Epoch 26/50\n",
      "60000/60000 [==============================] - 2s 40us/step - loss: 0.0888 - val_loss: 0.0873\n",
      "Epoch 27/50\n",
      "60000/60000 [==============================] - 2s 41us/step - loss: 0.0885 - val_loss: 0.0885\n",
      "Epoch 28/50\n",
      "60000/60000 [==============================] - 2s 39us/step - loss: 0.0883 - val_loss: 0.0876\n",
      "Epoch 29/50\n",
      "60000/60000 [==============================] - 2s 39us/step - loss: 0.0880 - val_loss: 0.0880\n",
      "Epoch 30/50\n",
      "60000/60000 [==============================] - 3s 45us/step - loss: 0.0879 - val_loss: 0.0875\n",
      "Epoch 31/50\n",
      "60000/60000 [==============================] - 2s 42us/step - loss: 0.0877 - val_loss: 0.0859\n",
      "Epoch 32/50\n",
      "60000/60000 [==============================] - 3s 42us/step - loss: 0.0875 - val_loss: 0.0875\n",
      "Epoch 33/50\n",
      "60000/60000 [==============================] - 3s 43us/step - loss: 0.0872 - val_loss: 0.0875\n",
      "Epoch 34/50\n",
      "60000/60000 [==============================] - 2s 41us/step - loss: 0.0871 - val_loss: 0.0866\n",
      "Epoch 35/50\n",
      "60000/60000 [==============================] - 2s 40us/step - loss: 0.0869 - val_loss: 0.0876\n",
      "Epoch 36/50\n",
      "60000/60000 [==============================] - 2s 40us/step - loss: 0.0867 - val_loss: 0.0863\n",
      "Epoch 37/50\n",
      "60000/60000 [==============================] - 3s 44us/step - loss: 0.0866 - val_loss: 0.0862\n",
      "Epoch 38/50\n",
      "60000/60000 [==============================] - 3s 49us/step - loss: 0.0864 - val_loss: 0.0857\n",
      "Epoch 39/50\n",
      "60000/60000 [==============================] - 3s 44us/step - loss: 0.0863 - val_loss: 0.0855\n",
      "Epoch 40/50\n",
      "60000/60000 [==============================] - 3s 42us/step - loss: 0.0861 - val_loss: 0.0860\n",
      "Epoch 41/50\n",
      "60000/60000 [==============================] - 3s 46us/step - loss: 0.0860 - val_loss: 0.0865\n",
      "Epoch 42/50\n",
      "60000/60000 [==============================] - 3s 44us/step - loss: 0.0859 - val_loss: 0.0855\n",
      "Epoch 43/50\n",
      "60000/60000 [==============================] - 2s 40us/step - loss: 0.0857 - val_loss: 0.0854\n",
      "Epoch 44/50\n",
      "60000/60000 [==============================] - 2s 38us/step - loss: 0.0856 - val_loss: 0.0851\n",
      "Epoch 45/50\n",
      "60000/60000 [==============================] - 3s 43us/step - loss: 0.0855 - val_loss: 0.0841\n",
      "Epoch 46/50\n",
      "60000/60000 [==============================] - 3s 45us/step - loss: 0.0853 - val_loss: 0.0848\n",
      "Epoch 47/50\n",
      "60000/60000 [==============================] - 2s 39us/step - loss: 0.0853 - val_loss: 0.0849\n",
      "Epoch 48/50\n",
      "60000/60000 [==============================] - 2s 39us/step - loss: 0.0851 - val_loss: 0.0847\n",
      "Epoch 49/50\n",
      "60000/60000 [==============================] - 2s 42us/step - loss: 0.0850 - val_loss: 0.0847\n",
      "Epoch 50/50\n",
      "60000/60000 [==============================] - 2s 39us/step - loss: 0.0849 - val_loss: 0.0839\n"
     ]
    },
    {
     "data": {
      "text/plain": [
       "<keras.callbacks.History at 0x220949391d0>"
      ]
     },
     "execution_count": 107,
     "metadata": {},
     "output_type": "execute_result"
    }
   ],
   "source": [
    "autoencoder.fit(x_train, x_train,\n",
    "                epochs=50,\n",
    "                batch_size=256,\n",
    "                shuffle=True,\n",
    "                validation_data=(x_test, x_test))"
   ]
  },
  {
   "cell_type": "code",
   "execution_count": 102,
   "metadata": {},
   "outputs": [],
   "source": [
    "# encode and decode some digits\n",
    "# note that we take them from the *test* set\n",
    "encoded_imgs_1 = encoder_1.predict(x_test)\n",
    "encoded_imgs_2 = encoder_2.predict(x_test)\n",
    "decoded_imgs = decoder.predict(encoded_imgs_2)"
   ]
  },
  {
   "cell_type": "code",
   "execution_count": 115,
   "metadata": {},
   "outputs": [
    {
     "data": {
      "image/png": "[encoded data removed]",
      "text/plain": [
       "<Figure size 720x576 with 40 Axes>"
      ]
     },
     "metadata": {
      "needs_background": "light"
     },
     "output_type": "display_data"
    }
   ],
   "source": [
    "import matplotlib.pyplot as plt\n",
    "%matplotlib inline\n",
    "\n",
    "n = 10  # how many digits we will display\n",
    "plt.figure(figsize=(10, 8))\n",
    "for i in range(n):\n",
    "    # display original\n",
    "    ax = plt.subplot(4, n, i + 1)\n",
    "    plt.imshow(x_test[i].reshape(28, 28))\n",
    "    plt.gray()\n",
    "    ax.get_xaxis().set_visible(False)\n",
    "    ax.get_yaxis().set_visible(False)\n",
    "\n",
    "    # display hidden \n",
    "    ax = plt.subplot(4, n, i + 1 + n)\n",
    "    plt.imshow(encoded_imgs_1[i].reshape(12,6))\n",
    "    plt.gray()\n",
    "    ax.get_xaxis().set_visible(False)\n",
    "    ax.get_yaxis().set_visible(False)\n",
    "    \n",
    "    # display hidden \n",
    "    ax = plt.subplot(4, n, i + n + n +1)\n",
    "    plt.imshow(encoded_imgs_2[i].reshape(6,6))\n",
    "    plt.gray()\n",
    "    ax.get_xaxis().set_visible(False)\n",
    "    ax.get_yaxis().set_visible(False)\n",
    "    \n",
    "    # display reconstruction\n",
    "    ax = plt.subplot(4, n, i + 3*n + 1)\n",
    "    plt.imshow(decoded_imgs[i].reshape(28, 28))\n",
    "    plt.gray()\n",
    "    ax.get_xaxis().set_visible(False)\n",
    "    ax.get_yaxis().set_visible(False)\n",
    "plt.show()"
   ]
  },
  {
   "cell_type": "markdown",
   "metadata": {},
   "source": [
    "## Adding a sparsity constraint on the encoded representations\n",
    "\n",
    "In the previous example, the representations were only constrained by the size of the hidden layer (32). In such a situation, what typically happens is that the hidden layer is learning an approximation of PCA (principal component analysis). But another way to constrain the representations to be compact is to add a sparsity contraint on the activity of the hidden representations, so fewer units would \"fire\" at a given time. \n",
    "\n",
    "In Keras, this can be done by adding an ``activity_regularizer`` to our Dense layer:"
   ]
  },
  {
   "cell_type": "code",
   "execution_count": 130,
   "metadata": {},
   "outputs": [],
   "source": [
    "from keras import regularizers"
   ]
  },
  {
   "cell_type": "code",
   "execution_count": 141,
   "metadata": {},
   "outputs": [],
   "source": [
    "# Autoencoder with L1 activity regularizer\n",
    "# this is the size of our encoded representations\n",
    "autoencoder.reset_states()\n",
    "encoding_dim = 32  # 32 floats -> compression of factor 24.5, assuming the input is 784 floats\n",
    "\n",
    "# this is our input placeholder\n",
    "input_img = Input(shape=(784,))\n",
    "# \"encoded\" is the encoded representation of the input\n",
    "encoder_layer = Dense(encoding_dim, activation='relu',\n",
    "                     activity_regularizer=regularizers.l1(0.1))\n",
    "encoded = encoder_layer(input_img)\n",
    "# \"decoded\" is the lossy reconstruction of the input\n",
    "decoder_layer = Dense(784, activation='sigmoid')\n",
    "decoded = decoder_layer(encoded)\n",
    "\n",
    "# this model maps an input to its reconstruction\n",
    "autoencoder = Model(input_img, decoded)\n",
    "\n",
    "# this model maps an input to its encoded representation\n",
    "encoder = Model(input_img, encoded)\n",
    "\n",
    "# create a placeholder for an encoded (32-dimensional) input\n",
    "encoded_input = Input(shape=(encoding_dim,))\n",
    "# retrieve the last layer of the autoencoder model\n",
    "# create the decoder model\n",
    "decoder = Model(encoded_input, decoder_layer(encoded_input))"
   ]
  },
  {
   "cell_type": "code",
   "execution_count": 142,
   "metadata": {},
   "outputs": [],
   "source": [
    "autoencoder.compile(optimizer=optimizers.rmsprop(), loss=losses.binary_crossentropy)"
   ]
  },
  {
   "cell_type": "code",
   "execution_count": 143,
   "metadata": {},
   "outputs": [
    {
     "name": "stdout",
     "output_type": "stream",
     "text": [
      "Train on 60000 samples, validate on 10000 samples\n",
      "Epoch 1/50\n",
      "60000/60000 [==============================] - 3s 43us/step - loss: 1.8569 - val_loss: 0.6112\n",
      "Epoch 2/50\n",
      "60000/60000 [==============================] - 2s 35us/step - loss: 0.5765 - val_loss: 0.5446\n",
      "Epoch 3/50\n",
      "60000/60000 [==============================] - 2s 34us/step - loss: 0.5153 - val_loss: 0.4890\n",
      "Epoch 4/50\n",
      "60000/60000 [==============================] - 2s 34us/step - loss: 0.4646 - val_loss: 0.4431\n",
      "Epoch 5/50\n",
      "60000/60000 [==============================] - 2s 34us/step - loss: 0.4230 - val_loss: 0.4056\n",
      "Epoch 6/50\n",
      "60000/60000 [==============================] - 2s 34us/step - loss: 0.3891 - val_loss: 0.3752\n",
      "Epoch 7/50\n",
      "60000/60000 [==============================] - 2s 34us/step - loss: 0.3619 - val_loss: 0.3508\n",
      "Epoch 8/50\n",
      "60000/60000 [==============================] - 2s 34us/step - loss: 0.3401 - val_loss: 0.3314\n",
      "Epoch 9/50\n",
      "60000/60000 [==============================] - 2s 34us/step - loss: 0.3229 - val_loss: 0.3160\n",
      "Epoch 10/50\n",
      "60000/60000 [==============================] - 2s 34us/step - loss: 0.3094 - val_loss: 0.3040\n",
      "Epoch 11/50\n",
      "60000/60000 [==============================] - 2s 34us/step - loss: 0.2988 - val_loss: 0.2946\n",
      "Epoch 12/50\n",
      "60000/60000 [==============================] - 2s 34us/step - loss: 0.2905 - val_loss: 0.2873\n",
      "Epoch 13/50\n",
      "60000/60000 [==============================] - 2s 34us/step - loss: 0.2841 - val_loss: 0.2816\n",
      "Epoch 14/50\n",
      "60000/60000 [==============================] - 2s 35us/step - loss: 0.2792 - val_loss: 0.2773\n",
      "Epoch 15/50\n",
      "60000/60000 [==============================] - 2s 34us/step - loss: 0.2754 - val_loss: 0.2739\n",
      "Epoch 16/50\n",
      "60000/60000 [==============================] - 2s 34us/step - loss: 0.2724 - val_loss: 0.2713\n",
      "Epoch 17/50\n",
      "60000/60000 [==============================] - 2s 34us/step - loss: 0.2702 - val_loss: 0.2694\n",
      "Epoch 18/50\n",
      "60000/60000 [==============================] - 2s 34us/step - loss: 0.2685 - val_loss: 0.2678\n",
      "Epoch 19/50\n",
      "60000/60000 [==============================] - 2s 34us/step - loss: 0.2671 - val_loss: 0.2667\n",
      "Epoch 20/50\n",
      "60000/60000 [==============================] - 2s 34us/step - loss: 0.2661 - val_loss: 0.2658\n",
      "Epoch 21/50\n",
      "60000/60000 [==============================] - 2s 34us/step - loss: 0.2654 - val_loss: 0.2651\n",
      "Epoch 22/50\n",
      "60000/60000 [==============================] - 2s 34us/step - loss: 0.2648 - val_loss: 0.2646\n",
      "Epoch 23/50\n",
      "60000/60000 [==============================] - 2s 34us/step - loss: 0.2643 - val_loss: 0.2642\n",
      "Epoch 24/50\n",
      "60000/60000 [==============================] - 2s 34us/step - loss: 0.2640 - val_loss: 0.2638\n",
      "Epoch 25/50\n",
      "60000/60000 [==============================] - 2s 35us/step - loss: 0.2637 - val_loss: 0.2636\n",
      "Epoch 26/50\n",
      "60000/60000 [==============================] - 2s 38us/step - loss: 0.2635 - val_loss: 0.2634\n",
      "Epoch 27/50\n",
      "60000/60000 [==============================] - 2s 34us/step - loss: 0.2633 - val_loss: 0.2633\n",
      "Epoch 28/50\n",
      "60000/60000 [==============================] - 2s 34us/step - loss: 0.2632 - val_loss: 0.2632\n",
      "Epoch 29/50\n",
      "60000/60000 [==============================] - 2s 34us/step - loss: 0.2631 - val_loss: 0.2631\n",
      "Epoch 30/50\n",
      "60000/60000 [==============================] - 2s 35us/step - loss: 0.2630 - val_loss: 0.2630\n",
      "Epoch 31/50\n",
      "60000/60000 [==============================] - 2s 34us/step - loss: 0.2630 - val_loss: 0.2630\n",
      "Epoch 32/50\n",
      "60000/60000 [==============================] - 2s 34us/step - loss: 0.2629 - val_loss: 0.2630\n",
      "Epoch 33/50\n",
      "60000/60000 [==============================] - 2s 34us/step - loss: 0.2629 - val_loss: 0.2629\n",
      "Epoch 34/50\n",
      "60000/60000 [==============================] - 2s 34us/step - loss: 0.2629 - val_loss: 0.2629\n",
      "Epoch 35/50\n",
      "60000/60000 [==============================] - 2s 34us/step - loss: 0.2629 - val_loss: 0.2629\n",
      "Epoch 36/50\n",
      "60000/60000 [==============================] - 2s 35us/step - loss: 0.2629 - val_loss: 0.2629\n",
      "Epoch 37/50\n",
      "60000/60000 [==============================] - 2s 34us/step - loss: 0.2628 - val_loss: 0.2629\n",
      "Epoch 38/50\n",
      "60000/60000 [==============================] - 2s 34us/step - loss: 0.2628 - val_loss: 0.2629\n",
      "Epoch 39/50\n",
      "60000/60000 [==============================] - 2s 35us/step - loss: 0.2628 - val_loss: 0.2629\n",
      "Epoch 40/50\n",
      "60000/60000 [==============================] - 2s 34us/step - loss: 0.2628 - val_loss: 0.2628\n",
      "Epoch 41/50\n",
      "60000/60000 [==============================] - 2s 35us/step - loss: 0.2628 - val_loss: 0.2628\n",
      "Epoch 42/50\n",
      "60000/60000 [==============================] - 2s 34us/step - loss: 0.2628 - val_loss: 0.2628\n",
      "Epoch 43/50\n",
      "60000/60000 [==============================] - 2s 35us/step - loss: 0.2628 - val_loss: 0.2628\n",
      "Epoch 44/50\n",
      "60000/60000 [==============================] - 2s 36us/step - loss: 0.2628 - val_loss: 0.2628\n",
      "Epoch 45/50\n",
      "60000/60000 [==============================] - 2s 39us/step - loss: 0.2628 - val_loss: 0.2628\n",
      "Epoch 46/50\n",
      "60000/60000 [==============================] - 2s 35us/step - loss: 0.2628 - val_loss: 0.2628\n",
      "Epoch 47/50\n",
      "60000/60000 [==============================] - 2s 37us/step - loss: 0.2628 - val_loss: 0.2628\n",
      "Epoch 48/50\n",
      "60000/60000 [==============================] - 2s 34us/step - loss: 0.2628 - val_loss: 0.2628\n",
      "Epoch 49/50\n",
      "60000/60000 [==============================] - 2s 33us/step - loss: 0.2628 - val_loss: 0.2628\n",
      "Epoch 50/50\n",
      "60000/60000 [==============================] - 2s 38us/step - loss: 0.2628 - val_loss: 0.2628\n"
     ]
    },
    {
     "data": {
      "text/plain": [
       "<keras.callbacks.History at 0x22097bcb940>"
      ]
     },
     "execution_count": 143,
     "metadata": {},
     "output_type": "execute_result"
    }
   ],
   "source": [
    "autoencoder.fit(x_train, x_train,\n",
    "                epochs=50,\n",
    "                batch_size=256,\n",
    "                shuffle=True,\n",
    "                validation_data=(x_test, x_test))"
   ]
  },
  {
   "cell_type": "code",
   "execution_count": 146,
   "metadata": {},
   "outputs": [
    {
     "data": {
      "image/png": "[encoded data removed]",
      "text/plain": [
       "<Figure size 720x576 with 30 Axes>"
      ]
     },
     "metadata": {
      "needs_background": "light"
     },
     "output_type": "display_data"
    }
   ],
   "source": [
    "# encode and decode some digits\n",
    "# note that we take them from the *test* set\n",
    "encoded_imgs = encoder.predict(x_test)\n",
    "decoded_imgs = decoder.predict(encoded_imgs)\n",
    "\n",
    "import matplotlib.pyplot as plt\n",
    "%matplotlib inline\n",
    "\n",
    "n = 10  # how many digits we will display\n",
    "plt.figure(figsize=(10, 8))\n",
    "for i in range(n):\n",
    "    # display original\n",
    "    ax = plt.subplot(3, n, i + 1)\n",
    "    plt.imshow(x_test[i].reshape(28, 28))\n",
    "    plt.gray()\n",
    "    ax.get_xaxis().set_visible(False)\n",
    "    ax.get_yaxis().set_visible(False)\n",
    "\n",
    "    # display hidden \n",
    "    ax = plt.subplot(3, n, i + 1 + n)\n",
    "    plt.imshow(encoded_imgs[i].reshape(8,4))\n",
    "    plt.gray()\n",
    "    ax.get_xaxis().set_visible(False)\n",
    "    ax.get_yaxis().set_visible(False)\n",
    "    \n",
    "    # display reconstruction\n",
    "    ax = plt.subplot(3, n, i + 2*n + 1)\n",
    "    plt.imshow(decoded_imgs[i].reshape(28, 28))\n",
    "    plt.gray()\n",
    "    ax.get_xaxis().set_visible(False)\n",
    "    ax.get_yaxis().set_visible(False)\n",
    "plt.show()"
   ]
  },
  {
   "cell_type": "code",
   "execution_count": 145,
   "metadata": {},
   "outputs": [
    {
     "data": {
      "text/plain": [
       "array([4.61250638e-05, 4.61278796e-05, 4.61232157e-05, 4.61203999e-05,\n",
       "       4.61182462e-05, 4.61235650e-05, 4.61220698e-05, 4.61196105e-05,\n",
       "       4.61196105e-05, 4.61200943e-05, 4.61213676e-05, 4.61223790e-05,\n",
       "       5.26671392e-05, 6.67151253e-05, 5.59318942e-05, 4.64686782e-05,\n",
       "       4.61221607e-05, 4.61188174e-05, 4.61190793e-05, 4.61225100e-05,\n",
       "       4.61215895e-05, 4.61188174e-05, 4.61242744e-05, 4.61225973e-05,\n",
       "       4.61271302e-05, 4.61161799e-05, 4.61238342e-05, 4.61225100e-05,\n",
       "       4.61231248e-05, 4.61212803e-05, 4.61246673e-05, 4.61228628e-05,\n",
       "       4.68799044e-05, 4.91554274e-05, 7.73883730e-05, 1.23476260e-04,\n",
       "       1.80796589e-04, 2.53384816e-04, 4.40074655e-04, 5.85378963e-04,\n",
       "       6.36372250e-04, 6.46556902e-04, 6.95070426e-04, 6.27373403e-04,\n",
       "       6.72283291e-04, 5.57002088e-04, 3.62908555e-04, 2.70019751e-04,\n",
       "       2.12033483e-04, 1.09593297e-04, 7.59932664e-05, 5.57283529e-05,\n",
       "       4.61232994e-05, 4.61247109e-05, 4.61192139e-05, 4.61244017e-05,\n",
       "       4.61221607e-05, 4.61182462e-05, 4.97336441e-05, 4.82711475e-05,\n",
       "       6.70293812e-05, 6.30741852e-05, 1.93614469e-04, 5.07884892e-04,\n",
       "       9.66394669e-04, 1.89812121e-03, 3.30043118e-03, 4.95964428e-03,\n",
       "       7.22245174e-03, 9.86321736e-03, 1.24092670e-02, 1.40355416e-02,\n",
       "       1.45081747e-02, 1.31962495e-02, 1.08672744e-02, 7.90780783e-03,\n",
       "       4.61986894e-03, 2.37444998e-03, 1.07854092e-03, 3.44392582e-04,\n",
       "       1.57052578e-04, 7.29150779e-05, 4.61205345e-05, 4.61199197e-05,\n",
       "       4.61203999e-05, 4.61232994e-05, 5.60356275e-05, 6.48941132e-05,\n",
       "       8.47121119e-05, 2.63844384e-04, 7.71098828e-04, 2.03319080e-03,\n",
       "       4.42085834e-03, 8.60198773e-03, 1.41639207e-02, 2.12390739e-02,\n",
       "       2.90221833e-02, 3.79835106e-02, 4.64337319e-02, 5.18668965e-02,\n",
       "       5.13963066e-02, 4.62074094e-02, 3.73542421e-02, 2.68265605e-02,\n",
       "       1.63530633e-02, 8.80771130e-03, 4.04690858e-03, 1.52337796e-03,\n",
       "       5.85869362e-04, 1.32889923e-04, 5.48764474e-05, 4.61212803e-05,\n",
       "       4.61210147e-05, 4.82683463e-05, 6.22299267e-05, 9.27251531e-05,\n",
       "       3.03466019e-04, 1.51479361e-03, 3.98707297e-03, 9.42111202e-03,\n",
       "       1.86273977e-02, 3.28874998e-02, 5.20723760e-02, 7.60866404e-02,\n",
       "       1.05763264e-01, 1.37921304e-01, 1.63990006e-01, 1.77389637e-01,\n",
       "       1.74138874e-01, 1.53686434e-01, 1.22901782e-01, 8.97836536e-02,\n",
       "       5.79693913e-02, 3.38100456e-02, 1.77511666e-02, 8.28939117e-03,\n",
       "       3.26961954e-03, 7.58324866e-04, 1.38925403e-04, 5.29100798e-05,\n",
       "       4.61236996e-05, 4.61199197e-05, 8.02979193e-05, 2.49443634e-04,\n",
       "       1.46956893e-03, 5.60040446e-03, 1.39055038e-02, 2.82155145e-02,\n",
       "       5.10574766e-02, 8.32568854e-02, 1.23431250e-01, 1.73301071e-01,\n",
       "       2.31154650e-01, 2.90172219e-01, 3.34206998e-01, 3.55830163e-01,\n",
       "       3.48461807e-01, 3.14052671e-01, 2.58933038e-01, 1.96112946e-01,\n",
       "       1.35697186e-01, 8.43436942e-02, 4.85038571e-02, 2.60701869e-02,\n",
       "       1.16514182e-02, 3.22049391e-03, 5.19388996e-04, 6.17927508e-05,\n",
       "       4.61172749e-05, 4.64810473e-05, 1.32333153e-04, 7.94208434e-04,\n",
       "       4.26516123e-03, 1.27643906e-02, 2.90295146e-02, 5.59023619e-02,\n",
       "       9.48126912e-02, 1.46330327e-01, 2.08101809e-01, 2.77813733e-01,\n",
       "       3.51325005e-01, 4.18600351e-01, 4.66617346e-01, 4.87080872e-01,\n",
       "       4.76962477e-01, 4.39235479e-01, 3.77707958e-01, 2.96956539e-01,\n",
       "       2.14168668e-01, 1.39553413e-01, 8.27117786e-02, 4.49666865e-02,\n",
       "       2.10745595e-02, 7.15872087e-03, 1.37585890e-03, 1.42539197e-04,\n",
       "       4.88121914e-05, 1.09439054e-04, 3.95347684e-04, 2.22530332e-03,\n",
       "       8.94956104e-03, 2.31376179e-02, 4.86928932e-02, 8.80674049e-02,\n",
       "       1.42290771e-01, 2.11825207e-01, 2.89251953e-01, 3.69703084e-01,\n",
       "       4.39153314e-01, 4.91783559e-01, 5.21419168e-01, 5.30979812e-01,\n",
       "       5.22954822e-01, 4.96404946e-01, 4.45720553e-01, 3.69439423e-01,\n",
       "       2.76082546e-01, 1.84964225e-01, 1.11044817e-01, 5.96530326e-02,\n",
       "       2.74415333e-02, 1.00063840e-02, 1.92640640e-03, 1.45419850e-04,\n",
       "       5.85633315e-05, 2.03382573e-04, 1.19365682e-03, 5.04911365e-03,\n",
       "       1.45553462e-02, 3.31323147e-02, 6.57565296e-02, 1.16217695e-01,\n",
       "       1.83794066e-01, 2.67057538e-01, 3.54097784e-01, 4.25765544e-01,\n",
       "       4.68755543e-01, 4.84382510e-01, 4.81942147e-01, 4.78464991e-01,\n",
       "       4.81116295e-01, 4.78507072e-01, 4.56233829e-01, 3.95199537e-01,\n",
       "       3.03957552e-01, 2.08510816e-01, 1.25403151e-01, 6.43965304e-02,\n",
       "       2.81174630e-02, 1.01548936e-02, 1.79331377e-03, 1.31369467e-04,\n",
       "       6.08374066e-05, 3.05314286e-04, 1.89744832e-03, 6.62581669e-03,\n",
       "       1.72941610e-02, 3.82275581e-02, 7.63712451e-02, 1.35125250e-01,\n",
       "       2.14121521e-01, 3.06192458e-01, 3.87952417e-01, 4.33279991e-01,\n",
       "       4.34370250e-01, 4.09278929e-01, 3.87268424e-01, 3.88457239e-01,\n",
       "       4.08989578e-01, 4.35066521e-01, 4.35943186e-01, 3.88723791e-01,\n",
       "       3.01857263e-01, 2.07345292e-01, 1.23687893e-01, 6.05120137e-02,\n",
       "       2.34416686e-02, 7.37510901e-03, 1.30285404e-03, 1.33575435e-04,\n",
       "       6.49324938e-05, 3.64990177e-04, 1.95226341e-03, 6.45785220e-03,\n",
       "       1.66777279e-02, 3.85088772e-02, 8.03982317e-02, 1.45611048e-01,\n",
       "       2.34142914e-01, 3.27223569e-01, 3.93370092e-01, 4.04258341e-01,\n",
       "       3.67474794e-01, 3.25092226e-01, 3.11375171e-01, 3.31534773e-01,\n",
       "       3.68207991e-01, 4.09251094e-01, 4.16886389e-01, 3.68837476e-01,\n",
       "       2.81840593e-01, 1.90112993e-01, 1.11956961e-01, 5.28923050e-02,\n",
       "       1.79338567e-02, 4.39180294e-03, 8.09084100e-04, 1.05095714e-04,\n",
       "       6.48217465e-05, 2.91439792e-04, 1.55595224e-03, 4.90683503e-03,\n",
       "       1.41526265e-02, 3.72712463e-02, 8.27683657e-02, 1.56691954e-01,\n",
       "       2.52061129e-01, 3.42919827e-01, 3.88171673e-01, 3.71900558e-01,\n",
       "       3.20384681e-01, 2.87465513e-01, 2.98771709e-01, 3.34910601e-01,\n",
       "       3.80588531e-01, 4.20866638e-01, 4.13080364e-01, 3.48739058e-01,\n",
       "       2.55150914e-01, 1.67274147e-01, 9.97673571e-02, 4.94623110e-02,\n",
       "       1.55905541e-02, 2.28486536e-03, 4.55209578e-04, 7.23717749e-05,\n",
       "       5.81066743e-05, 1.77655500e-04, 8.69854586e-04, 3.31716449e-03,\n",
       "       1.19258165e-02, 3.75224724e-02, 8.92993510e-02, 1.71271458e-01,\n",
       "       2.71834791e-01, 3.55158448e-01, 3.84778202e-01, 3.57335806e-01,\n",
       "       3.12938392e-01, 3.11207920e-01, 3.49871278e-01, 3.97277713e-01,\n",
       "       4.41525906e-01, 4.60236281e-01, 4.20781106e-01, 3.30800056e-01,\n",
       "       2.30316505e-01, 1.50656939e-01, 9.35111344e-02, 4.98671681e-02,\n",
       "       1.67909041e-02, 1.65732799e-03, 3.05406284e-04, 7.95755914e-05,\n",
       "       4.79246191e-05, 9.82417914e-05, 4.47571772e-04, 2.26894720e-03,\n",
       "       1.12997666e-02, 4.15650234e-02, 1.00219570e-01, 1.87192470e-01,\n",
       "       2.86163807e-01, 3.61312121e-01, 3.80784035e-01, 3.57558578e-01,\n",
       "       3.40130687e-01, 3.79582018e-01, 4.35424507e-01, 4.84959036e-01,\n",
       "       5.08434832e-01, 4.96115923e-01, 4.26361620e-01, 3.18035364e-01,\n",
       "       2.17155695e-01, 1.46321923e-01, 9.43729728e-02, 5.35630584e-02,\n",
       "       1.99800134e-02, 2.19367212e-03, 3.15740501e-04, 7.61336923e-05,\n",
       "       5.21143265e-05, 6.99776574e-05, 2.18750371e-04, 1.73476769e-03,\n",
       "       1.19453361e-02, 4.82898764e-02, 1.12025887e-01, 1.98658839e-01,\n",
       "       2.91284651e-01, 3.55735958e-01, 3.72935355e-01, 3.66097838e-01,\n",
       "       3.83372396e-01, 4.52253014e-01, 5.10197759e-01, 5.46767056e-01,\n",
       "       5.38257241e-01, 5.02915740e-01, 4.20014501e-01, 3.12428266e-01,\n",
       "       2.20479488e-01, 1.52950093e-01, 1.00806952e-01, 5.74471466e-02,\n",
       "       2.23405343e-02, 3.10167507e-03, 3.47403926e-04, 5.34986793e-05,\n",
       "       4.84609482e-05, 5.64461807e-05, 1.90915089e-04, 1.88710040e-03,\n",
       "       1.38828792e-02, 5.64431511e-02, 1.21731624e-01, 2.01330274e-01,\n",
       "       2.81607747e-01, 3.36832732e-01, 3.58025432e-01, 3.70343179e-01,\n",
       "       4.13111120e-01, 4.84139174e-01, 5.32771111e-01, 5.46217561e-01,\n",
       "       5.18507838e-01, 4.77468610e-01, 3.97866011e-01, 3.07511896e-01,\n",
       "       2.28881165e-01, 1.62526384e-01, 1.06519267e-01, 5.85612468e-02,\n",
       "       2.27130260e-02, 4.12288960e-03, 5.44295239e-04, 8.02577269e-05,\n",
       "       4.84056181e-05, 5.92548022e-05, 2.81904766e-04, 2.35041464e-03,\n",
       "       1.74070764e-02, 6.47209436e-02, 1.27742946e-01, 1.96321219e-01,\n",
       "       2.61351943e-01, 3.06126863e-01, 3.27993333e-01, 3.50911558e-01,\n",
       "       3.97174090e-01, 4.55658793e-01, 4.96852070e-01, 5.00203371e-01,\n",
       "       4.76156563e-01, 4.37220603e-01, 3.74285370e-01, 3.03320736e-01,\n",
       "       2.34004155e-01, 1.65776610e-01, 1.05370246e-01, 5.58914915e-02,\n",
       "       2.18767375e-02, 4.93921340e-03, 6.84072555e-04, 8.25187963e-05,\n",
       "       4.61231248e-05, 6.92251342e-05, 4.10709530e-04, 3.64423101e-03,\n",
       "       2.32413244e-02, 7.24212378e-02, 1.31054983e-01, 1.89627260e-01,\n",
       "       2.38121524e-01, 2.72082239e-01, 2.93047875e-01, 3.17194134e-01,\n",
       "       3.52639467e-01, 4.00994301e-01, 4.42274600e-01, 4.53240514e-01,\n",
       "       4.41673905e-01, 4.11397785e-01, 3.63897622e-01, 3.03623736e-01,\n",
       "       2.33234063e-01, 1.60615981e-01, 9.83422101e-02, 5.03461212e-02,\n",
       "       2.01493520e-02, 5.45616075e-03, 7.58811773e-04, 7.43894780e-05,\n",
       "       5.22900009e-05, 6.11512078e-05, 6.55616692e-04, 5.85820526e-03,\n",
       "       2.98228171e-02, 8.00543129e-02, 1.37007773e-01, 1.89674392e-01,\n",
       "       2.29502335e-01, 2.59054631e-01, 2.81423718e-01, 3.00082654e-01,\n",
       "       3.25596124e-01, 3.72572839e-01, 4.17876810e-01, 4.40612763e-01,\n",
       "       4.39075887e-01, 4.14082766e-01, 3.68008792e-01, 3.01021397e-01,\n",
       "       2.22374111e-01, 1.48123309e-01, 8.86681154e-02, 4.45434749e-02,\n",
       "       1.78080257e-02, 4.96868882e-03, 5.51001460e-04, 8.22687871e-05,\n",
       "       4.68180297e-05, 8.48023119e-05, 1.04965107e-03, 7.91789219e-03,\n",
       "       3.42931747e-02, 8.55427161e-02, 1.44826233e-01, 2.01264232e-01,\n",
       "       2.45282978e-01, 2.79726356e-01, 3.05180192e-01, 3.23778033e-01,\n",
       "       3.52496237e-01, 3.97215575e-01, 4.40770477e-01, 4.63032722e-01,\n",
       "       4.56978738e-01, 4.23401564e-01, 3.62473190e-01, 2.81258613e-01,\n",
       "       1.98463380e-01, 1.27596170e-01, 7.34394640e-02, 3.56675200e-02,\n",
       "       1.41953686e-02, 4.07949788e-03, 5.33312967e-04, 6.71565795e-05,\n",
       "       4.61229502e-05, 9.26661960e-05, 1.21848227e-03, 8.75509996e-03,\n",
       "       3.34729366e-02, 8.16608071e-02, 1.46364078e-01, 2.12226734e-01,\n",
       "       2.71324694e-01, 3.18680197e-01, 3.54246467e-01, 3.83372664e-01,\n",
       "       4.17825699e-01, 4.59580004e-01, 4.90364075e-01, 4.94237959e-01,\n",
       "       4.65738356e-01, 4.07997102e-01, 3.28015089e-01, 2.37793908e-01,\n",
       "       1.59085244e-01, 9.72677395e-02, 5.32068908e-02, 2.54551694e-02,\n",
       "       1.05341999e-02, 2.82581802e-03, 4.12180379e-04, 5.17386288e-05,\n",
       "       4.78806323e-05, 8.60950968e-05, 1.04048394e-03, 7.17131188e-03,\n",
       "       2.60055345e-02, 6.66739419e-02, 1.29267409e-01, 2.03561649e-01,\n",
       "       2.77930975e-01, 3.43430012e-01, 3.96084756e-01, 4.40001428e-01,\n",
       "       4.80139256e-01, 5.11317790e-01, 5.18515766e-01, 4.91434604e-01,\n",
       "       4.33062345e-01, 3.50791395e-01, 2.59891748e-01, 1.77199379e-01,\n",
       "       1.11113653e-01, 6.34821802e-02, 3.32281776e-02, 1.60406437e-02,\n",
       "       6.56865397e-03, 1.63970515e-03, 2.35104206e-04, 4.83333351e-05,\n",
       "       4.78225884e-05, 4.90177626e-05, 6.80873811e-04, 4.17622505e-03,\n",
       "       1.54389767e-02, 4.26349863e-02, 9.17339548e-02, 1.59814671e-01,\n",
       "       2.41292253e-01, 3.20267826e-01, 3.90327185e-01, 4.43794370e-01,\n",
       "       4.80465680e-01, 4.91359711e-01, 4.73124653e-01, 4.20801878e-01,\n",
       "       3.44219476e-01, 2.58613586e-01, 1.77027792e-01, 1.12130113e-01,\n",
       "       6.60984144e-02, 3.57563980e-02, 1.83393564e-02, 8.61885492e-03,\n",
       "       3.15110525e-03, 6.87883585e-04, 9.90162953e-05, 5.01967334e-05,\n",
       "       4.61199197e-05, 4.61213240e-05, 2.52942846e-04, 1.55432557e-03,\n",
       "       6.65186998e-03, 1.95300095e-02, 4.71382253e-02, 9.40471590e-02,\n",
       "       1.58890605e-01, 2.31964394e-01, 3.03889662e-01, 3.61714393e-01,\n",
       "       3.90936315e-01, 3.88200164e-01, 3.54825795e-01, 2.96669573e-01,\n",
       "       2.25951493e-01, 1.57440469e-01, 9.96796191e-02, 5.97966760e-02,\n",
       "       3.33325677e-02, 1.72384139e-02, 8.55080038e-03, 3.75520880e-03,\n",
       "       1.13890448e-03, 2.29212150e-04, 7.67856691e-05, 4.61250638e-05,\n",
       "       4.61208838e-05, 4.61208838e-05, 9.38009834e-05, 4.46042075e-04,\n",
       "       2.01228331e-03, 6.12733001e-03, 1.64034087e-02, 3.58814374e-02,\n",
       "       6.62281215e-02, 1.06403373e-01, 1.49403825e-01, 1.84588015e-01,\n",
       "       2.01881856e-01, 1.99230775e-01, 1.78138897e-01, 1.44124210e-01,\n",
       "       1.07752316e-01, 7.46809244e-02, 4.74444889e-02, 2.83188894e-02,\n",
       "       1.54584358e-02, 7.72032375e-03, 3.62826092e-03, 1.47093181e-03,\n",
       "       3.74559517e-04, 1.10463501e-04, 5.23338531e-05, 4.61225973e-05,\n",
       "       4.61194795e-05, 4.61254167e-05, 5.13439991e-05, 9.80618061e-05,\n",
       "       4.67683218e-04, 1.76673895e-03, 5.43995900e-03, 1.23919807e-02,\n",
       "       2.39142831e-02, 3.83185931e-02, 5.40210716e-02, 6.52876869e-02,\n",
       "       7.04684481e-02, 6.95692897e-02, 6.20762557e-02, 5.14234677e-02,\n",
       "       4.09091190e-02, 3.03218178e-02, 2.03301795e-02, 1.23057291e-02,\n",
       "       6.53057173e-03, 3.12136416e-03, 1.35018828e-03, 5.01397415e-04,\n",
       "       1.45242186e-04, 5.73355210e-05, 5.17424778e-05, 4.61177151e-05,\n",
       "       4.61212803e-05, 4.61196105e-05, 4.61241398e-05, 4.82624018e-05,\n",
       "       1.55798189e-04, 5.93455276e-04, 2.00616103e-03, 4.55902377e-03,\n",
       "       8.90567526e-03, 1.35804955e-02, 1.88406128e-02, 2.32412964e-02,\n",
       "       2.49851812e-02, 2.43173055e-02, 2.17150319e-02, 1.72953624e-02,\n",
       "       1.36875594e-02, 9.99668520e-03, 6.51298976e-03, 3.83104407e-03,\n",
       "       2.00816686e-03, 8.61967739e-04, 2.74551508e-04, 9.61003097e-05,\n",
       "       4.77061621e-05, 4.94307533e-05, 4.61208838e-05, 4.61247109e-05,\n",
       "       4.61228192e-05, 4.61212803e-05, 4.61232157e-05, 4.61258096e-05,\n",
       "       5.46649644e-05, 9.35288263e-05, 1.80140109e-04, 3.33138683e-04,\n",
       "       4.65331716e-04, 7.11426546e-04, 1.23539544e-03, 1.59443135e-03,\n",
       "       1.94884103e-03, 2.19760532e-03, 2.56222440e-03, 2.20480142e-03,\n",
       "       1.79052225e-03, 1.25346403e-03, 7.18639349e-04, 3.27857677e-04,\n",
       "       1.91156796e-04, 1.04522645e-04, 9.08872898e-05, 5.29351128e-05,\n",
       "       4.61250202e-05, 4.61232994e-05, 4.61223790e-05, 4.61200943e-05],\n",
       "      dtype=float32)"
      ]
     },
     "execution_count": 145,
     "metadata": {},
     "output_type": "execute_result"
    }
   ],
   "source": [
    "decoded_imgs[1]"
   ]
  },
  {
   "cell_type": "markdown",
   "metadata": {},
   "source": [
    "## Going deep\n",
    "\n",
    "Compare the loss with the shallow case. Does it get any better?"
   ]
  },
  {
   "cell_type": "code",
   "execution_count": null,
   "metadata": {
    "collapsed": true
   },
   "outputs": [],
   "source": [
    "# Try 784-128-64-32-64-128-784 architecture with relu activations and sigmoid in the last layer\n"
   ]
  },
  {
   "cell_type": "markdown",
   "metadata": {},
   "source": [
    "## Example: Image denoising\n",
    "\n",
    "It's simple: we will train the autoencoder to map noisy digits images to clean digits images.\n",
    "\n",
    "Here's how we will generate synthetic noisy digits: we just apply a gaussian noise matrix and clip the images between 0 and 1."
   ]
  },
  {
   "cell_type": "code",
   "execution_count": 129,
   "metadata": {},
   "outputs": [
    {
     "data": {
      "image/png": "[encoded data removed]",
      "text/plain": [
       "<Figure size 1440x144 with 10 Axes>"
      ]
     },
     "metadata": {
      "needs_background": "light"
     },
     "output_type": "display_data"
    }
   ],
   "source": [
    "import matplotlib.pyplot as plt\n",
    "import numpy as np\n",
    "from keras.datasets import mnist\n",
    "from keras.layers import Dense\n",
    "from keras.models import Sequential\n",
    "\n",
    "(x_train, _), (x_test, _) = mnist.load_data()\n",
    "\n",
    "x_train = x_train.astype('float32') / 255.\n",
    "x_test = x_test.astype('float32') / 255.\n",
    "x_train = np.reshape(x_train, (len(x_train), 784))\n",
    "x_test = np.reshape(x_test, (len(x_test), 784))\n",
    "\n",
    "noise_factor = 0.5\n",
    "x_train_noisy = x_train + noise_factor * np.random.normal(loc=0.0, scale=1.0, size=x_train.shape) \n",
    "x_test_noisy = x_test + noise_factor * np.random.normal(loc=0.0, scale=1.0, size=x_test.shape) \n",
    "x_train_noisy = np.clip(x_train_noisy, 0., 1.)\n",
    "x_test_noisy = np.clip(x_test_noisy, 0., 1.)\n",
    "\n",
    "n = 10\n",
    "plt.figure(figsize=(20, 2))\n",
    "for i in range(n):\n",
    "    ax = plt.subplot(1, n, i+1)\n",
    "    plt.imshow(x_test_noisy[i].reshape(28, 28))\n",
    "    plt.gray()\n",
    "    ax.get_xaxis().set_visible(False)\n",
    "    ax.get_yaxis().set_visible(False)\n",
    "plt.show()"
   ]
  },
  {
   "cell_type": "code",
   "execution_count": null,
   "metadata": {
    "collapsed": true
   },
   "outputs": [],
   "source": [
    "#model\n"
   ]
  },
  {
   "cell_type": "code",
   "execution_count": null,
   "metadata": {
    "collapsed": true
   },
   "outputs": [],
   "source": [
    "#display original, noisy and reconstruction\n"
   ]
  },
  {
   "cell_type": "markdown",
   "metadata": {},
   "source": [
    "## Variational Autoencoders"
   ]
  },
  {
   "cell_type": "code",
   "execution_count": null,
   "metadata": {
    "collapsed": true
   },
   "outputs": [],
   "source": [
    "from IPython.display import display_html\n",
    "def restartkernel():\n",
    "    display_html(\"<script>Jupyter.notebook.kernel.restart()</script>\",raw=True)\n",
    "restartkernel()    "
   ]
  },
  {
   "cell_type": "code",
   "execution_count": null,
   "metadata": {
    "collapsed": true
   },
   "outputs": [],
   "source": [
    "from keras.datasets import mnist\n",
    "from keras.layers import Input, Dense, Lambda\n",
    "from keras.models import Model\n",
    "from keras.objectives import binary_crossentropy, mse\n",
    "\n",
    "import numpy as np\n",
    "import matplotlib.pyplot as plt\n",
    "import keras.backend as K"
   ]
  },
  {
   "cell_type": "markdown",
   "metadata": {
    "collapsed": true
   },
   "source": [
    "A variational autoencoder is an autoencoder that adds probabilistic constraints on the representations being learned. \n",
    "\n",
    "> When using probabilistic models, **compressed representation** is called **latent variable model**. \n",
    "\n",
    "So, instead of learning a function this model is learning a probabilistic distribution function that models your data.\n",
    "\n",
    "> Why? Standard autoencoders are not suited to work as a generative model. If you pick a random value for your decoder you won't get necessarily a good reconstruction: the value can far away from any previous value the network has seen before! That's why attaching a probabilistic model to the compressed representation is a good idea! \n",
    "\n",
    "For sake of simplicity, let's use a standard normal distribution to define the distribution of inputs ($\\mathbf V$) the decoder will receive. \n",
    "\n",
    "The architecture of a variational autoencoder (VAE) is thus:"
   ]
  },
  {
   "cell_type": "markdown",
   "metadata": {},
   "source": [
    "<center>\n",
    "<img src=\"http://ijdykeman.github.io/assets/cvae_figures/ae_diagram.svg\" alt=\"\" style=\"width: 300px;\"/> \n",
    "(Source: http://ijdykeman.github.io/ml/2016/12/21/cvae.html)\n",
    "</center>"
   ]
  },
  {
   "cell_type": "markdown",
   "metadata": {},
   "source": [
    "We want the decoder to take any point taken from a standard normal distribution to return a reasonable element of our dataset:\n",
    "\n",
    "<center>\n",
    "<img src=\"http://ijdykeman.github.io/assets/cvae_figures/vae_decoder_diagram.svg\" alt=\"\" style=\"width: 500px;\"/> \n",
    "(Source: http://ijdykeman.github.io/ml/2016/12/21/cvae.html)\n",
    "</center>"
   ]
  },
  {
   "cell_type": "markdown",
   "metadata": {},
   "source": [
    "Let's consider the encoder role in this architecture. \n",
    "\n",
    "In a traditional autoencoder, the encoder model takes a sample from data and returns a single point in the latent space, which is then passed to the decoder.\n",
    "\n",
    "> What information is encoded in the latent space?\n",
    "\n",
    "In VAE the encoder instead produces (the parameters of) a probability distribution in the latent space:\n",
    "\n",
    "<center>\n",
    "<img src=\"http://ijdykeman.github.io/assets/cvae_figures/encoder_vae_diagram.svg\" alt=\"\" style=\"width: 500px;\"/> \n",
    "(Source: http://ijdykeman.github.io/ml/2016/12/21/cvae.html)\n",
    "</center>\n",
    "\n",
    "These distributions are (non standard) Gaussians of the same dimensionality as the latent space. "
   ]
  },
  {
   "cell_type": "markdown",
   "metadata": {},
   "source": [
    "First, let’s implement the encoder net, which takes input $X$ and outputs two things: $\\mu(X)$ and $\\Sigma(X)$, the parameters of the Gaussian. Our encoder will be a neural net with one hidden layer. \n",
    "\n",
    "Our latent variable is two dimensional, so that we could easily visualize it."
   ]
  },
  {
   "cell_type": "markdown",
   "metadata": {},
   "source": [
    "Load data with labels for visualization purposes"
   ]
  },
  {
   "cell_type": "code",
   "execution_count": null,
   "metadata": {
    "collapsed": true
   },
   "outputs": [],
   "source": [
    "# MNIST dataset\n"
   ]
  },
  {
   "cell_type": "code",
   "execution_count": null,
   "metadata": {
    "collapsed": true
   },
   "outputs": [],
   "source": [
    "# network parameters\n",
    "input_shape = (original_dim, )\n",
    "intermediate_dim = 512\n",
    "batch_size = 100\n",
    "latent_dim = 2\n",
    "epochs = 25\n",
    "epsilon_std=0.05 # This parameter is the most critical one, as it determines the sampling"
   ]
  },
  {
   "cell_type": "raw",
   "metadata": {},
   "source": [
    "Create a decoder architecture"
   ]
  },
  {
   "cell_type": "code",
   "execution_count": null,
   "metadata": {
    "collapsed": true
   },
   "outputs": [],
   "source": []
  },
  {
   "cell_type": "markdown",
   "metadata": {},
   "source": [
    "Up to now we have an encoder that takes images and produce (the parameters of) a pdf in the latent space.  The decoder takes points in the latent space and return reconstructions.\n",
    "\n",
    "How do we connect both models? By sampling from the produced distribution!\n",
    "\n",
    "\n",
    "<center>\n",
    "<img src=\"http://ijdykeman.github.io/assets/cvae_figures/vae_diagram.svg\" alt=\"\" style=\"width: 400px;\"/> \n",
    "(Source: http://ijdykeman.github.io/ml/2016/12/21/cvae.html)\n",
    "</center>"
   ]
  },
  {
   "cell_type": "markdown",
   "metadata": {},
   "source": [
    "To this end we will implement a *random variate reparameterisation*: the substitution of a random variable by a deterministic transformation of a simpler random variable.\n",
    "\n",
    "There are several methods by which non-uniform random numbers, or random variates, can be generated. The most popular methods are the **one-liners**, which give us the simple tools to generate random variates in one line of code, following the classic paper by Luc Devroye (Luc Devroye, Random variate generation in one line of code, Proceedings of the 28th conference on Winter simulation, 1996).\n",
    "\n",
    "In the case of a Gaussian, we can use the following algorithm:\n",
    "+ Generate $\\epsilon \\sim \\mathcal{N}(0;1)$.\n",
    "+ Compute a sample from $\\mathcal{N}(\\mu; RR^T)$ as $\\mu + R \\epsilon$."
   ]
  },
  {
   "cell_type": "code",
   "execution_count": null,
   "metadata": {
    "collapsed": true
   },
   "outputs": [],
   "source": [
    "#Implement the above formula\n",
    "\n",
    "def sampling(args):\n",
    "    return \n",
    "\n",
    "# note that \"output_shape\" isn't necessary with the TensorFlow backend\n",
    "# so you could write `Lambda(sampling)([z_mean, z_log_sigma])`\n",
    "z = Lambda(sampling, output_shape=(latent_dim,))([z_mean, z_log_sigma])"
   ]
  },
  {
   "cell_type": "markdown",
   "metadata": {},
   "source": [
    "Now we can create the decoder net:"
   ]
  },
  {
   "cell_type": "code",
   "execution_count": null,
   "metadata": {
    "collapsed": true
   },
   "outputs": [],
   "source": []
  },
  {
   "cell_type": "markdown",
   "metadata": {},
   "source": [
    "Lastly, from this model, we can do three things: reconstruct inputs, encode inputs into latent variables, and generate data from latent variable. "
   ]
  },
  {
   "cell_type": "code",
   "execution_count": null,
   "metadata": {
    "collapsed": true
   },
   "outputs": [],
   "source": []
  },
  {
   "cell_type": "markdown",
   "metadata": {},
   "source": [
    "In order to be coherent with our previous definitions, we must assure that points sampled fron the latent space fit a standard normal distribition, but the encoder is producing non standard normal distributions. So, we must add a constraint for getting something like this:\n",
    "\n",
    "<center>\n",
    "<img src=\"http://ijdykeman.github.io/assets/cvae_figures/kl_divergence_diagram.svg\" alt=\"\" style=\"width: 700px;\"/> \n",
    "(Source: http://ijdykeman.github.io/ml/2016/12/21/cvae.html)\n",
    "</center>\n",
    "\n",
    "In order to impose this constraint in the loss function by using the Kullback-Leibler divergence.\n",
    "\n",
    "> The Kullback–Leibler divergence is a measure of how one probability distribution diverges from a second expected probability distribution. \n",
    "For discrete probability distributions $P$ and $Q$, the Kullback–Leibler divergence from $Q$ to $P$ is defined to be\n",
    "$$ D_{\\mathrm {KL} }(P\\|Q)=\\sum _{i}P(i)\\,\\log {\\frac {P(i)}{Q(i)}}. $$\n",
    "\n",
    "The rest of the loss function must take into account the \"reconstruction\" error."
   ]
  },
  {
   "cell_type": "code",
   "execution_count": null,
   "metadata": {
    "collapsed": true
   },
   "outputs": [],
   "source": [
    "from keras.losses import mse, binary_crossentropy\n",
    "def vae_loss(y_true, y_pred):\n",
    "    \"\"\" \n",
    "    Calculate loss = reconstruction loss + \n",
    "    KL loss for each data in minibatch \n",
    "    \"\"\"\n",
    "    return "
   ]
  },
  {
   "cell_type": "markdown",
   "metadata": {},
   "source": [
    "### Training a VAE\n",
    "\n",
    "How do we train a model that have a sampling step? \n",
    "\n",
    "<center>\n",
    "<img src=\"images/vae_sampling.png\" alt=\"\" style=\"width: 800px;\"/> \n",
    "</center>\n",
    "\n",
    "In fact this is not a problem! By using the *one-linear* method for sampling we have expressed the latent distribution in a way that its parameters are factored out of the parameters of the random variable so that backpropagation can be used to find the optimal parameters of the latent distribution. For this reason this method is called *reparametrization trick*.\n",
    "\n",
    "By using this trick we can train end-to-end a VAE with backpropagation."
   ]
  },
  {
   "cell_type": "code",
   "execution_count": null,
   "metadata": {
    "collapsed": true
   },
   "outputs": [],
   "source": []
  },
  {
   "cell_type": "markdown",
   "metadata": {},
   "source": [
    "## Visualization"
   ]
  },
  {
   "cell_type": "code",
   "execution_count": null,
   "metadata": {
    "collapsed": true
   },
   "outputs": [],
   "source": []
  },
  {
   "cell_type": "markdown",
   "metadata": {},
   "source": [
    "# Excercises\n",
    "\n",
    "* Play with the smapling parameter epsilon_std\n",
    "* Create a VAE model with several layers (deep AE)\n",
    "* Change the reconstruction loss to mse or mae"
   ]
  },
  {
   "cell_type": "markdown",
   "metadata": {},
   "source": [
    "## Deeper network"
   ]
  },
  {
   "cell_type": "code",
   "execution_count": null,
   "metadata": {
    "collapsed": true
   },
   "outputs": [],
   "source": [
    "from IPython.display import display_html\n",
    "def restartkernel():\n",
    "    display_html(\"<script>Jupyter.notebook.kernel.restart()</script>\",raw=True)\n",
    "restartkernel()    "
   ]
  },
  {
   "cell_type": "code",
   "execution_count": null,
   "metadata": {
    "collapsed": true,
    "scrolled": true
   },
   "outputs": [],
   "source": [
    "from keras.datasets import mnist\n",
    "from keras.layers import Input, Dense, Lambda\n",
    "from keras.models import Model\n",
    "from keras.objectives import binary_crossentropy\n",
    "\n",
    "import numpy as np\n",
    "import matplotlib.pyplot as plt\n",
    "import keras.backend as K"
   ]
  },
  {
   "cell_type": "code",
   "execution_count": null,
   "metadata": {
    "collapsed": true
   },
   "outputs": [],
   "source": [
    "# MNIST dataset\n"
   ]
  },
  {
   "cell_type": "code",
   "execution_count": null,
   "metadata": {
    "collapsed": true
   },
   "outputs": [],
   "source": [
    "# network parameters\n",
    "input_shape = (original_dim, )\n",
    "intermediate_dim = [512, 128, 32]\n",
    "batch_size = 100\n",
    "latent_dim = 2\n",
    "epochs = 30\n",
    "epsilon_std = 1e-3 # This parameter is the most critical one, as it determines the sampling"
   ]
  },
  {
   "cell_type": "code",
   "execution_count": null,
   "metadata": {
    "collapsed": true
   },
   "outputs": [],
   "source": [
    "# VAE model\n"
   ]
  },
  {
   "cell_type": "code",
   "execution_count": null,
   "metadata": {
    "collapsed": true
   },
   "outputs": [],
   "source": [
    "# Predict\n"
   ]
  },
  {
   "cell_type": "code",
   "execution_count": null,
   "metadata": {
    "collapsed": true
   },
   "outputs": [],
   "source": [
    "# Plot results\n"
   ]
  },
  {
   "cell_type": "markdown",
   "metadata": {},
   "source": [
    "## mse error"
   ]
  },
  {
   "cell_type": "code",
   "execution_count": null,
   "metadata": {
    "collapsed": true
   },
   "outputs": [],
   "source": [
    "from IPython.display import display_html\n",
    "def restartkernel():\n",
    "    display_html(\"<script>Jupyter.notebook.kernel.restart()</script>\",raw=True)\n",
    "restartkernel()    "
   ]
  },
  {
   "cell_type": "code",
   "execution_count": null,
   "metadata": {
    "collapsed": true,
    "scrolled": true
   },
   "outputs": [],
   "source": [
    "from keras.datasets import mnist\n",
    "from keras.layers import Input, Dense, Lambda\n",
    "from keras.models import Model\n",
    "from keras.objectives import binary_crossentropy, mse\n",
    "\n",
    "import numpy as np\n",
    "import matplotlib.pyplot as plt\n",
    "import keras.backend as K"
   ]
  },
  {
   "cell_type": "code",
   "execution_count": null,
   "metadata": {
    "collapsed": true
   },
   "outputs": [],
   "source": [
    "# MNIST dataset\n"
   ]
  },
  {
   "cell_type": "code",
   "execution_count": null,
   "metadata": {
    "collapsed": true
   },
   "outputs": [],
   "source": [
    "# network parameters\n",
    "input_shape = (original_dim, )\n",
    "intermediate_dim = 512\n",
    "batch_size = 100\n",
    "latent_dim = 2\n",
    "epochs = 25\n",
    "epsilon_std = 5e-4\n",
    "\n"
   ]
  },
  {
   "cell_type": "code",
   "execution_count": null,
   "metadata": {
    "collapsed": true
   },
   "outputs": [],
   "source": [
    "# VAE model\n"
   ]
  },
  {
   "cell_type": "code",
   "execution_count": null,
   "metadata": {
    "collapsed": true
   },
   "outputs": [],
   "source": [
    "# Predict\n"
   ]
  },
  {
   "cell_type": "code",
   "execution_count": null,
   "metadata": {
    "collapsed": true
   },
   "outputs": [],
   "source": [
    "#Plot results\n"
   ]
  },
  {
   "cell_type": "code",
   "execution_count": null,
   "metadata": {
    "collapsed": true
   },
   "outputs": [],
   "source": []
  }
 ],
 "metadata": {
  "kernelspec": {
   "display_name": "Python [conda env:dl_win]",
   "language": "python",
   "name": "conda-env-dl_win-py"
  },
  "language_info": {
   "codemirror_mode": {
    "name": "ipython",
    "version": 3
   },
   "file_extension": ".py",
   "mimetype": "text/x-python",
   "name": "python",
   "nbconvert_exporter": "python",
   "pygments_lexer": "ipython3",
   "version": "3.6.6"
  }
 },
 "nbformat": 4,
 "nbformat_minor": 1
}
