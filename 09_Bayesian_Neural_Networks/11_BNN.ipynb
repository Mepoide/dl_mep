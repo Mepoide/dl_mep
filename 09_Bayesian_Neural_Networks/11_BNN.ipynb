{
 "cells": [
  {
   "cell_type": "markdown",
   "metadata": {},
   "source": [
    "# Bayesian Deep Learning"
   ]
  },
  {
   "cell_type": "markdown",
   "metadata": {},
   "source": [
    "Conventional neural networks are not well designed to model the uncertainty associated with the predictions they make. For that, one way is to go full Bayesian. \n",
    "\n",
    "In this class we will introduce the concept of Bayesian Neural Networks (BNN) by studing a standard supervised use case: a toy regression problem. For that, we will first implement linear regression and learn point estimates for the parameters w and b. Then we’ll see how to incorporate uncertainty into our estimates by using MCMC to implement Bayesian linear regression.\n"
   ]
  },
  {
   "cell_type": "markdown",
   "metadata": {},
   "source": [
    "# Main definitions"
   ]
  },
  {
   "cell_type": "markdown",
   "metadata": {},
   "source": [
    "A Bayesian neural network is a neural network with a prior distribution on its weights. This means that, in contrast with any convential (non-Bayesian) neural network, BNNs are interested not only in the optimal values of the network's parameters -- weights and biases -- but also in the distribution associated with them. Thanks to these distributions we could have a certain level of confidence about the network predictions.\n",
    "\n",
    "The  idea  behind  Bayesian  neural  networks is then to cast the task of training a network as a problem of inference, which is solved using Bayes’ theorem. The latter theorem is used to assign a probability density to each point in the parameter space of the neural network, as it is featured below. \n"
   ]
  },
  {
   "cell_type": "markdown",
   "metadata": {},
   "source": [
    "### Bayes Formula\n",
    "\n",
    "Estimating the distributions associated with the network parameters is hard. These are generally referred to as posterior densities, and are estimated using the Bayes rule.\n",
    "\n",
    "$$p \\left(w \\mid x,y \\right) = \\frac{p \\left( x,y \\mid w \\right) p(w)}{\\int p \\left( x, y \\mid w\\right) p(w)dw}$$\n",
    "\n",
    "The main problem lies in the denominator — also known as model evidence. It requires integrating over all possible values of the parameters (i.e., all weights and biases space), and it is often not doable in practice.\n",
    "\n",
    "Instead, pseudo-numerical approaches can be chosen where the solution to those integrals is approximated. The most common approaches are: \n",
    "\n",
    "1.- Approximating the integral with MCMC\n",
    "\n",
    "2.- Using variational inference \n",
    "\n",
    "3.-Using MC dropout\n",
    "\n"
   ]
  },
  {
   "cell_type": "markdown",
   "metadata": {
    "collapsed": true
   },
   "source": [
    "In this notebook we will explore the MCMC approach with the help of the tensorflow_probability library"
   ]
  },
  {
   "cell_type": "markdown",
   "metadata": {},
   "source": [
    "## Bayesian Regression"
   ]
  },
  {
   "cell_type": "markdown",
   "metadata": {},
   "source": [
    "But first, let's dive deep into the basic principles with the regression example.\n",
    "\n",
    "Regression is one of the most common and basic supervised learning tasks in machine learning.\n",
    "\n",
    "Considering $\\mathcal{D} = \\left( \\boldsymbol{X},\\boldsymbol{Y} \\right) = \\left\\{ (\\boldsymbol{x}_i,y_i) \\right\\}_{i=1}^{N}$. Suppose there exist $f(x)$ so that \n",
    "\n",
    "$$y = f(x)$$\n",
    "\n",
    "We want to find $f(x) = \\phi_w (x)$ where $w$ are the parameters of the later function."
   ]
  },
  {
   "cell_type": "markdown",
   "metadata": {},
   "source": [
    "Let’s first implement linear regression and learn point estimates for the parameters w and b. Then we’ll see how to incorporate uncertainty into our estimates to implement Bayesian linear regression.\n",
    "\n",
    "But, first of all, let’s import the modules we’ll need!"
   ]
  },
  {
   "cell_type": "code",
   "execution_count": 1,
   "metadata": {},
   "outputs": [
    {
     "name": "stderr",
     "output_type": "stream",
     "text": [
      "Using TensorFlow backend.\n"
     ]
    }
   ],
   "source": [
    "#Libraries\n",
    "%matplotlib inline\n",
    "import matplotlib.pyplot as plt\n",
    "import numpy as np\n",
    "plt.style.use('ggplot')\n",
    "\n",
    "import keras\n",
    "from keras.models import Sequential, Model\n",
    "from keras.layers.core import Dense, Dropout\n",
    "from keras.layers import Input\n",
    "from keras import backend as K\n",
    "from keras.layers.merge import concatenate\n",
    "from keras.optimizers import Adam\n",
    "from keras.engine.topology import Layer\n",
    "import tensorflow as tf\n",
    "\n",
    "import tensorflow as tf\n",
    "config = tf.ConfigProto()\n",
    "# config.gpu_options.allow_growth = True\n",
    "sess = tf.InteractiveSession(config=config)\n",
    "\n",
    "K.set_session(sess)"
   ]
  },
  {
   "cell_type": "markdown",
   "metadata": {},
   "source": [
    "Generate a toy dataset of 100 data points with one feature and w=3.5 and b=-9.3:"
   ]
  },
  {
   "cell_type": "code",
   "execution_count": 2,
   "metadata": {},
   "outputs": [
    {
     "data": {
      "image/png": "[encoded data removed]",
      "text/plain": [
       "<Figure size 432x288 with 1 Axes>"
      ]
     },
     "metadata": {
      "needs_background": "light"
     },
     "output_type": "display_data"
    }
   ],
   "source": [
    "points = 100  # number of data points\n",
    "low = -1.\n",
    "high = 1.\n",
    "X_train = np.random.uniform(low=low,high=high,size=(points))\n",
    "\n",
    "def f(x):\n",
    "    a_0 = -9.3\n",
    "    a_1 = 3.5\n",
    "    return a_0+x*a_1\n",
    "\n",
    "y_train = f(X_train)\n",
    "\n",
    "plt.plot(X_train,y_train,'o',\n",
    "         c='#072146',label='real generated data')\n",
    "plt.legend()\n",
    "plt.show()"
   ]
  },
  {
   "cell_type": "markdown",
   "metadata": {},
   "source": [
    "Now add some constant noise in the predicted dimension:\n",
    "\n",
    "$$y = f(x) + \\epsilon$$"
   ]
  },
  {
   "cell_type": "code",
   "execution_count": 3,
   "metadata": {},
   "outputs": [
    {
     "data": {
      "image/png": "[encoded data removed]",
      "text/plain": [
       "<Figure size 432x288 with 1 Axes>"
      ]
     },
     "metadata": {
      "needs_background": "light"
     },
     "output_type": "display_data"
    }
   ],
   "source": [
    "std = 0.4\n",
    "epsilon = np.random.normal(0,std,size=(points))\n",
    "\n",
    "y_train = f(X_train)+epsilon\n",
    "\n",
    "plt.plot(X_train,y_train,'o',\n",
    "         c='#072146',label='real generated data')\n",
    "plt.legend()\n",
    "plt.show()"
   ]
  },
  {
   "cell_type": "markdown",
   "metadata": {},
   "source": [
    "Thus, the problem state as $$y = \\phi_w (x) + \\epsilon$$\n",
    "\n",
    "$$ p(y \\mid x, w, \\epsilon) = \\mathcal{N}(y \\mid \\phi_w(x), \\epsilon^2)$$\n",
    "\n",
    "where $\\phi_w (x) = w_1 x + w_2$\n",
    "\n"
   ]
  },
  {
   "cell_type": "markdown",
   "metadata": {},
   "source": [
    "$$ p(y_{i}\\mid x_{i},w, \\epsilon)=\\frac{1}{\\sqrt{2\\pi\\epsilon^{2}}}\\exp\\left(-\\frac{\\left(y_{i}-\\phi_{w}(x_{i})\\right)^{2}}{2\\epsilon^{2}}\\right)$$\n",
    "\n",
    "$$\\Rightarrow-\\ln\\left(p(y_{i}\\mid x_{i},w)\\right)\\Big|_{\\{w,\\epsilon\\}}=-\\ln(\\epsilon)-\\frac{\\left(y_{i}-\\phi_{w}(x_{i})\\right)^{2}}{2\\epsilon^{2}}$$"
   ]
  },
  {
   "cell_type": "markdown",
   "metadata": {},
   "source": [
    "Define using keras (K) the second term of the above formula:"
   ]
  },
  {
   "cell_type": "code",
   "execution_count": 4,
   "metadata": {},
   "outputs": [],
   "source": [
    "def log_normal_pdf(y, output_psi, epsilon):\n",
    "    return -K.log(epsilon)-(K.square(y-output_psi)/(2.*K.square(epsilon)))"
   ]
  },
  {
   "cell_type": "markdown",
   "metadata": {},
   "source": [
    "Particularize the above function with the real y and the parameters' values:"
   ]
  },
  {
   "cell_type": "code",
   "execution_count": 5,
   "metadata": {},
   "outputs": [],
   "source": [
    "def regression(y_true, parameters):\n",
    "    mu = parameters[:,:-1]\n",
    "    sigma = parameters[:,-1:]\n",
    "    return -K.sum(log_normal_pdf(y_true[:,:1],\n",
    "                                 mu,sigma))"
   ]
  },
  {
   "cell_type": "markdown",
   "metadata": {},
   "source": [
    "Custom keras' layer to deal with scalars:"
   ]
  },
  {
   "cell_type": "code",
   "execution_count": 6,
   "metadata": {},
   "outputs": [],
   "source": [
    "class Scalar(Layer):\n",
    "    def __init__(self, units = 1, initializer=K.zeros, \n",
    "                 activation = None, **kwargs):\n",
    "        super(Scalar, self).__init__(**kwargs)\n",
    "        self.scalar_initializer = initializer\n",
    "        self.units = units\n",
    "        self.activation = activation\n",
    "        \n",
    "    def build(self, bs_input):\n",
    "        self.scalar = self.add_weight(\"sigma_hom\", \n",
    "                                      shape=[self.units],  \n",
    "                                      initializer=self.scalar_initializer)\n",
    "        self.params = [self.scalar]\n",
    "    \n",
    "    def get_output(self, train=False):\n",
    "        output = self.scalar*K.ones_like(self.get_input()[:,:1])\n",
    "        if self.activation is not None:\n",
    "            output = self.activation(output)\n",
    "        return output\n",
    "    \n",
    "    def call(self, bs_input):\n",
    "        output = self.scalar*K.ones_like(bs_input[:,:1])\n",
    "        if self.activation is not None:\n",
    "            output = self.activation(output)\n",
    "        return output\n",
    "    \n",
    "    def compute_output_shape(self, input_shape):\n",
    "        return (input_shape[0], self.units)"
   ]
  },
  {
   "cell_type": "markdown",
   "metadata": {},
   "source": [
    "Build a function which retuns the ELU value of x + 1 given x:"
   ]
  },
  {
   "cell_type": "code",
   "execution_count": 7,
   "metadata": {},
   "outputs": [],
   "source": [
    "from keras.layers import ELU\n",
    "\n",
    "def elu_plus1(x, a=1.):\n",
    "    return ELU(alpha=a)(x)+1."
   ]
  },
  {
   "cell_type": "markdown",
   "metadata": {},
   "source": [
    "Train the regression model:"
   ]
  },
  {
   "cell_type": "code",
   "execution_count": 8,
   "metadata": {},
   "outputs": [],
   "source": [
    "i = Input(name='input', shape=(1,), dtype='float32')\n",
    "\n",
    "phi = Dense(units=1, activation=\"linear\", name='w',\n",
    "              kernel_initializer='ones')(i)\n",
    "\n",
    "epsilon = Scalar(activation=elu_plus1)(i)\n",
    "\n",
    "model = Model(\n",
    "    inputs=[i],\n",
    "    outputs=[concatenate([phi,epsilon],  \n",
    "                         axis=1, \n",
    "                         name='main_output')])\n",
    "\n",
    "opt = Adam(lr=0.1)\n",
    "model.compile(optimizer=opt, loss={'main_output':regression})"
   ]
  },
  {
   "cell_type": "code",
   "execution_count": 9,
   "metadata": {},
   "outputs": [
    {
     "name": "stdout",
     "output_type": "stream",
     "text": [
      "Train on 90 samples, validate on 10 samples\n",
      "Epoch 1/1000\n"
     ]
    },
    {
     "ename": "InternalError",
     "evalue": "Blas GEMV launch failed:  m=1, n=32\n\t [[{{node w/MatMul}} = MatMul[T=DT_FLOAT, transpose_a=false, transpose_b=false, _device=\"/job:localhost/replica:0/task:0/device:GPU:0\"](_arg_input_0_0/_37, w/kernel/read)]]\n\t [[{{node loss/mul/_55}} = _Recv[client_terminated=false, recv_device=\"/job:localhost/replica:0/task:0/device:CPU:0\", send_device=\"/job:localhost/replica:0/task:0/device:GPU:0\", send_device_incarnation=1, tensor_name=\"edge_463_loss/mul\", tensor_type=DT_FLOAT, _device=\"/job:localhost/replica:0/task:0/device:CPU:0\"]()]]",
     "output_type": "error",
     "traceback": [
      "\u001b[1;31m---------------------------------------------------------------------------\u001b[0m",
      "\u001b[1;31mInternalError\u001b[0m                             Traceback (most recent call last)",
      "\u001b[1;32m<ipython-input-9-4e704576e1ea>\u001b[0m in \u001b[0;36m<module>\u001b[1;34m\u001b[0m\n\u001b[0;32m      1\u001b[0m history = model.fit(X_train.reshape(-1,1), \n\u001b[0;32m      2\u001b[0m           \u001b[0mnp\u001b[0m\u001b[1;33m.\u001b[0m\u001b[0mrepeat\u001b[0m\u001b[1;33m(\u001b[0m\u001b[0my_train\u001b[0m\u001b[1;33m.\u001b[0m\u001b[0mreshape\u001b[0m\u001b[1;33m(\u001b[0m\u001b[1;33m-\u001b[0m\u001b[1;36m1\u001b[0m\u001b[1;33m,\u001b[0m\u001b[1;36m1\u001b[0m\u001b[1;33m)\u001b[0m\u001b[1;33m,\u001b[0m\u001b[1;36m2\u001b[0m\u001b[1;33m,\u001b[0m\u001b[0maxis\u001b[0m\u001b[1;33m=\u001b[0m\u001b[1;36m1\u001b[0m\u001b[1;33m)\u001b[0m\u001b[1;33m,\u001b[0m\u001b[1;33m\u001b[0m\u001b[1;33m\u001b[0m\u001b[0m\n\u001b[1;32m----> 3\u001b[1;33m           epochs=1000, validation_split=0.1,verbose=1)\n\u001b[0m",
      "\u001b[1;32m~\\Anaconda3\\envs\\dl_win_gpu\\lib\\site-packages\\keras\\engine\\training.py\u001b[0m in \u001b[0;36mfit\u001b[1;34m(self, x, y, batch_size, epochs, verbose, callbacks, validation_split, validation_data, shuffle, class_weight, sample_weight, initial_epoch, steps_per_epoch, validation_steps, **kwargs)\u001b[0m\n\u001b[0;32m   1037\u001b[0m                                         \u001b[0minitial_epoch\u001b[0m\u001b[1;33m=\u001b[0m\u001b[0minitial_epoch\u001b[0m\u001b[1;33m,\u001b[0m\u001b[1;33m\u001b[0m\u001b[1;33m\u001b[0m\u001b[0m\n\u001b[0;32m   1038\u001b[0m                                         \u001b[0msteps_per_epoch\u001b[0m\u001b[1;33m=\u001b[0m\u001b[0msteps_per_epoch\u001b[0m\u001b[1;33m,\u001b[0m\u001b[1;33m\u001b[0m\u001b[1;33m\u001b[0m\u001b[0m\n\u001b[1;32m-> 1039\u001b[1;33m                                         validation_steps=validation_steps)\n\u001b[0m\u001b[0;32m   1040\u001b[0m \u001b[1;33m\u001b[0m\u001b[0m\n\u001b[0;32m   1041\u001b[0m     def evaluate(self, x=None, y=None,\n",
      "\u001b[1;32m~\\Anaconda3\\envs\\dl_win_gpu\\lib\\site-packages\\keras\\engine\\training_arrays.py\u001b[0m in \u001b[0;36mfit_loop\u001b[1;34m(model, f, ins, out_labels, batch_size, epochs, verbose, callbacks, val_f, val_ins, shuffle, callback_metrics, initial_epoch, steps_per_epoch, validation_steps)\u001b[0m\n\u001b[0;32m    197\u001b[0m                     \u001b[0mins_batch\u001b[0m\u001b[1;33m[\u001b[0m\u001b[0mi\u001b[0m\u001b[1;33m]\u001b[0m \u001b[1;33m=\u001b[0m \u001b[0mins_batch\u001b[0m\u001b[1;33m[\u001b[0m\u001b[0mi\u001b[0m\u001b[1;33m]\u001b[0m\u001b[1;33m.\u001b[0m\u001b[0mtoarray\u001b[0m\u001b[1;33m(\u001b[0m\u001b[1;33m)\u001b[0m\u001b[1;33m\u001b[0m\u001b[1;33m\u001b[0m\u001b[0m\n\u001b[0;32m    198\u001b[0m \u001b[1;33m\u001b[0m\u001b[0m\n\u001b[1;32m--> 199\u001b[1;33m                 \u001b[0mouts\u001b[0m \u001b[1;33m=\u001b[0m \u001b[0mf\u001b[0m\u001b[1;33m(\u001b[0m\u001b[0mins_batch\u001b[0m\u001b[1;33m)\u001b[0m\u001b[1;33m\u001b[0m\u001b[1;33m\u001b[0m\u001b[0m\n\u001b[0m\u001b[0;32m    200\u001b[0m                 \u001b[0mouts\u001b[0m \u001b[1;33m=\u001b[0m \u001b[0mto_list\u001b[0m\u001b[1;33m(\u001b[0m\u001b[0mouts\u001b[0m\u001b[1;33m)\u001b[0m\u001b[1;33m\u001b[0m\u001b[1;33m\u001b[0m\u001b[0m\n\u001b[0;32m    201\u001b[0m                 \u001b[1;32mfor\u001b[0m \u001b[0ml\u001b[0m\u001b[1;33m,\u001b[0m \u001b[0mo\u001b[0m \u001b[1;32min\u001b[0m \u001b[0mzip\u001b[0m\u001b[1;33m(\u001b[0m\u001b[0mout_labels\u001b[0m\u001b[1;33m,\u001b[0m \u001b[0mouts\u001b[0m\u001b[1;33m)\u001b[0m\u001b[1;33m:\u001b[0m\u001b[1;33m\u001b[0m\u001b[1;33m\u001b[0m\u001b[0m\n",
      "\u001b[1;32m~\\Anaconda3\\envs\\dl_win_gpu\\lib\\site-packages\\keras\\backend\\tensorflow_backend.py\u001b[0m in \u001b[0;36m__call__\u001b[1;34m(self, inputs)\u001b[0m\n\u001b[0;32m   2713\u001b[0m                 \u001b[1;32mreturn\u001b[0m \u001b[0mself\u001b[0m\u001b[1;33m.\u001b[0m\u001b[0m_legacy_call\u001b[0m\u001b[1;33m(\u001b[0m\u001b[0minputs\u001b[0m\u001b[1;33m)\u001b[0m\u001b[1;33m\u001b[0m\u001b[1;33m\u001b[0m\u001b[0m\n\u001b[0;32m   2714\u001b[0m \u001b[1;33m\u001b[0m\u001b[0m\n\u001b[1;32m-> 2715\u001b[1;33m             \u001b[1;32mreturn\u001b[0m \u001b[0mself\u001b[0m\u001b[1;33m.\u001b[0m\u001b[0m_call\u001b[0m\u001b[1;33m(\u001b[0m\u001b[0minputs\u001b[0m\u001b[1;33m)\u001b[0m\u001b[1;33m\u001b[0m\u001b[1;33m\u001b[0m\u001b[0m\n\u001b[0m\u001b[0;32m   2716\u001b[0m         \u001b[1;32melse\u001b[0m\u001b[1;33m:\u001b[0m\u001b[1;33m\u001b[0m\u001b[1;33m\u001b[0m\u001b[0m\n\u001b[0;32m   2717\u001b[0m             \u001b[1;32mif\u001b[0m \u001b[0mpy_any\u001b[0m\u001b[1;33m(\u001b[0m\u001b[0mis_tensor\u001b[0m\u001b[1;33m(\u001b[0m\u001b[0mx\u001b[0m\u001b[1;33m)\u001b[0m \u001b[1;32mfor\u001b[0m \u001b[0mx\u001b[0m \u001b[1;32min\u001b[0m \u001b[0minputs\u001b[0m\u001b[1;33m)\u001b[0m\u001b[1;33m:\u001b[0m\u001b[1;33m\u001b[0m\u001b[1;33m\u001b[0m\u001b[0m\n",
      "\u001b[1;32m~\\Anaconda3\\envs\\dl_win_gpu\\lib\\site-packages\\keras\\backend\\tensorflow_backend.py\u001b[0m in \u001b[0;36m_call\u001b[1;34m(self, inputs)\u001b[0m\n\u001b[0;32m   2673\u001b[0m             \u001b[0mfetched\u001b[0m \u001b[1;33m=\u001b[0m \u001b[0mself\u001b[0m\u001b[1;33m.\u001b[0m\u001b[0m_callable_fn\u001b[0m\u001b[1;33m(\u001b[0m\u001b[1;33m*\u001b[0m\u001b[0marray_vals\u001b[0m\u001b[1;33m,\u001b[0m \u001b[0mrun_metadata\u001b[0m\u001b[1;33m=\u001b[0m\u001b[0mself\u001b[0m\u001b[1;33m.\u001b[0m\u001b[0mrun_metadata\u001b[0m\u001b[1;33m)\u001b[0m\u001b[1;33m\u001b[0m\u001b[1;33m\u001b[0m\u001b[0m\n\u001b[0;32m   2674\u001b[0m         \u001b[1;32melse\u001b[0m\u001b[1;33m:\u001b[0m\u001b[1;33m\u001b[0m\u001b[1;33m\u001b[0m\u001b[0m\n\u001b[1;32m-> 2675\u001b[1;33m             \u001b[0mfetched\u001b[0m \u001b[1;33m=\u001b[0m \u001b[0mself\u001b[0m\u001b[1;33m.\u001b[0m\u001b[0m_callable_fn\u001b[0m\u001b[1;33m(\u001b[0m\u001b[1;33m*\u001b[0m\u001b[0marray_vals\u001b[0m\u001b[1;33m)\u001b[0m\u001b[1;33m\u001b[0m\u001b[1;33m\u001b[0m\u001b[0m\n\u001b[0m\u001b[0;32m   2676\u001b[0m         \u001b[1;32mreturn\u001b[0m \u001b[0mfetched\u001b[0m\u001b[1;33m[\u001b[0m\u001b[1;33m:\u001b[0m\u001b[0mlen\u001b[0m\u001b[1;33m(\u001b[0m\u001b[0mself\u001b[0m\u001b[1;33m.\u001b[0m\u001b[0moutputs\u001b[0m\u001b[1;33m)\u001b[0m\u001b[1;33m]\u001b[0m\u001b[1;33m\u001b[0m\u001b[1;33m\u001b[0m\u001b[0m\n\u001b[0;32m   2677\u001b[0m \u001b[1;33m\u001b[0m\u001b[0m\n",
      "\u001b[1;32m~\\Anaconda3\\envs\\dl_win_gpu\\lib\\site-packages\\tensorflow\\python\\client\\session.py\u001b[0m in \u001b[0;36m__call__\u001b[1;34m(self, *args, **kwargs)\u001b[0m\n\u001b[0;32m   1437\u001b[0m           ret = tf_session.TF_SessionRunCallable(\n\u001b[0;32m   1438\u001b[0m               \u001b[0mself\u001b[0m\u001b[1;33m.\u001b[0m\u001b[0m_session\u001b[0m\u001b[1;33m.\u001b[0m\u001b[0m_session\u001b[0m\u001b[1;33m,\u001b[0m \u001b[0mself\u001b[0m\u001b[1;33m.\u001b[0m\u001b[0m_handle\u001b[0m\u001b[1;33m,\u001b[0m \u001b[0margs\u001b[0m\u001b[1;33m,\u001b[0m \u001b[0mstatus\u001b[0m\u001b[1;33m,\u001b[0m\u001b[1;33m\u001b[0m\u001b[1;33m\u001b[0m\u001b[0m\n\u001b[1;32m-> 1439\u001b[1;33m               run_metadata_ptr)\n\u001b[0m\u001b[0;32m   1440\u001b[0m         \u001b[1;32mif\u001b[0m \u001b[0mrun_metadata\u001b[0m\u001b[1;33m:\u001b[0m\u001b[1;33m\u001b[0m\u001b[1;33m\u001b[0m\u001b[0m\n\u001b[0;32m   1441\u001b[0m           \u001b[0mproto_data\u001b[0m \u001b[1;33m=\u001b[0m \u001b[0mtf_session\u001b[0m\u001b[1;33m.\u001b[0m\u001b[0mTF_GetBuffer\u001b[0m\u001b[1;33m(\u001b[0m\u001b[0mrun_metadata_ptr\u001b[0m\u001b[1;33m)\u001b[0m\u001b[1;33m\u001b[0m\u001b[1;33m\u001b[0m\u001b[0m\n",
      "\u001b[1;32m~\\Anaconda3\\envs\\dl_win_gpu\\lib\\site-packages\\tensorflow\\python\\framework\\errors_impl.py\u001b[0m in \u001b[0;36m__exit__\u001b[1;34m(self, type_arg, value_arg, traceback_arg)\u001b[0m\n\u001b[0;32m    526\u001b[0m             \u001b[1;32mNone\u001b[0m\u001b[1;33m,\u001b[0m \u001b[1;32mNone\u001b[0m\u001b[1;33m,\u001b[0m\u001b[1;33m\u001b[0m\u001b[1;33m\u001b[0m\u001b[0m\n\u001b[0;32m    527\u001b[0m             \u001b[0mcompat\u001b[0m\u001b[1;33m.\u001b[0m\u001b[0mas_text\u001b[0m\u001b[1;33m(\u001b[0m\u001b[0mc_api\u001b[0m\u001b[1;33m.\u001b[0m\u001b[0mTF_Message\u001b[0m\u001b[1;33m(\u001b[0m\u001b[0mself\u001b[0m\u001b[1;33m.\u001b[0m\u001b[0mstatus\u001b[0m\u001b[1;33m.\u001b[0m\u001b[0mstatus\u001b[0m\u001b[1;33m)\u001b[0m\u001b[1;33m)\u001b[0m\u001b[1;33m,\u001b[0m\u001b[1;33m\u001b[0m\u001b[1;33m\u001b[0m\u001b[0m\n\u001b[1;32m--> 528\u001b[1;33m             c_api.TF_GetCode(self.status.status))\n\u001b[0m\u001b[0;32m    529\u001b[0m     \u001b[1;31m# Delete the underlying status object from memory otherwise it stays alive\u001b[0m\u001b[1;33m\u001b[0m\u001b[1;33m\u001b[0m\u001b[1;33m\u001b[0m\u001b[0m\n\u001b[0;32m    530\u001b[0m     \u001b[1;31m# as there is a reference to status from this from the traceback due to\u001b[0m\u001b[1;33m\u001b[0m\u001b[1;33m\u001b[0m\u001b[1;33m\u001b[0m\u001b[0m\n",
      "\u001b[1;31mInternalError\u001b[0m: Blas GEMV launch failed:  m=1, n=32\n\t [[{{node w/MatMul}} = MatMul[T=DT_FLOAT, transpose_a=false, transpose_b=false, _device=\"/job:localhost/replica:0/task:0/device:GPU:0\"](_arg_input_0_0/_37, w/kernel/read)]]\n\t [[{{node loss/mul/_55}} = _Recv[client_terminated=false, recv_device=\"/job:localhost/replica:0/task:0/device:CPU:0\", send_device=\"/job:localhost/replica:0/task:0/device:GPU:0\", send_device_incarnation=1, tensor_name=\"edge_463_loss/mul\", tensor_type=DT_FLOAT, _device=\"/job:localhost/replica:0/task:0/device:CPU:0\"]()]]"
     ]
    }
   ],
   "source": [
    "history = model.fit(X_train.reshape(-1,1), \n",
    "          np.repeat(y_train.reshape(-1,1),2,axis=1), \n",
    "          epochs=1000, validation_split=0.1,verbose=1)"
   ]
  },
  {
   "cell_type": "markdown",
   "metadata": {},
   "source": [
    "Make the predictions and visualize the results:"
   ]
  },
  {
   "cell_type": "code",
   "execution_count": null,
   "metadata": {},
   "outputs": [],
   "source": [
    "X_test = np.arange(low,high,0.01).reshape(-1,1)\n",
    "y_test = f(X_test) + np.random.normal(\n",
    "    0,std,size=(X_test.shape[0])).reshape(-1,1)\n",
    "\n",
    "prediction = model.predict(X_test)\n",
    "\n",
    "plt.errorbar(X_test,prediction[:,0],\n",
    "             yerr=2*prediction[:,1],\n",
    "             color='#0A5FB4',\n",
    "             alpha=0.8,\n",
    "             label='prediction')\n",
    "\n",
    "plt.plot(X_test, y_test,'x',c='r',\n",
    "         alpha=0.8, label='real generated data')\n",
    "\n",
    "plt.legend()\n",
    "\n",
    "plt.show()"
   ]
  },
  {
   "cell_type": "markdown",
   "metadata": {},
   "source": [
    "## Variable noise\n",
    "\n",
    "Let's now assume that our noise is not constant but a function of x:\n",
    "\n",
    "$$y = f(x) + \\epsilon(x)$$"
   ]
  },
  {
   "cell_type": "markdown",
   "metadata": {},
   "source": [
    "As before, generate the data according to this new condition:"
   ]
  },
  {
   "cell_type": "code",
   "execution_count": null,
   "metadata": {},
   "outputs": [],
   "source": [
    "std = 0.4\n",
    "epsilon = np.random.normal(0,std,size=(points))\n",
    "\n",
    "y_train = f(X_train)+epsilon+[np.random.normal(0,i) for i in (np.sin(X_train*-10))+1]\n",
    "\n",
    "plt.plot(X_train,y_train,'o',\n",
    "         c='#072146',label='real generated data')\n",
    "plt.legend()\n",
    "plt.show()"
   ]
  },
  {
   "cell_type": "markdown",
   "metadata": {},
   "source": [
    "Now, we have $$y = \\phi_w (x) + \\psi_v (x)$$\n",
    "\n",
    "$$ p(y \\mid x, w, v) = \\mathcal{N}(y \\mid \\phi_w(x), \\psi_v^2(x))=$$\n",
    "            $$= \\frac{1}{\\sqrt{2\\pi \\psi_v(x)^2}} e^{-\\frac{(y-\\phi_w (x))^2}{2\\psi_v(x)^2}}$$\n",
    "\n",
    "i.e. We estimate a variability of $y_i$ for every data point $x_i$ "
   ]
  },
  {
   "cell_type": "markdown",
   "metadata": {},
   "source": [
    "Train the new regression model:"
   ]
  },
  {
   "cell_type": "code",
   "execution_count": null,
   "metadata": {},
   "outputs": [],
   "source": [
    "i = Input(name='input', shape=(1,), dtype='float32')\n",
    "\n",
    "phi = Dense(units=1, activation=\"linear\", \n",
    "            name='w',\n",
    "            kernel_initializer='ones')(i)\n",
    "\n",
    "psi = Dense(units=12, activation=\"sigmoid\", \n",
    "            name='v_0')(i)\n",
    "psi = Dense(units=6, activation=\"sigmoid\", \n",
    "            name='v_1')(psi)\n",
    "psi = Dense(units=1, activation=elu_plus1, \n",
    "            name='v_2')(psi)\n",
    "\n",
    "model = Model(\n",
    "    inputs=[i],\n",
    "    outputs=[concatenate([phi,psi],  \n",
    "                         axis=1, \n",
    "                         name='main_output')])\n",
    "\n",
    "opt = Adam(lr=0.01)\n",
    "model.compile(optimizer=opt, loss={'main_output':regression})"
   ]
  },
  {
   "cell_type": "code",
   "execution_count": null,
   "metadata": {},
   "outputs": [],
   "source": [
    "history = model.fit(X_train.reshape(-1,1), \n",
    "          np.repeat(y_train.reshape(-1,1),2,axis=1), \n",
    "          epochs=10000, validation_split=0.1,verbose=1)"
   ]
  },
  {
   "cell_type": "markdown",
   "metadata": {},
   "source": [
    "Predict and visualize the results. Have we catched the heteroscedastic uncertainty?"
   ]
  },
  {
   "cell_type": "code",
   "execution_count": null,
   "metadata": {},
   "outputs": [],
   "source": [
    "X_test = np.arange(low,high,0.01).reshape(-1,1)\n",
    "y_test = f(X_test) + np.random.normal(\n",
    "    0,std,size=(X_test.shape[0])).reshape(-1,1)+[\n",
    "    np.random.normal(0,i) for i in (np.sin(X_test*-10))+1]\n",
    "\n",
    "prediction = model.predict(X_test)\n",
    "\n",
    "plt.errorbar(X_test,prediction[:,0],\n",
    "             yerr=2*prediction[:,1],\n",
    "             color='#0A5FB4',\n",
    "             alpha=0.8,\n",
    "             label='prediction')\n",
    "\n",
    "plt.plot(X_test, y_test,'x',c='r',\n",
    "         alpha=0.8, label='real generated data')\n",
    "\n",
    "plt.legend()\n",
    "\n",
    "plt.show()"
   ]
  },
  {
   "cell_type": "markdown",
   "metadata": {},
   "source": [
    "## Dealing with the Epistemic uncertainty"
   ]
  },
  {
   "cell_type": "markdown",
   "metadata": {},
   "source": [
    "Inside the *uncertainty quantification* field there is an approach that classifies uncertainty in two different categories:\n",
    "\n",
    "1. Aleatoric Uncertainty: If there exists a variability in our possible correct predictions for the same initial inputs (see previous section).\n",
    "\n",
    "2. Epistemic Uncertainty: related to our ignorance:\n",
    "\n",
    "     2.1. We are not using the correct model ϕw to approximate the hyphothetical function f\n",
    "     \n",
    "     2.2. Our incomplete knowledge of the types of data that exists.\n",
    "\n",
    "There are different techniques in the literature for modeling the epistemic uncertainty. Here, we will cover the MCMC approach using tensorflow and the tensorflow_probability library"
   ]
  },
  {
   "cell_type": "markdown",
   "metadata": {},
   "source": [
    "**Problem**. Consider a data set $\\{(\\mathbf{x}_n, y_n)\\}$, where each data point comprises of features $\\mathbf{x}_n\\in\\mathbb{R}^D$ and output $y_n\\in\\mathbb{R}$. Define the likelihood for each data point as $$\\begin{aligned} p(y_n \\mid \\mathbf{w}, \\mathbf{x}_n, \\sigma^2) &= \\text{Normal}(y_n \\mid \\mathrm{NN}(\\mathbf{x}_n\\;;\\;\\mathbf{w}), \\sigma^2),\\end{aligned}$$\n",
    "\n",
    "where $\\mathrm{NN}$ is a neural network whose weights and biases form the latent variables $\\mathbf{w}$. Assume $\\sigma^2$ is a known variance.\n",
    "\n",
    "Define the prior on the weights and biases $\\mathbf{w}$ to be the standard normal $$\\begin{aligned} p(\\mathbf{w}) &= \\text{Normal}(\\mathbf{w} \\mid \\mathbf{0}, \\mathbf{I}).\\end{aligned}$$\n",
    "\n",
    "The question here is: how these parameters (now random variables) are distributed (~posterior distribution)? Could you give an estimation of these variables?\n"
   ]
  },
  {
   "cell_type": "markdown",
   "metadata": {},
   "source": [
    "#### Solving the inference problem using MCMC"
   ]
  },
  {
   "cell_type": "markdown",
   "metadata": {},
   "source": [
    "As we noted in the introduction of this notebook, for most practical problems of interest exact inference is hard or can not be performed analytically. That is why some form of approximation need to be done. \n",
    "\n",
    "In this section we consider approximate inference methods based of numerical sampling to get the distribution of the latent variables.\n",
    "The main idea behing MCMC is to generate samples from the posterior distribution by constructing a reversible Markov-chain that has as its equilibrium distribution the target posterior distribution. In essence, MCMC will allow us finding the expectation of some function with repect to a probability distribution -- for instance, mean and variance of the latent variables.\n"
   ]
  },
  {
   "cell_type": "markdown",
   "metadata": {},
   "source": [
    "Ex. Using the Hamiltonian Monte Carlo `tfp.mcmc.HamiltonianMonteCarlo` method estimate the weights and biases of a linear regression problem.\n",
    "\n",
    "Use as data:"
   ]
  },
  {
   "cell_type": "code",
   "execution_count": null,
   "metadata": {},
   "outputs": [],
   "source": [
    "def build_toy_dataset(N, w, noise_std=0.1):\n",
    "    x = np.random.randn(N)\n",
    "    y = x * w + np.random.normal(0, noise_std, size=N)\n",
    "    return x, y\n",
    "\n",
    "N = 40  # number of data points\n",
    "D = 1  # number of features\n",
    "\n",
    "w_true = np.random.randn()\n",
    "X_train, y_train = build_toy_dataset(N, w_true)\n",
    "X_test, y_test = build_toy_dataset(N, w_true)"
   ]
  },
  {
   "cell_type": "markdown",
   "metadata": {},
   "source": [
    "Define the linear model:"
   ]
  },
  {
   "cell_type": "code",
   "execution_count": null,
   "metadata": {},
   "outputs": [],
   "source": [
    "import tensorflow as tf\n",
    "import tensorflow_probability as tfp\n",
    "from tensorflow_probability import edward2 as ed\n",
    "\n",
    "#tf.reset_default_graph()\n",
    "\n",
    "def linear_model(x_data=X_train):\n",
    "    A = ed.Normal(loc=0., scale=10., name=\"A\")  \n",
    "    b = ed.Normal(loc=0., scale=10., name=\"b\")  \n",
    "    mu = A * x_data + b\n",
    "    y_data = ed.Normal(loc=mu, scale=tf.ones(N), name=\"y_data\")  # `y` above\n",
    "    return y_data\n"
   ]
  },
  {
   "cell_type": "markdown",
   "metadata": {},
   "source": [
    "Compute the log-joint probability function using `ed.make_log_joint_fn`, and implements MCMC with the `tfp.mcmc.sample_chain` method:"
   ]
  },
  {
   "cell_type": "code",
   "execution_count": null,
   "metadata": {},
   "outputs": [],
   "source": [
    "log_joint = ed.make_log_joint_fn(linear_model)\n",
    "\n",
    "\n",
    "def target_log_prob_fn(A, b):\n",
    "    return log_joint(\n",
    "      x_data=X_train,\n",
    "      A=A,\n",
    "      b=b,\n",
    "      y_data=y_train)\n",
    "\n",
    "\n",
    "num_results = 5000\n",
    "num_burnin_steps = 3000\n",
    "\n",
    "states, kernel_results = tfp.mcmc.sample_chain(\n",
    "    num_results=num_results,\n",
    "    num_burnin_steps=num_burnin_steps,\n",
    "    current_state=[\n",
    "        tf.zeros([], name='init_A'),\n",
    "        tf.zeros([], name='init_b'),\n",
    "    ],\n",
    "    kernel=tfp.mcmc.HamiltonianMonteCarlo(\n",
    "        target_log_prob_fn=target_log_prob_fn,\n",
    "        step_size=0.008,\n",
    "        num_leapfrog_steps=5))\n",
    "\n",
    "A, b = states"
   ]
  },
  {
   "cell_type": "code",
   "execution_count": null,
   "metadata": {
    "scrolled": true
   },
   "outputs": [],
   "source": [
    "sess = tf.Session()\n",
    "\n",
    "[A_mcmc, b_mcmc] = sess.run([A, b])\n",
    "\n",
    "print(\"A Coefficient: \", A_mcmc.mean(), '+-', A_mcmc.var()  \n",
    "      , \"\\nb Coefficient: \", b_mcmc.mean(), '+-', b_mcmc.var() )\n",
    "\n",
    "def visualise(X_train, y_train, X_test, y_test, w, b, n_samples=10):\n",
    "    plt.scatter(X_train, y_train)\n",
    "    plt.scatter(X_test, y_test)\n",
    "    inputs = np.linspace(min(X_train.min(), X_test.min()),\n",
    "                         max(X_train.max(), X_test.max()), \n",
    "                         num=400)\n",
    "    for ns in range(n_samples):\n",
    "        #output = inputs * w[ns] + b[ns]\n",
    "        output = inputs * w.mean() + b.mean()\n",
    "        plt.plot(inputs, np.random.normal(output), 'r+')\n",
    "        \n",
    "visualise(X_train, y_train, X_test, y_test, A_mcmc, b_mcmc, n_samples=1)"
   ]
  },
  {
   "cell_type": "markdown",
   "metadata": {},
   "source": [
    "#### Variational Inference"
   ]
  },
  {
   "cell_type": "markdown",
   "metadata": {},
   "source": [
    "Another approach for solving the inference problem at hand is the Variational inference one. In this approach, the density function is estimated by choosing a distribution we know (eg. Gaussian) and progressively changing its parameters via optimization until it looks like the one we want to compute, the posterior. \n",
    "This “made-up” distribution we are optimizing is called variational distribution. \n",
    "\n",
    "Ex. Derive mathematically the equivalence between choosing the optimal parameters for the variational distribution and maximizing a lower bound"
   ]
  },
  {
   "cell_type": "markdown",
   "metadata": {},
   "source": [
    "#### Dropout "
   ]
  },
  {
   "cell_type": "markdown",
   "metadata": {},
   "source": [
    "Dropout (Hinton et al) is a technique used to avoid over-fitting in our model. In essence, dropout technique zeros out neurons randomly according to a Bernoulli distribution. \n",
    "\n",
    "In the context of Bayesian Deep Learning, dropout can be seen as a Gaussian process approximation. In order to get uncertainty estimates from dropout, we just have to apply it both when performing training and prediction steps.\n",
    "\n",
    "Predictive mean and variance can be obtained from the following equations:\n",
    "\n",
    "$$ \\mathbb{E}(y) \\sim \\frac{1}{T} \\sum_{t=0}^{t=T} \\hat{y}_t (x)$$\n",
    "\n",
    "$$ Var(y) \\sim \\tau^{-1} \\mathbb{I}_D + \\frac{1}{T} \\sum_{t=0}^{t=T} \\hat{y}_t (x)^T \\hat{y}_t (x) - \\mathbb{E}(y)^T\\mathbb{E}(y)$$\n",
    "\n",
    "where $\\hat{y}_t$ are the predictions and \n",
    "\n",
    "$$\\tau = \\frac{l^2 p}{2N\\lambda}$$\n",
    "\n",
    "summarizes our Gaussian process precision, with $l$ a prior length-scale that captures our belief over the function frequency, $p$ the probability of the units not being dropped, $N$ the number of points and $\\lambda$ the weight decay parameter.\n",
    "\n",
    "Let's see how to apply all these concepts taken our cosine regression problem (seen in the first classes of the course) as an example:"
   ]
  },
  {
   "cell_type": "markdown",
   "metadata": {},
   "source": [
    "Ex: Implement $\\tau$ parameter:"
   ]
  },
  {
   "cell_type": "code",
   "execution_count": null,
   "metadata": {},
   "outputs": [],
   "source": [
    "def tau(l, p, N, weight_decay):\n",
    "    return l**2 * (1 - p) / (2 * N * weight_decay)"
   ]
  },
  {
   "cell_type": "code",
   "execution_count": null,
   "metadata": {
    "scrolled": true
   },
   "outputs": [],
   "source": [
    "import numpy as np\n",
    "from keras import layers\n",
    "from keras import optimizers\n",
    "from keras import losses\n",
    "from keras import metrics\n",
    "\n",
    "f = lambda x: np.cos(x)\n",
    "x_train = np.linspace(-2*np.pi, 1.5*np.pi,10000)\n",
    "y_train = f(x_train)\n",
    "\n",
    "x_test = np.linspace(1.505*np.pi,2.5*np.pi,50)\n",
    "y_test = f(x_test)\n",
    "\n",
    "x_train_norm = (x_train-x_train.mean())/(x_train.std())\n",
    "y_train_norm = (y_train-y_train.mean())/(y_train.std())\n",
    "\n",
    "plt.plot(x_train, y_train, 'r')"
   ]
  },
  {
   "cell_type": "code",
   "execution_count": null,
   "metadata": {},
   "outputs": [],
   "source": [
    "i = Input(name=\"input\", shape=(1,), dtype='float32')\n",
    "l = layers.Dense(32, input_shape=(1,), activation='relu')(i)\n",
    "l = layers.BatchNormalization()(l)\n",
    "l = layers.Dropout(0.3)(l, training=True)\n",
    "l = layers.Dense(32, activation='relu')(l)\n",
    "l = layers.BatchNormalization()(l)\n",
    "l = layers.Dropout(0.3)(l, training=True)\n",
    "l = layers.Dense(32, activation='relu')(l)\n",
    "l = layers.BatchNormalization()(l)\n",
    "l = layers.Dropout(0.7)(l, training=True)\n",
    "out = layers.Dense(1, activation='tanh')(l)\n",
    "\n",
    "m = Model(inputs=[i], outputs=out)\n",
    "\n",
    "m.compile(optimizer=optimizers.rmsprop(), loss=losses.mean_squared_error)\n",
    "\n",
    "h = m.fit(x_train_norm, y_train_norm, batch_size=128, epochs=10, validation_split=.2)\n"
   ]
  },
  {
   "cell_type": "code",
   "execution_count": null,
   "metadata": {},
   "outputs": [],
   "source": [
    "probs = []\n",
    "for _ in range(100):\n",
    "    probs += [m.predict(x_train_norm)]\n",
    "predictive_mean = np.mean(probs, axis=0)\n",
    "predictive_variance = np.var(probs, axis=0)\n",
    "#t = tau(l, p, N, weight_decay)\n",
    "#predictive_variance += tau**-1\n",
    "plt.plot(x_train_norm, y_train_norm, 'r')\n",
    "\n",
    "plt.errorbar(x_train_norm, predictive_mean,\n",
    "             yerr=2*predictive_variance,\n",
    "             color='#0A5FB4',\n",
    "             alpha=0.8,\n",
    "             label='prediction')\n",
    "\n",
    "\n",
    "plt.legend()\n",
    "\n",
    "plt.show()"
   ]
  },
  {
   "cell_type": "markdown",
   "metadata": {},
   "source": [
    "Run the session, get the mean values of the weight and the bias and visualize the results:"
   ]
  },
  {
   "cell_type": "markdown",
   "metadata": {},
   "source": [
    "## References\n",
    "\n",
    "https://medium.com/@joeDiHare/deep-bayesian-neural-networks-952763a9537\n",
    "\n",
    "http://pyro.ai/examples/bayesian_regression.html\n",
    "\n",
    "http://edwardlib.org/tutorials/supervised-regression\n",
    "\n",
    "https://docs.pymc.io/notebooks/bayesian_neural_network_advi.html\n",
    "\n",
    "https://medium.com/tensorflow/introducing-tensorflow-probability-dca4c304e245\n",
    "\n",
    "https://github.com/arturzeitler/Bayes-and-MC/blob/master/Bayesian_NN_Example.ipynb\n",
    "\n",
    "https://arxiv.org/pdf/1610.09787.pdf"
   ]
  },
  {
   "cell_type": "code",
   "execution_count": null,
   "metadata": {},
   "outputs": [],
   "source": []
  }
 ],
 "metadata": {
  "kernelspec": {
   "display_name": "Python [conda env:dl_win_gpu]",
   "language": "python",
   "name": "conda-env-dl_win_gpu-py"
  },
  "language_info": {
   "codemirror_mode": {
    "name": "ipython",
    "version": 3
   },
   "file_extension": ".py",
   "mimetype": "text/x-python",
   "name": "python",
   "nbconvert_exporter": "python",
   "pygments_lexer": "ipython3",
   "version": "3.6.7"
  }
 },
 "nbformat": 4,
 "nbformat_minor": 2
}
