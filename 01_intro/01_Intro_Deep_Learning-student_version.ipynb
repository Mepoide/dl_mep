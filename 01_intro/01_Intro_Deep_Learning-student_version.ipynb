{
 "cells": [
  {
   "cell_type": "markdown",
   "metadata": {},
   "source": [
    "# Introduction to Neural Networks and Deep Learning"
   ]
  },
  {
   "cell_type": "markdown",
   "metadata": {},
   "source": [
    "## What's the difference between Artificial Intelligence, Machine Learning and Deep Learning?\n",
    "\n",
    "**Artificial Intelligence** (AI) is a very old field of research. It started in the 1950s; at that time, the pioneers in AI were convinced that they could make machines think. The initial approach was attempting to model intellectual tasks, and program those tasks in computers. That is, in the beginning, AI was about people *hard-coding* problems that the machine tried to solve. A good example of an early AI program is computer chess. Early AI computer chess programs had **lots of rules pre-conceived by the program designers**. So although the term refers to \"intelligence\", these programs were not \"intelligent\", but just a sophisticated set of rules.\n",
    "\n",
    "* The term *neural network* was also born at that time. The initial idea was trying to mimic how a *neuron* works (or in fact, how it was thought a neuron worked when the term was coined) in the brain. As in the case of *Artificial Intelligence*, please do not be fooled by the terms. A *neural network* is just a way to compute approximation to functions. A powerful and useful way, true. But it is not any kind of \"artificial brain\", or anything like that.\n",
    "\n",
    "This approach is now obsolete. We now know that some tasks are so complex, that we will never be able to pre-design a system to have a good performance on those tasks. Take the example of the game of Go. Any program designed by humans to play Go was dull and could not compete against professional players. The game is so hard that is just impossible for us as humans to conceived a good Go computer player.\n",
    "* https://en.wikipedia.org/wiki/Go_(game)\n",
    "\n",
    "The modern approach to solve this kind of problems involves the use of data. This is what the *learning* part of *Deep Learning* (and *Machine Learning*) refers to. **Learning from data**. So, with this brief introduction, we can say that *Artificial Intelligence* is a broad concept that includes *Machine Learning*, that includes *Deep Learning*. *Artificial Intelligence* does not necessarily means learning from data, but Machine Learning does. And *Deep Learning* is just doing *Machine Learning* with neural networks.\n",
    "\n",
    "![](imgs/01_ai_ml_dl.png)\n",
    "\n",
    "We will see during this course what *learning* means, and what is a *neural network*. \n",
    "\n",
    "In the case of the game of Go, all attempts to design a good Go computer player failed, until Google DeepMind created AlphaGo, a system that *learned* to play Go based on data from previous games. AlphaGo is an example that learning from data can provide computer systems that are superior to any system pre-conceived by humans.\n",
    "* Find out more about AlphaGo by watching this utterly interesting movie: https://www.alphagomovie.com/\n",
    "\n",
    "In this course, we will give our first steps on *Deep Learning* and *Neural Networks*, to start creating systems that perform complex tasks by learning from data. Instead of attempting to derive the rules by ourselves, those rules will be inferred by a neural network based on the data we provide:\n",
    "\n",
    "![](imgs/02_rules_data.png)"
   ]
  },
  {
   "cell_type": "markdown",
   "metadata": {},
   "source": [
    "## Neural Networks\n",
    "\n",
    "A neural network is just a stacked set of layers. Each layer is represented by a tensor, and it performs an affine transformation on each one of the layers.\n",
    "* A matrix is a 2D tensor\n",
    "* Affine transformation $\\vec{y} = W\\cdot\\vec{x} + \\vec{b}$, where $W$ is the weights tensor, $\\vec{x}$ is the input data, $\\vec{y}$ is the output data and $\\vec{b}$ is called the bias\n",
    "* $W$ and $\\vec{b}$ are model parameters that need to be found by training\n",
    "\n",
    "![](imgs/05_nn.png)\n",
    "\n",
    "Note that this is a **linear operation**, therefore the result will be linear too. But the functions we want to learn are normally non-linear. How do we overcome this limiation? By using an **activation function**, that transforms the result from the linear operation. So, we actually do the following operation:\n",
    "\n",
    "$\\vec{y} = f\\left(W\\cdot\\vec{x} + \\vec{b}\\right)$\n",
    "\n",
    "There are several common activation functions, depending on the characteristics of the data and the kind of problem we want to solve. Here we will use the probably most often used activation function: **rectified linear unit**, or **relu** for friends:\n",
    "\n",
    "![Relu plot](https://upload.wikimedia.org/wikipedia/commons/6/6c/Rectifier_and_softplus_functions.svg)\n",
    "\n",
    "(image extracted from https://en.wikipedia.org/wiki/Rectifier_(neural_networks))\n",
    "\n",
    "Relu will add the non-linearity that we need to learn arbitrary functions.\n",
    "\n",
    "We can achieve the same with many other activation functions. See the documentation of Keras for details on the available activation functions:\n",
    " - https://keras.io/activations/\n",
    "\n",
    "\n",
    "Each layer learns a new representation of the input data, and after several layers, the representation will make it straightforward to solve the task (e.g. assiging a digit to an image of a digit).\n",
    "\n",
    "Until very recently, any attempt to train a deep neural network would not provide good results. Recent progresses (e.g. advances in hardware, new activation functions) make it possible to train very deep network, and therefore, solve problems that were unfeasible not long ago.\n",
    "\n",
    "### Training process\n",
    "\n",
    "The parameters of the network are initially randomly assigned. Then after each pass of the network, that is, after each *epoch*, the predictions of the network is compared against the true values, applying a *loss function*. This score is used to update the parameters of the network, with a process called **backpropagation**.\n",
    "* Backpropagation is a complex process that involves calculating the gradient of the parameters of the network. For more details see: https://en.wikipedia.org/wiki/Backpropagation\n",
    "* See also this excellent and visual explanation of how backpropagation works: https://google-developers.appspot.com/machine-learning/crash-course/backprop-scroll/\n",
    "\n",
    "The training process is just an optimization process, that is normally done using a gradient descent-based algorithm. The values of gradients are computed using the backpropagation algorithm. Each epoch will make the loss score to be lower, and the predictions to be better.\n",
    "\n",
    "![](imgs/06_optim.png)\n",
    "\n",
    "In practice, we have to fine tune the number of epochs (and other parameters), until we obtain a result that is good enough for our purpose. In fact, if the number of epochs is too high, our model may **overfit** the training data. In that case, it will perform worsely when the model is exposed to data that it  has not seen previously.\n",
    "* Fine tuning the number of epochs, and other parameters (e.g. the number and shape of the layers) is known as **hyperparameters optimization**, or **hyperparameters tuning**\n",
    "* The parameters of the model are the $W$ and $b$ values of each layer, and those are determined by training.\n",
    "\n",
    "## Hyperparameters tuning\n",
    "\n",
    "In summary, when we are trying to obtain a deep learning model, the process that we will follow is:\n",
    "* Decide on the architecture of the network (number of layers, type of each layer, size of each layer)\n",
    "* Decide on the activation functions on each layer\n",
    "* Decide on the parameters related to the optimization process (e.g. learning rate)\n",
    "* Decide on the loss function that we will use\n",
    "* Decide on the metrics that we will use to evaluate the performance of the model\n",
    "* Decide on the training parameters (number of epochs, batch size)\n",
    "* Decide on how to split the data between training, validation and test sets.\n",
    "\n",
    "We obtain feedback for those decisions with the results of the training applied to the validation set. We train once, change some of the hyperparameters, train again, decide if that's better, and we keep going until we have found a model that is satisfactory enough for our purposes.\n",
    "\n",
    "After that, we finally evaluate the model on the test set."
   ]
  },
  {
   "cell_type": "markdown",
   "metadata": {},
   "source": [
    "## Our first neural network\n",
    "\n",
    "Let's start with an easy example. We are going to produce some synthetic data, and will try to predict the function that generates the data. We will add some noise, to make the problem more difficult.\n",
    "\n",
    "The function we are going to try to predict is\n",
    "\n",
    "$\\displaystyle y = 3*x + 2$"
   ]
  },
  {
   "cell_type": "code",
   "execution_count": 1,
   "metadata": {},
   "outputs": [
    {
     "name": "stdout",
     "output_type": "stream",
     "text": [
      "Populating the interactive namespace from numpy and matplotlib\n"
     ]
    }
   ],
   "source": [
    "# Here goes the fun =)\n",
    "%pylab inline\n",
    "plt.style.use('seaborn-talk')"
   ]
  },
  {
   "cell_type": "code",
   "execution_count": 182,
   "metadata": {},
   "outputs": [],
   "source": [
    "x_train = np.linspace(0,100,5000)\n",
    "y_train = 3*x_train + 2"
   ]
  },
  {
   "cell_type": "code",
   "execution_count": 183,
   "metadata": {},
   "outputs": [
    {
     "data": {
      "image/png": "[encoded data removed]",
      "text/plain": [
       "<Figure size 432x288 with 1 Axes>"
      ]
     },
     "metadata": {
      "needs_background": "light"
     },
     "output_type": "display_data"
    }
   ],
   "source": [
    "plt.plot(x_train, y_train, 'b')\n",
    "plt.show()"
   ]
  },
  {
   "cell_type": "code",
   "execution_count": 184,
   "metadata": {},
   "outputs": [],
   "source": [
    "import keras"
   ]
  },
  {
   "cell_type": "code",
   "execution_count": 185,
   "metadata": {},
   "outputs": [],
   "source": [
    "from keras import models\n",
    "from keras import layers"
   ]
  },
  {
   "cell_type": "code",
   "execution_count": 197,
   "metadata": {},
   "outputs": [],
   "source": [
    "m = models.Sequential()\n",
    "m.add(layers.Dense(8, input_shape=(1, ), activation='elu'))\n",
    "m.add(layers.Dense(16, activation='elu'))\n",
    "m.add(layers.Dense(16, activation='elu'))\n",
    "m.add(layers.Dense(16, activation='elu'))\n",
    "m.add(layers.Dense(16, activation='elu'))\n",
    "m.add(layers.Dense(16, activation='elu'))\n",
    "m.add(layers.Dense(16, activation='elu'))\n",
    "m.add(layers.Dense(16, activation='elu'))\n",
    "m.add(layers.Dense(16, activation='elu'))\n",
    "m.add(layers.Dense(1, activation='elu'))"
   ]
  },
  {
   "cell_type": "code",
   "execution_count": 198,
   "metadata": {},
   "outputs": [
    {
     "name": "stdout",
     "output_type": "stream",
     "text": [
      "_________________________________________________________________\n",
      "Layer (type)                 Output Shape              Param #   \n",
      "=================================================================\n",
      "dense_96 (Dense)             (None, 8)                 16        \n",
      "_________________________________________________________________\n",
      "dense_97 (Dense)             (None, 16)                144       \n",
      "_________________________________________________________________\n",
      "dense_98 (Dense)             (None, 16)                272       \n",
      "_________________________________________________________________\n",
      "dense_99 (Dense)             (None, 16)                272       \n",
      "_________________________________________________________________\n",
      "dense_100 (Dense)            (None, 16)                272       \n",
      "_________________________________________________________________\n",
      "dense_101 (Dense)            (None, 16)                272       \n",
      "_________________________________________________________________\n",
      "dense_102 (Dense)            (None, 16)                272       \n",
      "_________________________________________________________________\n",
      "dense_103 (Dense)            (None, 16)                272       \n",
      "_________________________________________________________________\n",
      "dense_104 (Dense)            (None, 16)                272       \n",
      "_________________________________________________________________\n",
      "dense_105 (Dense)            (None, 1)                 17        \n",
      "=================================================================\n",
      "Total params: 2,081\n",
      "Trainable params: 2,081\n",
      "Non-trainable params: 0\n",
      "_________________________________________________________________\n"
     ]
    }
   ],
   "source": [
    "m.summary()"
   ]
  },
  {
   "cell_type": "code",
   "execution_count": 199,
   "metadata": {},
   "outputs": [],
   "source": [
    "from keras import optimizers\n",
    "from keras import losses\n",
    "from keras import metrics"
   ]
  },
  {
   "cell_type": "code",
   "execution_count": 200,
   "metadata": {},
   "outputs": [],
   "source": [
    "m.compile(optimizer=optimizers.rmsprop(), loss=losses.mean_squared_error)"
   ]
  },
  {
   "cell_type": "code",
   "execution_count": 201,
   "metadata": {
    "scrolled": true
   },
   "outputs": [
    {
     "name": "stdout",
     "output_type": "stream",
     "text": [
      "Train on 4000 samples, validate on 1000 samples\n",
      "Epoch 1/50\n",
      "4000/4000 [==============================] - 1s 210us/step - loss: 13624.8185 - val_loss: 11447.2326\n",
      "Epoch 2/50\n",
      "4000/4000 [==============================] - 0s 17us/step - loss: 287.0851 - val_loss: 113.2797\n",
      "Epoch 3/50\n",
      "4000/4000 [==============================] - 0s 16us/step - loss: 22.3722 - val_loss: 136.5301\n",
      "Epoch 4/50\n",
      "4000/4000 [==============================] - 0s 16us/step - loss: 16.6765 - val_loss: 48.7184\n",
      "Epoch 5/50\n",
      "4000/4000 [==============================] - 0s 12us/step - loss: 15.8969 - val_loss: 147.0829\n",
      "Epoch 6/50\n",
      "4000/4000 [==============================] - 0s 21us/step - loss: 15.4874 - val_loss: 83.9524\n",
      "Epoch 7/50\n",
      "4000/4000 [==============================] - 0s 12us/step - loss: 12.9465 - val_loss: 95.8393\n",
      "Epoch 8/50\n",
      "4000/4000 [==============================] - 0s 20us/step - loss: 14.5762 - val_loss: 35.1847\n",
      "Epoch 9/50\n",
      "4000/4000 [==============================] - 0s 17us/step - loss: 14.1637 - val_loss: 116.8874\n",
      "Epoch 10/50\n",
      "4000/4000 [==============================] - 0s 14us/step - loss: 13.6704 - val_loss: 86.0316\n",
      "Epoch 11/50\n",
      "4000/4000 [==============================] - 0s 14us/step - loss: 11.4237 - val_loss: 71.8756\n",
      "Epoch 12/50\n",
      "4000/4000 [==============================] - 0s 14us/step - loss: 14.9611 - val_loss: 39.0705\n",
      "Epoch 13/50\n",
      "4000/4000 [==============================] - 0s 18us/step - loss: 13.6232 - val_loss: 66.1771\n",
      "Epoch 14/50\n",
      "4000/4000 [==============================] - 0s 19us/step - loss: 13.8086 - val_loss: 94.0996\n",
      "Epoch 15/50\n",
      "4000/4000 [==============================] - 0s 18us/step - loss: 12.3589 - val_loss: 51.8773\n",
      "Epoch 16/50\n",
      "4000/4000 [==============================] - 0s 18us/step - loss: 13.3465 - val_loss: 153.1184\n",
      "Epoch 17/50\n",
      "4000/4000 [==============================] - 0s 18us/step - loss: 13.2069 - val_loss: 77.2074\n",
      "Epoch 18/50\n",
      "4000/4000 [==============================] - 0s 18us/step - loss: 13.0651 - val_loss: 29.4668\n",
      "Epoch 19/50\n",
      "4000/4000 [==============================] - 0s 18us/step - loss: 11.3514 - val_loss: 128.9692\n",
      "Epoch 20/50\n",
      "4000/4000 [==============================] - 0s 16us/step - loss: 14.0116 - val_loss: 22.7252\n",
      "Epoch 21/50\n",
      "4000/4000 [==============================] - 0s 16us/step - loss: 11.8453 - val_loss: 147.2069\n",
      "Epoch 22/50\n",
      "4000/4000 [==============================] - 0s 18us/step - loss: 12.0279 - val_loss: 103.3052\n",
      "Epoch 23/50\n",
      "4000/4000 [==============================] - 0s 15us/step - loss: 12.7482 - val_loss: 42.4372\n",
      "Epoch 24/50\n",
      "4000/4000 [==============================] - 0s 16us/step - loss: 13.2895 - val_loss: 92.8357\n",
      "Epoch 25/50\n",
      "4000/4000 [==============================] - 0s 14us/step - loss: 11.5999 - val_loss: 88.7039\n",
      "Epoch 26/50\n",
      "4000/4000 [==============================] - 0s 13us/step - loss: 13.2029 - val_loss: 108.7770\n",
      "Epoch 27/50\n",
      "4000/4000 [==============================] - 0s 12us/step - loss: 12.0163 - val_loss: 62.3545\n",
      "Epoch 28/50\n",
      "4000/4000 [==============================] - 0s 13us/step - loss: 11.3168 - val_loss: 148.7706\n",
      "Epoch 29/50\n",
      "4000/4000 [==============================] - 0s 14us/step - loss: 12.8396 - val_loss: 36.8621\n",
      "Epoch 30/50\n",
      "4000/4000 [==============================] - 0s 13us/step - loss: 12.6472 - val_loss: 80.8376\n",
      "Epoch 31/50\n",
      "4000/4000 [==============================] - 0s 13us/step - loss: 10.9913 - val_loss: 78.5148\n",
      "Epoch 32/50\n",
      "4000/4000 [==============================] - 0s 13us/step - loss: 11.4849 - val_loss: 20.3523\n",
      "Epoch 33/50\n",
      "4000/4000 [==============================] - 0s 13us/step - loss: 12.0497 - val_loss: 34.0032\n",
      "Epoch 34/50\n",
      "4000/4000 [==============================] - 0s 12us/step - loss: 12.4293 - val_loss: 65.6821\n",
      "Epoch 35/50\n",
      "4000/4000 [==============================] - 0s 13us/step - loss: 11.0807 - val_loss: 123.5063\n",
      "Epoch 36/50\n",
      "4000/4000 [==============================] - 0s 12us/step - loss: 11.9261 - val_loss: 90.4219\n",
      "Epoch 37/50\n",
      "4000/4000 [==============================] - 0s 13us/step - loss: 11.9742 - val_loss: 81.2198\n",
      "Epoch 38/50\n",
      "4000/4000 [==============================] - 0s 13us/step - loss: 11.7459 - val_loss: 57.9408\n",
      "Epoch 39/50\n",
      "4000/4000 [==============================] - 0s 13us/step - loss: 11.2237 - val_loss: 66.7516\n",
      "Epoch 40/50\n",
      "4000/4000 [==============================] - 0s 12us/step - loss: 11.3363 - val_loss: 101.4161\n",
      "Epoch 41/50\n",
      "4000/4000 [==============================] - 0s 15us/step - loss: 12.6305 - val_loss: 115.2679\n",
      "Epoch 42/50\n",
      "4000/4000 [==============================] - 0s 15us/step - loss: 10.4152 - val_loss: 38.3569\n",
      "Epoch 43/50\n",
      "4000/4000 [==============================] - 0s 12us/step - loss: 12.4546 - val_loss: 98.5942\n",
      "Epoch 44/50\n",
      "4000/4000 [==============================] - 0s 11us/step - loss: 10.4772 - val_loss: 67.2894\n",
      "Epoch 45/50\n",
      "4000/4000 [==============================] - 0s 14us/step - loss: 11.2498 - val_loss: 69.6099\n",
      "Epoch 46/50\n",
      "4000/4000 [==============================] - 0s 11us/step - loss: 11.5548 - val_loss: 69.5372\n",
      "Epoch 47/50\n",
      "4000/4000 [==============================] - 0s 12us/step - loss: 10.9610 - val_loss: 159.3629\n",
      "Epoch 48/50\n",
      "4000/4000 [==============================] - 0s 17us/step - loss: 11.4176 - val_loss: 17.2071\n",
      "Epoch 49/50\n",
      "4000/4000 [==============================] - 0s 13us/step - loss: 11.5306 - val_loss: 76.8174\n",
      "Epoch 50/50\n",
      "4000/4000 [==============================] - 0s 12us/step - loss: 11.3601 - val_loss: 22.2978\n"
     ]
    }
   ],
   "source": [
    "h = m.fit(x_train, y_train, batch_size=100, epochs=50, validation_split=0.2)"
   ]
  },
  {
   "cell_type": "code",
   "execution_count": 202,
   "metadata": {},
   "outputs": [],
   "source": [
    "def plot_metric(history, metric):\n",
    "    history_dict = history.history\n",
    "    values = history_dict[metric]\n",
    "    if 'val_' + metric in history_dict.keys():  \n",
    "        val_values = history_dict['val_' + metric]\n",
    "\n",
    "    epochs = range(1, len(values) + 1)\n",
    "\n",
    "    if 'val_' + metric in history_dict.keys():  \n",
    "        plt.plot(epochs, val_values, label='Validation')\n",
    "    plt.semilogy(epochs, values, label='Training')\n",
    "\n",
    "    if 'val_' + metric in history_dict.keys():  \n",
    "        plt.title('Training and validation %s' % metric)\n",
    "    else:\n",
    "        plt.title('Training %s' % metric)\n",
    "    plt.xlabel('Epochs')\n",
    "    plt.ylabel(metric.capitalize())\n",
    "    plt.legend()\n",
    "\n",
    "    plt.show()  "
   ]
  },
  {
   "cell_type": "code",
   "execution_count": 203,
   "metadata": {},
   "outputs": [
    {
     "data": {
      "image/png": "[encoded data removed]",
      "text/plain": [
       "<Figure size 432x288 with 1 Axes>"
      ]
     },
     "metadata": {
      "needs_background": "light"
     },
     "output_type": "display_data"
    }
   ],
   "source": [
    "plot_metric(h, 'loss')"
   ]
  },
  {
   "cell_type": "code",
   "execution_count": 204,
   "metadata": {},
   "outputs": [
    {
     "data": {
      "image/png": "[encoded data removed]",
      "text/plain": [
       "<Figure size 432x288 with 1 Axes>"
      ]
     },
     "metadata": {
      "needs_background": "light"
     },
     "output_type": "display_data"
    }
   ],
   "source": [
    "pred = m.predict(x_train)\n",
    "plt.plot(x_train, y_train, '--b')\n",
    "plt.plot(x_train, pred, '--k')\n",
    "plt.show()"
   ]
  },
  {
   "cell_type": "code",
   "execution_count": 205,
   "metadata": {},
   "outputs": [
    {
     "data": {
      "image/png": "[encoded data removed]",
      "text/plain": [
       "<Figure size 432x288 with 1 Axes>"
      ]
     },
     "metadata": {
      "needs_background": "light"
     },
     "output_type": "display_data"
    }
   ],
   "source": [
    "x_test=linspace(100,105,100)\n",
    "y_test=3*x_test + 2\n",
    "\n",
    "plt.plot(x_train, y_train, 'r')\n",
    "plt.plot(x_test, y_test, 'b')\n",
    "plt.show()\n"
   ]
  },
  {
   "cell_type": "code",
   "execution_count": 206,
   "metadata": {},
   "outputs": [
    {
     "data": {
      "image/png": "[encoded data removed]",
      "text/plain": [
       "<Figure size 432x288 with 1 Axes>"
      ]
     },
     "metadata": {
      "needs_background": "light"
     },
     "output_type": "display_data"
    }
   ],
   "source": [
    "pred = m.predict(x_test)\n",
    "plt.plot(x_train, y_train, 'r')\n",
    "plt.plot(x_test, y_test, 'r')\n",
    "plt.plot(x_test, pred, '--k')\n",
    "plt.show()"
   ]
  },
  {
   "cell_type": "code",
   "execution_count": null,
   "metadata": {},
   "outputs": [],
   "source": []
  },
  {
   "cell_type": "code",
   "execution_count": null,
   "metadata": {},
   "outputs": [],
   "source": []
  }
 ],
 "metadata": {
  "kernelspec": {
   "display_name": "Python [conda env:dl_win]",
   "language": "python",
   "name": "conda-env-dl_win-py"
  },
  "language_info": {
   "codemirror_mode": {
    "name": "ipython",
    "version": 3
   },
   "file_extension": ".py",
   "mimetype": "text/x-python",
   "name": "python",
   "nbconvert_exporter": "python",
   "pygments_lexer": "ipython3",
   "version": "3.6.6"
  }
 },
 "nbformat": 4,
 "nbformat_minor": 2
}
